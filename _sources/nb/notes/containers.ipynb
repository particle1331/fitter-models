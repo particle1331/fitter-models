{
 "cells": [
  {
   "cell_type": "markdown",
   "metadata": {},
   "source": [
    "(containers)=\n",
    "# Docker Containers"
   ]
  },
  {
   "cell_type": "markdown",
   "metadata": {},
   "source": [
    "![Status](https://img.shields.io/static/v1.svg?label=Status&message=Finished&color=brightgreen)\n",
    "[![Source](https://img.shields.io/static/v1.svg?label=GitHub&message=Source&color=181717&logo=GitHub)](https://github.com/particle1331/ok-transformer/blob/master/docs/nb/notes/containers.ipynb)\n",
    "[![Stars](https://img.shields.io/github/stars/particle1331/ok-transformer?style=social)](https://github.com/particle1331/ok-transformer)\n",
    "\n",
    "---\n",
    "\n",
    "**Readings:** [[Docker Guide]](https://docs.docker.com/language/python/)\n",
    "\n",
    "## Introduction"
   ]
  },
  {
   "cell_type": "markdown",
   "metadata": {},
   "source": [
    "Containerization solves the problem of running applications consistently with multiple dependencies on the same machine, or across multiple machines, by enabling **reproducible builds** of applications running in **lightweight isolated environments**. Moreover, containers can be easily pulled by other machines from a **container registry**. This is important for development and collaboration. \n",
    "Note that this assumes each machine runs a **container runtime**.\n",
    "In this notebook, we will use [Docker](https://www.docker.com/) which provides an ecosystem for efficiently working with containers."
   ]
  },
  {
   "cell_type": "markdown",
   "metadata": {},
   "source": [
    "### Hello world"
   ]
  },
  {
   "cell_type": "markdown",
   "metadata": {},
   "source": [
    "The following example demonstrates building and running a container:"
   ]
  },
  {
   "cell_type": "code",
   "execution_count": 1,
   "metadata": {},
   "outputs": [
    {
     "name": "stdout",
     "output_type": "stream",
     "text": [
      "Unable to find image 'hello-world:latest' locally\n"
     ]
    },
    {
     "name": "stdout",
     "output_type": "stream",
     "text": [
      "latest: Pulling from library/hello-world\n",
      "\n",
      "\u001b[1Bfc919002: Pull complete 195kB/3.195kBB\u001b[1A\u001b[2KDigest: sha256:ac69084025c660510933cca701f615283cdbb3aa0963188770b54c31c8962493\n",
      "Status: Downloaded newer image for hello-world:latest\n",
      "\n",
      "Hello from Docker!\n",
      "This message shows that your installation appears to be working correctly.\n",
      "\n",
      "To generate this message, Docker took the following steps:\n",
      " 1. The Docker client contacted the Docker daemon.\n",
      " 2. The Docker daemon pulled the \"hello-world\" image from the Docker Hub.\n",
      "    (arm64v8)\n",
      " 3. The Docker daemon created a new container from that image which runs the\n",
      "    executable that produces the output you are currently reading.\n",
      " 4. The Docker daemon streamed that output to the Docker client, which sent it\n",
      "    to your terminal.\n",
      "\n",
      "To try something more ambitious, you can run an Ubuntu container with:\n",
      " $ docker run -it ubuntu bash\n",
      "\n",
      "Share images, automate workflows, and more with a free Docker ID:\n",
      " https://hub.docker.com/\n",
      "\n",
      "For more examples and ideas, visit:\n",
      " https://docs.docker.com/get-started/\n",
      "\n"
     ]
    }
   ],
   "source": [
    "!docker run hello-world"
   ]
  },
  {
   "cell_type": "markdown",
   "metadata": {},
   "source": [
    "The above message tells the entire process of how the `hello-world` container eventually is able to run on our machine. The image was pulled on [Docker Hub](https://hub.docker.com/) which is a registry of Docker images. Note that the creation of images occurs locally since the local machine is also our compute layer. \n",
    "\n",
    "The container proceeds to run its default command, i.e. execute the `/hello` program that prints the message on the terminal. The `hello-world` image produces a minimal container whose sole purpose is to print this message."
   ]
  },
  {
   "cell_type": "markdown",
   "metadata": {},
   "source": [
    "```{figure} containers/img/00-helloworld.svg\n",
    "---\n",
    "name: helloworld\n",
    "width: 600px\n",
    "---\n",
    "Anatomy of a Docker image and the resulting `hello-world` container in the context of the Linux kernel. Note the specific partition on the hard disk for the filesystem of the image.  \n",
    "```"
   ]
  },
  {
   "cell_type": "markdown",
   "metadata": {},
   "source": [
    "An **image** is essentially a filesystem snapshot with startup commands. This can be thought of as a read-only template which provides the daemon a set of instructions for creating a container. A **container** on the other hand is a running process in the Linux VM with partitioned hardware resources allocated by the kernel."
   ]
  },
  {
   "cell_type": "markdown",
   "metadata": {},
   "source": [
    "**Remark.** It would be significantly faster to run the `hello-world` container a second time since Docker uses a **cache** to build it. This makes sense since multiple containers are usually created from the same image."
   ]
  },
  {
   "cell_type": "markdown",
   "metadata": {},
   "source": [
    "### Interactive mode"
   ]
  },
  {
   "cell_type": "markdown",
   "metadata": {},
   "source": [
    "As mentioned, containers have **isolated filesystems** by default. This means we can blow up a container and just create a fresh healthy container from the same image. This also ensures that our running processes will not affect the host computer which can be running other important processes. Running an [ubuntu](https://hub.docker.com/_/ubuntu) container in **detached** (`-d`) and **interactive mode** (`-it`): "
   ]
  },
  {
   "cell_type": "code",
   "execution_count": 2,
   "metadata": {},
   "outputs": [
    {
     "name": "stdout",
     "output_type": "stream",
     "text": [
      "Unable to find image 'ubuntu:latest' locally\n",
      "latest: Pulling from library/ubuntu\n",
      "\n",
      "\u001b[1BDigest: sha256:6042500cf4b44023ea1894effe7890666b0c5c7871ed83a97c36c76ae560bb9b[1A\u001b[2K\u001b[1A\u001b[2K\u001b[1A\u001b[2K\u001b[1A\u001b[2K\u001b[1A\u001b[2K\u001b[1A\u001b[2K\u001b[1A\u001b[2K\u001b[1A\u001b[2K\u001b[1A\u001b[2K\u001b[1A\u001b[2K\u001b[1A\u001b[2K\u001b[1A\u001b[2K\u001b[1A\u001b[2K\u001b[1A\u001b[2K\u001b[1A\u001b[2K\u001b[1A\u001b[2K\u001b[1A\u001b[2K\u001b[1A\u001b[2K\u001b[1A\u001b[2K\u001b[1A\u001b[2K\u001b[1A\u001b[2K\u001b[1A\u001b[2K\u001b[1A\u001b[2K\u001b[1A\u001b[2K\u001b[1A\u001b[2K\u001b[1A\u001b[2K\u001b[1A\u001b[2K\u001b[1A\u001b[2K\u001b[1A\u001b[2K\u001b[1A\u001b[2K\u001b[1A\u001b[2K\u001b[1A\u001b[2K\u001b[1A\u001b[2K\u001b[1A\u001b[2K\u001b[1A\u001b[2K\u001b[1A\u001b[2K\u001b[1A\u001b[2K\u001b[1A\u001b[2K\u001b[1A\u001b[2K\u001b[1A\u001b[2K\u001b[1A\u001b[2K\u001b[1A\u001b[2K\u001b[1A\u001b[2K\u001b[1A\u001b[2K\u001b[1A\u001b[2K\u001b[1A\u001b[2K\u001b[1A\u001b[2K\n",
      "Status: Downloaded newer image for ubuntu:latest\n",
      "01aa51ea6dee2d6979609d9f3695ed0a150723283943c64c41a40e86867acaab\n"
     ]
    }
   ],
   "source": [
    "!docker run -d -it --name ubuntu0 ubuntu"
   ]
  },
  {
   "cell_type": "markdown",
   "metadata": {},
   "source": [
    "This allows us to use the CLI inside the container using `docker exec`:"
   ]
  },
  {
   "cell_type": "code",
   "execution_count": 3,
   "metadata": {},
   "outputs": [
    {
     "name": "stdout",
     "output_type": "stream",
     "text": [
      "bin   dev  home  media\topt   root  sbin  sys  usr\n",
      "boot  etc  lib\t mnt\tproc  run   srv   tmp  var\n",
      "OCI runtime exec failed: exec failed: unable to start container process: exec: \"ls\": executable file not found in $PATH: unknown\n"
     ]
    }
   ],
   "source": [
    "!docker exec ubuntu0 ls -C\n",
    "!docker exec ubuntu0 rm -rf bin/ls\n",
    "!docker exec ubuntu0 ls -C\n",
    "!docker stop ubuntu0 > /dev/null"
   ]
  },
  {
   "cell_type": "markdown",
   "metadata": {},
   "source": [
    "Creating a fresh container that can run `ls`. Note that the container ID is different:"
   ]
  },
  {
   "cell_type": "code",
   "execution_count": 4,
   "metadata": {},
   "outputs": [
    {
     "name": "stdout",
     "output_type": "stream",
     "text": [
      "68379450fe0cd1e6ae70bd30b739107f8e0d235bc7a0c0325498cd3ce3e12537\n",
      "bin   dev  home  media\topt   root  sbin  sys  usr\n",
      "boot  etc  lib\t mnt\tproc  run   srv   tmp  var\n"
     ]
    }
   ],
   "source": [
    "!docker run -d -it --name ubuntu1 ubuntu\n",
    "!docker exec ubuntu1 ls -C\n",
    "!docker stop ubuntu1 > /dev/null"
   ]
  },
  {
   "cell_type": "markdown",
   "metadata": {},
   "source": [
    "### Other commands"
   ]
  },
  {
   "cell_type": "markdown",
   "metadata": {},
   "source": [
    "Listing all containers and images:"
   ]
  },
  {
   "cell_type": "code",
   "execution_count": 5,
   "metadata": {},
   "outputs": [
    {
     "name": "stdout",
     "output_type": "stream",
     "text": [
      "CONTAINER ID   IMAGE         COMMAND       CREATED          STATUS                                PORTS     NAMES\n",
      "68379450fe0c   ubuntu        \"/bin/bash\"   12 seconds ago   Exited (137) Less than a second ago             ubuntu1\n",
      "01aa51ea6dee   ubuntu        \"/bin/bash\"   25 seconds ago   Exited (137) 12 seconds ago                     ubuntu0\n",
      "587138c99675   hello-world   \"/hello\"      42 seconds ago   Exited (0) 41 seconds ago                       confident_gagarin\n"
     ]
    }
   ],
   "source": [
    "!docker ps --all"
   ]
  },
  {
   "cell_type": "code",
   "execution_count": 6,
   "metadata": {},
   "outputs": [
    {
     "name": "stdout",
     "output_type": "stream",
     "text": [
      "REPOSITORY    TAG       IMAGE ID       CREATED        SIZE\n",
      "ubuntu        latest    da935f064913   2 weeks ago    69.3MB\n",
      "hello-world   latest    ee301c921b8a   7 months ago   9.14kB\n"
     ]
    }
   ],
   "source": [
    "!docker image ls"
   ]
  },
  {
   "cell_type": "markdown",
   "metadata": {},
   "source": [
    "**Remark.** The `hello-world` container immediately exited after running with exit status zero since no errors were encountered. The other containers continue running since they are run in interactive mode. \n",
    "\n",
    "To stop containers, we can use either `stop` or `kill`. The `stop` command sends a SIGTERM to the running process. This gives 10 seconds for cleanup, then a fallback SIGKILL is sent to immediately terminate the process. See {numref}`lifecycle` and [restart policies](https://docs.docker.com/engine/reference/run/#restart-policies---restart) docs."
   ]
  },
  {
   "cell_type": "markdown",
   "metadata": {},
   "source": [
    "```{figure} containers/img/00-lifecycle.png\n",
    "---\n",
    "name: lifecycle\n",
    "---\n",
    "Complete Docker container lifecycle. [[source](https://docker-saigon.github.io/post/Docker-Internals/)]\n",
    "\n",
    "```"
   ]
  },
  {
   "cell_type": "markdown",
   "metadata": {},
   "source": [
    "## Docker build"
   ]
  },
  {
   "cell_type": "markdown",
   "metadata": {},
   "source": [
    "Throughout the above examples we have been using public images from Docker Hub. \n",
    "In this section, we create our own images for running our own containers. Our custom images can be pushed to container\n",
    "repositories, such as Docker Hub or [ECR](https://aws.amazon.com/ecr/), which our servers can pull \n",
    "to run our containers remotely. To do this, Docker requires us to create a `Dockerfile` which specifies the container build process."
   ]
  },
  {
   "cell_type": "code",
   "execution_count": 7,
   "metadata": {},
   "outputs": [
    {
     "name": "stdout",
     "output_type": "stream",
     "text": [
      "\u001b[01;34m./simple-fastapi\u001b[0m\n",
      "├── \u001b[00mDockerfile\u001b[0m\n",
      "├── \u001b[00mrequirements.txt\u001b[0m\n",
      "└── \u001b[01;34msrc\u001b[0m\n",
      "    └── \u001b[00mmain.py\u001b[0m\n",
      "\n",
      "2 directories, 3 files\n"
     ]
    }
   ],
   "source": [
    "import os; os.chdir(\"./containers/\")\n",
    "!tree ./simple-fastapi -I __pycache__"
   ]
  },
  {
   "cell_type": "markdown",
   "metadata": {},
   "source": [
    "The web app simply prints a message when the root URI is called:"
   ]
  },
  {
   "cell_type": "code",
   "execution_count": 8,
   "metadata": {},
   "outputs": [
    {
     "name": "stdout",
     "output_type": "stream",
     "text": [
      "\u001b[38;2;0;128;0;01mfrom\u001b[39;00m \u001b[38;2;0;0;255;01mfastapi\u001b[39;00m \u001b[38;2;0;128;0;01mimport\u001b[39;00m FastAPI\n",
      "\n",
      "app \u001b[38;2;102;102;102m=\u001b[39m FastAPI()\n",
      "\n",
      "\u001b[38;2;170;34;255m@app\u001b[39m\u001b[38;2;102;102;102m.\u001b[39mget(\u001b[38;2;186;33;33m\"\u001b[39m\u001b[38;2;186;33;33m/\u001b[39m\u001b[38;2;186;33;33m\"\u001b[39m)\n",
      "\u001b[38;2;0;128;0;01mdef\u001b[39;00m \u001b[38;2;0;0;255mroot\u001b[39m():\n",
      "    \u001b[38;2;0;128;0;01mreturn\u001b[39;00m {\u001b[38;2;186;33;33m\"\u001b[39m\u001b[38;2;186;33;33mmessage\u001b[39m\u001b[38;2;186;33;33m\"\u001b[39m: \u001b[38;2;186;33;33m\"\u001b[39m\u001b[38;2;186;33;33mHello world!\u001b[39m\u001b[38;2;186;33;33m\"\u001b[39m}\n"
     ]
    }
   ],
   "source": [
    "!pygmentize ./simple-fastapi/src/main.py"
   ]
  },
  {
   "cell_type": "markdown",
   "metadata": {},
   "source": [
    "### Dockerfile"
   ]
  },
  {
   "cell_type": "markdown",
   "metadata": {},
   "source": [
    "The following `Dockerfile` uses `python:3.10-slim` as **base image**. This `slim` image is a smaller version of a container running Python 3.10, but still larger than `alpine`. The next lines serve to modify the base image. First, it specifies `/code` as the **working directory**. This is where all subsequent build commands will be executed. \n",
    "\n",
    "The copy command copies files in the build folder to a path relative to the working directory. Next, we call `pip` with certain flags so that it does not cache the installs, making the container smaller. Note that we use `ENTRYPOINT` instead of `CMD`. The latter can be [overridden during run](https://spacelift.io/blog/docker-entrypoint-vs-cmd)."
   ]
  },
  {
   "cell_type": "code",
   "execution_count": 9,
   "metadata": {},
   "outputs": [
    {
     "name": "stdout",
     "output_type": "stream",
     "text": [
      "\u001b[38;2;0;128;0;01mFROM\u001b[39;00m\u001b[38;2;187;187;187m \u001b[39m\u001b[38;2;186;33;33mpython:3.10-slim\u001b[39m\n",
      "\n",
      "\u001b[38;2;0;128;0;01mWORKDIR\u001b[39;00m\u001b[38;2;187;187;187m \u001b[39m\u001b[38;2;186;33;33m/code\u001b[39m\n",
      "\n",
      "\u001b[38;2;0;128;0;01mCOPY\u001b[39;00m\u001b[38;2;187;187;187m \u001b[39m./requirements.txt\u001b[38;2;187;187;187m \u001b[39m./\n",
      "\u001b[38;2;0;128;0;01mRUN\u001b[39;00m\u001b[38;2;187;187;187m \u001b[39mpip\u001b[38;2;187;187;187m \u001b[39minstall\u001b[38;2;187;187;187m \u001b[39m--no-cache-dir\u001b[38;2;187;187;187m \u001b[39m--upgrade\u001b[38;2;187;187;187m \u001b[39m-r\u001b[38;2;187;187;187m \u001b[39mrequirements.txt\n",
      "\n",
      "\u001b[38;2;0;128;0;01mCOPY\u001b[39;00m\u001b[38;2;187;187;187m \u001b[39m./src\u001b[38;2;187;187;187m \u001b[39m./src\n",
      "\n",
      "\u001b[38;2;0;128;0;01mENTRYPOINT\u001b[39;00m\u001b[38;2;187;187;187m \u001b[39m[\u001b[38;2;186;33;33m\"uvicorn\"\u001b[39m,\u001b[38;2;187;187;187m \u001b[39m\u001b[38;2;186;33;33m\"src.main:app\"\u001b[39m,\u001b[38;2;187;187;187m \u001b[39m\u001b[38;2;186;33;33m\"--host\"\u001b[39m,\u001b[38;2;187;187;187m \u001b[39m\u001b[38;2;186;33;33m\"0.0.0.0\"\u001b[39m,\u001b[38;2;187;187;187m \u001b[39m\u001b[38;2;186;33;33m\"--port\"\u001b[39m,\u001b[38;2;187;187;187m \u001b[39m\u001b[38;2;186;33;33m\"80\"\u001b[39m]\n"
     ]
    }
   ],
   "source": [
    "!pygmentize ./simple-fastapi/Dockerfile"
   ]
  },
  {
   "cell_type": "markdown",
   "metadata": {},
   "source": [
    "Building the image. Using the `-t` flag, we add an **image path** (this defaults to the `latest` [tag](https://docs.docker.com/engine/reference/commandline/tag/)):"
   ]
  },
  {
   "cell_type": "code",
   "execution_count": 10,
   "metadata": {
    "tags": [
     "hide-output"
    ]
   },
   "outputs": [
    {
     "name": "stdout",
     "output_type": "stream",
     "text": [
      "\u001b[1A\u001b[1B\u001b[0G\u001b[?25l[+] Building 0.0s (0/1)                                                         \n",
      "\u001b[?25h\u001b[1A\u001b[0G\u001b[?25l[+] Building 0.1s (2/3)                                                         \n",
      "\u001b[34m => [internal] load build definition from Dockerfile                       0.0s\n",
      "\u001b[0m\u001b[34m => => transferring dockerfile: 37B                                        0.0s\n",
      "\u001b[0m\u001b[34m => [internal] load .dockerignore                                          0.0s\n",
      "\u001b[0m\u001b[34m => => transferring context: 2B                                            0.0s\n",
      "\u001b[0m => [internal] load metadata for docker.io/library/python:3.10-slim        0.0s\n",
      "\u001b[?25h\u001b[1A\u001b[1A\u001b[1A\u001b[1A\u001b[1A\u001b[1A\u001b[0G\u001b[?25l[+] Building 0.3s (2/3)                                                         \n",
      "\u001b[34m => [internal] load build definition from Dockerfile                       0.0s\n",
      "\u001b[0m\u001b[34m => => transferring dockerfile: 37B                                        0.0s\n",
      "\u001b[0m\u001b[34m => [internal] load .dockerignore                                          0.0s\n",
      "\u001b[0m\u001b[34m => => transferring context: 2B                                            0.0s\n",
      "\u001b[0m => [internal] load metadata for docker.io/library/python:3.10-slim        0.2s\n",
      "\u001b[?25h\u001b[1A\u001b[1A\u001b[1A\u001b[1A\u001b[1A\u001b[1A\u001b[0G\u001b[?25l[+] Building 0.4s (2/3)                                                         \n",
      "\u001b[34m => [internal] load build definition from Dockerfile                       0.0s\n",
      "\u001b[0m\u001b[34m => => transferring dockerfile: 37B                                        0.0s\n",
      "\u001b[0m\u001b[34m => [internal] load .dockerignore                                          0.0s\n",
      "\u001b[0m\u001b[34m => => transferring context: 2B                                            0.0s\n",
      "\u001b[0m => [internal] load metadata for docker.io/library/python:3.10-slim        0.3s\n",
      "\u001b[?25h\u001b[1A\u001b[1A\u001b[1A\u001b[1A\u001b[1A\u001b[1A\u001b[0G\u001b[?25l[+] Building 0.6s (2/3)                                                         \n",
      "\u001b[34m => [internal] load build definition from Dockerfile                       0.0s\n",
      "\u001b[0m\u001b[34m => => transferring dockerfile: 37B                                        0.0s\n",
      "\u001b[0m\u001b[34m => [internal] load .dockerignore                                          0.0s\n",
      "\u001b[0m\u001b[34m => => transferring context: 2B                                            0.0s\n",
      "\u001b[0m => [internal] load metadata for docker.io/library/python:3.10-slim        0.5s\n",
      "\u001b[?25h\u001b[1A\u001b[1A\u001b[1A\u001b[1A\u001b[1A\u001b[1A\u001b[0G\u001b[?25l[+] Building 0.7s (2/3)                                                         \n",
      "\u001b[34m => [internal] load build definition from Dockerfile                       0.0s\n",
      "\u001b[0m\u001b[34m => => transferring dockerfile: 37B                                        0.0s\n",
      "\u001b[0m\u001b[34m => [internal] load .dockerignore                                          0.0s\n",
      "\u001b[0m\u001b[34m => => transferring context: 2B                                            0.0s\n",
      "\u001b[0m => [internal] load metadata for docker.io/library/python:3.10-slim        0.6s\n",
      "\u001b[?25h\u001b[1A\u001b[1A\u001b[1A\u001b[1A\u001b[1A\u001b[1A\u001b[0G\u001b[?25l[+] Building 0.9s (2/3)                                                         \n",
      "\u001b[34m => [internal] load build definition from Dockerfile                       0.0s\n",
      "\u001b[0m\u001b[34m => => transferring dockerfile: 37B                                        0.0s\n",
      "\u001b[0m\u001b[34m => [internal] load .dockerignore                                          0.0s\n",
      "\u001b[0m\u001b[34m => => transferring context: 2B                                            0.0s\n",
      "\u001b[0m => [internal] load metadata for docker.io/library/python:3.10-slim        0.8s\n",
      "\u001b[?25h\u001b[1A\u001b[1A\u001b[1A\u001b[1A\u001b[1A\u001b[1A\u001b[0G\u001b[?25l[+] Building 1.0s (2/3)                                                         \n",
      "\u001b[34m => [internal] load build definition from Dockerfile                       0.0s\n",
      "\u001b[0m\u001b[34m => => transferring dockerfile: 37B                                        0.0s\n",
      "\u001b[0m\u001b[34m => [internal] load .dockerignore                                          0.0s\n",
      "\u001b[0m\u001b[34m => => transferring context: 2B                                            0.0s\n",
      "\u001b[0m => [internal] load metadata for docker.io/library/python:3.10-slim        0.9s\n",
      "\u001b[?25h\u001b[1A\u001b[1A\u001b[1A\u001b[1A\u001b[1A\u001b[1A\u001b[0G\u001b[?25l[+] Building 1.2s (2/3)                                                         \n",
      "\u001b[34m => [internal] load build definition from Dockerfile                       0.0s\n",
      "\u001b[0m\u001b[34m => => transferring dockerfile: 37B                                        0.0s\n",
      "\u001b[0m\u001b[34m => [internal] load .dockerignore                                          0.0s\n",
      "\u001b[0m\u001b[34m => => transferring context: 2B                                            0.0s\n",
      "\u001b[0m => [internal] load metadata for docker.io/library/python:3.10-slim        1.1s\n",
      "\u001b[?25h\u001b[1A\u001b[1A\u001b[1A\u001b[1A\u001b[1A\u001b[1A\u001b[0G\u001b[?25l[+] Building 1.3s (2/3)                                                         \n",
      "\u001b[34m => [internal] load build definition from Dockerfile                       0.0s\n",
      "\u001b[0m\u001b[34m => => transferring dockerfile: 37B                                        0.0s\n",
      "\u001b[0m\u001b[34m => [internal] load .dockerignore                                          0.0s\n",
      "\u001b[0m\u001b[34m => => transferring context: 2B                                            0.0s\n",
      "\u001b[0m => [internal] load metadata for docker.io/library/python:3.10-slim        1.2s\n",
      "\u001b[?25h\u001b[1A\u001b[1A\u001b[1A\u001b[1A\u001b[1A\u001b[1A\u001b[0G\u001b[?25l[+] Building 1.5s (2/3)                                                         \n",
      "\u001b[34m => [internal] load build definition from Dockerfile                       0.0s\n",
      "\u001b[0m\u001b[34m => => transferring dockerfile: 37B                                        0.0s\n",
      "\u001b[0m\u001b[34m => [internal] load .dockerignore                                          0.0s\n",
      "\u001b[0m\u001b[34m => => transferring context: 2B                                            0.0s\n",
      "\u001b[0m => [internal] load metadata for docker.io/library/python:3.10-slim        1.4s\n",
      "\u001b[?25h\u001b[1A\u001b[1A\u001b[1A\u001b[1A\u001b[1A\u001b[1A\u001b[0G\u001b[?25l[+] Building 1.6s (2/3)                                                         \n",
      "\u001b[34m => [internal] load build definition from Dockerfile                       0.0s\n",
      "\u001b[0m\u001b[34m => => transferring dockerfile: 37B                                        0.0s\n",
      "\u001b[0m\u001b[34m => [internal] load .dockerignore                                          0.0s\n",
      "\u001b[0m\u001b[34m => => transferring context: 2B                                            0.0s\n",
      "\u001b[0m => [internal] load metadata for docker.io/library/python:3.10-slim        1.5s\n",
      "\u001b[?25h\u001b[1A\u001b[1A\u001b[1A\u001b[1A\u001b[1A\u001b[1A\u001b[0G\u001b[?25l[+] Building 1.8s (2/3)                                                         \n",
      "\u001b[34m => [internal] load build definition from Dockerfile                       0.0s\n",
      "\u001b[0m\u001b[34m => => transferring dockerfile: 37B                                        0.0s\n",
      "\u001b[0m\u001b[34m => [internal] load .dockerignore                                          0.0s\n",
      "\u001b[0m\u001b[34m => => transferring context: 2B                                            0.0s\n",
      "\u001b[0m => [internal] load metadata for docker.io/library/python:3.10-slim        1.7s\n",
      "\u001b[?25h\u001b[1A\u001b[1A\u001b[1A\u001b[1A\u001b[1A\u001b[1A\u001b[0G\u001b[?25l[+] Building 1.9s (2/3)                                                         \n",
      "\u001b[34m => [internal] load build definition from Dockerfile                       0.0s\n",
      "\u001b[0m\u001b[34m => => transferring dockerfile: 37B                                        0.0s\n",
      "\u001b[0m\u001b[34m => [internal] load .dockerignore                                          0.0s\n",
      "\u001b[0m\u001b[34m => => transferring context: 2B                                            0.0s\n",
      "\u001b[0m => [internal] load metadata for docker.io/library/python:3.10-slim        1.8s\n",
      "\u001b[?25h\u001b[1A\u001b[1A\u001b[1A\u001b[1A\u001b[1A\u001b[1A\u001b[0G\u001b[?25l[+] Building 2.1s (2/3)                                                         \n",
      "\u001b[34m => [internal] load build definition from Dockerfile                       0.0s\n",
      "\u001b[0m\u001b[34m => => transferring dockerfile: 37B                                        0.0s\n",
      "\u001b[0m\u001b[34m => [internal] load .dockerignore                                          0.0s\n",
      "\u001b[0m\u001b[34m => => transferring context: 2B                                            0.0s\n",
      "\u001b[0m => [internal] load metadata for docker.io/library/python:3.10-slim        2.0s\n",
      "\u001b[?25h\u001b[1A\u001b[1A\u001b[1A\u001b[1A\u001b[1A\u001b[1A\u001b[0G\u001b[?25l[+] Building 2.2s (2/3)                                                         \n",
      "\u001b[34m => [internal] load build definition from Dockerfile                       0.0s\n",
      "\u001b[0m\u001b[34m => => transferring dockerfile: 37B                                        0.0s\n",
      "\u001b[0m\u001b[34m => [internal] load .dockerignore                                          0.0s\n",
      "\u001b[0m\u001b[34m => => transferring context: 2B                                            0.0s\n",
      "\u001b[0m => [internal] load metadata for docker.io/library/python:3.10-slim        2.1s\n",
      "\u001b[?25h\u001b[1A\u001b[1A\u001b[1A\u001b[1A\u001b[1A\u001b[1A\u001b[0G\u001b[?25l[+] Building 2.4s (2/3)                                                         \n",
      "\u001b[34m => [internal] load build definition from Dockerfile                       0.0s\n",
      "\u001b[0m\u001b[34m => => transferring dockerfile: 37B                                        0.0s\n",
      "\u001b[0m\u001b[34m => [internal] load .dockerignore                                          0.0s\n",
      "\u001b[0m\u001b[34m => => transferring context: 2B                                            0.0s\n",
      "\u001b[0m => [internal] load metadata for docker.io/library/python:3.10-slim        2.3s\n",
      "\u001b[?25h\u001b[1A\u001b[1A\u001b[1A\u001b[1A\u001b[1A\u001b[1A\u001b[0G\u001b[?25l[+] Building 2.5s (2/3)                                                         \n",
      "\u001b[34m => [internal] load build definition from Dockerfile                       0.0s\n",
      "\u001b[0m\u001b[34m => => transferring dockerfile: 37B                                        0.0s\n",
      "\u001b[0m\u001b[34m => [internal] load .dockerignore                                          0.0s\n",
      "\u001b[0m\u001b[34m => => transferring context: 2B                                            0.0s\n",
      "\u001b[0m => [internal] load metadata for docker.io/library/python:3.10-slim        2.4s\n",
      "\u001b[?25h\u001b[1A\u001b[1A\u001b[1A\u001b[1A\u001b[1A\u001b[1A\u001b[0G\u001b[?25l[+] Building 2.6s (5/9)                                                         \n",
      "\u001b[34m => [internal] load build definition from Dockerfile                       0.0s\n",
      "\u001b[0m\u001b[34m => => transferring dockerfile: 37B                                        0.0s\n",
      "\u001b[0m\u001b[34m => [internal] load .dockerignore                                          0.0s\n",
      "\u001b[0m\u001b[34m => => transferring context: 2B                                            0.0s\n",
      "\u001b[0m\u001b[34m => [internal] load metadata for docker.io/library/python:3.10-slim        2.5s\n",
      "\u001b[0m\u001b[34m => [internal] load build context                                          0.0s\n",
      "\u001b[0m\u001b[34m => => transferring context: 627B                                          0.0s\n",
      "\u001b[0m\u001b[34m => [1/5] FROM docker.io/library/python:3.10-slim@sha256:25f03d17398b3f00  0.0s\n",
      "\u001b[0m\u001b[?25h\u001b[1A\u001b[1A\u001b[1A\u001b[1A\u001b[1A\u001b[1A\u001b[1A\u001b[1A\u001b[1A\u001b[0G\u001b[?25l[+] Building 2.7s (10/10) FINISHED                                              \n",
      "\u001b[34m => [internal] load build definition from Dockerfile                       0.0s\n",
      "\u001b[0m\u001b[34m => => transferring dockerfile: 37B                                        0.0s\n",
      "\u001b[0m\u001b[34m => [internal] load .dockerignore                                          0.0s\n",
      "\u001b[0m\u001b[34m => => transferring context: 2B                                            0.0s\n",
      "\u001b[0m\u001b[34m => [internal] load metadata for docker.io/library/python:3.10-slim        2.5s\n",
      "\u001b[0m\u001b[34m => [internal] load build context                                          0.0s\n",
      "\u001b[0m\u001b[34m => => transferring context: 627B                                          0.0s\n",
      "\u001b[0m\u001b[34m => [1/5] FROM docker.io/library/python:3.10-slim@sha256:25f03d17398b3f00  0.0s\n",
      "\u001b[0m\u001b[34m => CACHED [2/5] WORKDIR /code                                             0.0s\n",
      "\u001b[0m\u001b[34m => CACHED [3/5] COPY ./requirements.txt ./                                0.0s\n",
      "\u001b[0m\u001b[34m => CACHED [4/5] RUN pip install --no-cache-dir --upgrade -r requirements  0.0s\n",
      "\u001b[0m\u001b[34m => CACHED [5/5] COPY ./src ./src                                          0.0s\n",
      "\u001b[0m\u001b[34m => exporting to image                                                     0.0s\n",
      "\u001b[0m\u001b[34m => => exporting layers                                                    0.0s\n",
      "\u001b[0m\u001b[34m => => writing image sha256:67acde1baf9495ebb79bccb14f5c34f6b114958bfab1c  0.0s\n",
      "\u001b[0m\u001b[34m => => naming to docker.io/okt/simple-fastapi                              0.0s\n",
      "\u001b[0m\u001b[?25h"
     ]
    }
   ],
   "source": [
    "!docker build ./simple-fastapi -t okt/simple-fastapi"
   ]
  },
  {
   "cell_type": "markdown",
   "metadata": {},
   "source": [
    "### Cached layers"
   ]
  },
  {
   "cell_type": "markdown",
   "metadata": {},
   "source": [
    "The order of Dockerfile instructions matters. Each instruction in a Dockerfile roughly translates to an **image layer**. The layers are cached in the build process. Hence, changes in one layer destroys the cache of subsequent layers. This is known as **cache busting**. This explains why requirements are installed first in the `Dockerfile` before source code is copied, so that modifying the source does not result in reinstalling the dependencies ({numref}`cache`)."
   ]
  },
  {
   "cell_type": "markdown",
   "metadata": {},
   "source": [
    "The following created timestamps indicate cached layers in our previous build:"
   ]
  },
  {
   "cell_type": "code",
   "execution_count": 11,
   "metadata": {},
   "outputs": [
    {
     "name": "stdout",
     "output_type": "stream",
     "text": [
      "IMAGE          CREATED             CREATED BY                                      SIZE      COMMENT\n",
      "67acde1baf94   About an hour ago   ENTRYPOINT [\"uvicorn\" \"src.main:app\" \"--host…   0B        buildkit.dockerfile.v0\n",
      "<missing>      About an hour ago   COPY ./src ./src # buildkit                     425B      buildkit.dockerfile.v0\n",
      "<missing>      4 hours ago         RUN /bin/sh -c pip install --no-cache-dir --…   18.7MB    buildkit.dockerfile.v0\n",
      "<missing>      4 hours ago         COPY ./requirements.txt ./ # buildkit           25B       buildkit.dockerfile.v0\n",
      "<missing>      4 hours ago         WORKDIR /code                                   0B        buildkit.dockerfile.v0\n",
      "<missing>      2 months ago        CMD [\"python3\"]                                 0B        buildkit.dockerfile.v0\n",
      "<missing>      2 months ago        RUN /bin/sh -c set -eux;   savedAptMark=\"$(a…   12.2MB    buildkit.dockerfile.v0\n",
      "<missing>      2 months ago        ENV PYTHON_GET_PIP_SHA256=9cc01665956d22b3bf…   0B        buildkit.dockerfile.v0\n",
      "<missing>      2 months ago        ENV PYTHON_GET_PIP_URL=https://github.com/py…   0B        buildkit.dockerfile.v0\n",
      "<missing>      2 months ago        ENV PYTHON_SETUPTOOLS_VERSION=65.5.1            0B        buildkit.dockerfile.v0\n",
      "<missing>      2 months ago        ENV PYTHON_PIP_VERSION=23.0.1                   0B        buildkit.dockerfile.v0\n",
      "<missing>      2 months ago        RUN /bin/sh -c set -eux;  for src in idle3 p…   32B       buildkit.dockerfile.v0\n",
      "<missing>      2 months ago        RUN /bin/sh -c set -eux;   savedAptMark=\"$(a…   35.5MB    buildkit.dockerfile.v0\n",
      "<missing>      2 months ago        ENV PYTHON_VERSION=3.10.13                      0B        buildkit.dockerfile.v0\n",
      "<missing>      2 months ago        ENV GPG_KEY=A035C8C19219BA821ECEA86B64E628F8…   0B        buildkit.dockerfile.v0\n",
      "<missing>      2 months ago        RUN /bin/sh -c set -eux;  apt-get update;  a…   9.11MB    buildkit.dockerfile.v0\n",
      "<missing>      2 months ago        ENV LANG=C.UTF-8                                0B        buildkit.dockerfile.v0\n",
      "<missing>      2 months ago        ENV PATH=/usr/local/bin:/usr/local/sbin:/usr…   0B        buildkit.dockerfile.v0\n",
      "<missing>      8 days ago          /bin/sh -c #(nop)  CMD [\"bash\"]                 0B        \n",
      "<missing>      8 days ago          /bin/sh -c #(nop) ADD file:262fd7bf0bc26e5d2…   97.1MB    \n"
     ]
    }
   ],
   "source": [
    "!docker history okt/simple-fastapi"
   ]
  },
  {
   "cell_type": "markdown",
   "metadata": {},
   "source": [
    "<br>"
   ]
  },
  {
   "cell_type": "markdown",
   "metadata": {},
   "source": [
    "```{figure} containers/img/layers.png\n",
    "---\n",
    "name: layers\n",
    "width: 600px\n",
    "---\n",
    "Dockerfile translates into a stack of layers in a container image. [Source](https://docs.docker.com/build/guide/layers/)\n",
    "```"
   ]
  },
  {
   "cell_type": "markdown",
   "metadata": {},
   "source": [
    "```{figure} containers/img/00-cache-busting.svg\n",
    "---\n",
    "name: cache\n",
    "width: 600px\n",
    "---\n",
    "Busting an expensive cached layer (left). Cache optimized version (right).\n",
    "```"
   ]
  },
  {
   "cell_type": "markdown",
   "metadata": {},
   "source": [
    "Listing the built image:"
   ]
  },
  {
   "cell_type": "code",
   "execution_count": 12,
   "metadata": {},
   "outputs": [
    {
     "name": "stdout",
     "output_type": "stream",
     "text": [
      "REPOSITORY           TAG       IMAGE ID       CREATED             SIZE\n",
      "okt/simple-fastapi   latest    67acde1baf94   About an hour ago   173MB\n",
      "ubuntu               latest    da935f064913   2 weeks ago         69.3MB\n",
      "hello-world          latest    ee301c921b8a   7 months ago        9.14kB\n"
     ]
    }
   ],
   "source": [
    "!docker image ls"
   ]
  },
  {
   "cell_type": "markdown",
   "metadata": {},
   "source": [
    "### Port mapping"
   ]
  },
  {
   "cell_type": "markdown",
   "metadata": {},
   "source": [
    "Note that the app runs in port `0.0.0.0:80` inside the container. We will expose this to our local machine by **port mapping** it to `localhost:8000`. Running the image in detached mode:"
   ]
  },
  {
   "cell_type": "code",
   "execution_count": 13,
   "metadata": {},
   "outputs": [
    {
     "name": "stdout",
     "output_type": "stream",
     "text": [
      "15692290b3f217c0adee9ad011c3e268f3ab769430413e0c2bca60ad4740b883\n"
     ]
    }
   ],
   "source": [
    "!docker run -d -p 8000:80 --name fastapi okt/simple-fastapi:latest"
   ]
  },
  {
   "cell_type": "code",
   "execution_count": 14,
   "metadata": {},
   "outputs": [
    {
     "name": "stdout",
     "output_type": "stream",
     "text": [
      "CONTAINER ID   IMAGE                       COMMAND                  CREATED         STATUS                  PORTS                  NAMES\n",
      "15692290b3f2   okt/simple-fastapi:latest   \"uvicorn src.main:ap…\"   2 seconds ago   Up Less than a second   0.0.0.0:8000->80/tcp   fastapi\n"
     ]
    }
   ],
   "source": [
    "!docker ps"
   ]
  },
  {
   "cell_type": "code",
   "execution_count": 15,
   "metadata": {
    "tags": [
     "remove-cell"
    ]
   },
   "outputs": [],
   "source": [
    "import time\n",
    "time.sleep(2)"
   ]
  },
  {
   "cell_type": "markdown",
   "metadata": {},
   "source": [
    "Trying it out:"
   ]
  },
  {
   "cell_type": "code",
   "execution_count": 16,
   "metadata": {},
   "outputs": [
    {
     "name": "stdout",
     "output_type": "stream",
     "text": [
      "\u001b[34mHTTP\u001b[39;49;00m/\u001b[34m1.1\u001b[39;49;00m \u001b[34m200\u001b[39;49;00m \u001b[36mOK\u001b[39;49;00m\n",
      "\u001b[36mcontent-length\u001b[39;49;00m: 26\n",
      "\u001b[36mcontent-type\u001b[39;49;00m: application/json\n",
      "\u001b[36mdate\u001b[39;49;00m: Wed, 27 Dec 2023 23:26:06 GMT\n",
      "\u001b[36mserver\u001b[39;49;00m: uvicorn\n",
      "\n",
      "{\u001b[37m\u001b[39;49;00m\n",
      "\u001b[37m    \u001b[39;49;00m\u001b[94m\"message\"\u001b[39;49;00m:\u001b[37m \u001b[39;49;00m\u001b[33m\"Hello world!\"\u001b[39;49;00m\u001b[37m\u001b[39;49;00m\n",
      "}\u001b[37m\u001b[39;49;00m\n",
      "\n",
      "\n"
     ]
    }
   ],
   "source": [
    "!http :8000"
   ]
  },
  {
   "cell_type": "markdown",
   "metadata": {},
   "source": [
    "## Dev environment"
   ]
  },
  {
   "cell_type": "markdown",
   "metadata": {},
   "source": [
    "This section deals with quality of life improvement for developing with Docker. For example, any local changes to `main.py` will not affect the correspondding script in the container. This can make development difficult with time-consuming rebuilds, e.g. with large images or large files. Finally, our local IDE will not have features like autocomplete and will generally compain of missing packages."
   ]
  },
  {
   "cell_type": "markdown",
   "metadata": {},
   "source": [
    "```{figure} ./containers/img/vs-code-module-not-found.png\n",
    "---\n",
    "name: vs-code-module-not-found\n",
    "width: 1200px\n",
    "---\n",
    "Module not found. One solution is to install the requirements in a local virtual env. But this is not ideal if you want straightforward reproducibility.\n",
    "```"
   ]
  },
  {
   "cell_type": "markdown",
   "metadata": {},
   "source": [
    "### Volumes"
   ]
  },
  {
   "cell_type": "markdown",
   "metadata": {},
   "source": [
    "The issue with code changes and data is fixed by using **volumes**. This will allow changes in the local filesystem to be reflected within the container (since files are mirrored between the two directories). In our case, the `--reload` flag is essential to avoid manually restarting the uvicorn server inside the container."
   ]
  },
  {
   "cell_type": "code",
   "execution_count": 17,
   "metadata": {},
   "outputs": [
    {
     "name": "stdout",
     "output_type": "stream",
     "text": [
      "\u001b[01;34m/Users/particle1331/code/ok-transformer/docs/nb/notes/containers/simple-fastapi\u001b[0m\n",
      "├── \u001b[00mDockerfile\u001b[0m\n",
      "├── \u001b[00mrequirements.txt\u001b[0m\n",
      "└── \u001b[01;34msrc\u001b[0m\n",
      "    └── \u001b[00mmain.py\u001b[0m\n",
      "\n",
      "2 directories, 3 files\n"
     ]
    }
   ],
   "source": [
    "!tree $(pwd)/simple-fastapi -I __pycache__"
   ]
  },
  {
   "cell_type": "markdown",
   "metadata": {},
   "source": [
    "Running `docker run` with `-v` flag for mapping volumes and a command argument `--reload` which is appended to the entrypoint. Note the `--reload` flag is not in the `Dockerfile` since this is not suitable for prod."
   ]
  },
  {
   "cell_type": "code",
   "execution_count": 18,
   "metadata": {
    "tags": [
     "remove-output"
    ]
   },
   "outputs": [
    {
     "name": "stdout",
     "output_type": "stream",
     "text": [
      "ec883f3a77f9e58bbc0de5ad03dbc1f2d00be10710fc31caf68bfbd948be333c\n"
     ]
    }
   ],
   "source": [
    "!docker rm -f fastapi >> /dev/null  # delete prev container\n",
    "!docker run -d -p 8000:80 -v $(pwd)/simple-fastapi:/code --name fastapi okt/simple-fastapi:latest --reload"
   ]
  },
  {
   "cell_type": "markdown",
   "metadata": {},
   "source": [
    "Modifying the main file:"
   ]
  },
  {
   "cell_type": "code",
   "execution_count": 19,
   "metadata": {},
   "outputs": [
    {
     "name": "stdout",
     "output_type": "stream",
     "text": [
      "Overwriting ./simple-fastapi/src/main.py\n"
     ]
    }
   ],
   "source": [
    "%%writefile ./simple-fastapi/src/main.py\n",
    "from fastapi import FastAPI\n",
    "\n",
    "app = FastAPI()\n",
    "\n",
    "@app.get(\"/\")\n",
    "def root():\n",
    "    return {\"message\": \"Hello world + 123!\"}    # (!)"
   ]
  },
  {
   "cell_type": "code",
   "execution_count": 20,
   "metadata": {
    "tags": [
     "remove-cell"
    ]
   },
   "outputs": [],
   "source": [
    "import time\n",
    "time.sleep(5)"
   ]
  },
  {
   "cell_type": "markdown",
   "metadata": {},
   "source": [
    "Logs show that the application is reloading:"
   ]
  },
  {
   "cell_type": "code",
   "execution_count": 21,
   "metadata": {},
   "outputs": [
    {
     "name": "stdout",
     "output_type": "stream",
     "text": [
      "INFO:     Will watch for changes in these directories: ['/code']\n",
      "INFO:     Uvicorn running on http://0.0.0.0:80 (Press CTRL+C to quit)\n",
      "INFO:     Started reloader process [1] using StatReload\n",
      "INFO:     Started server process [8]\n",
      "INFO:     Waiting for application startup.\n",
      "INFO:     Application startup complete.\n"
     ]
    }
   ],
   "source": [
    "!docker logs fastapi"
   ]
  },
  {
   "cell_type": "markdown",
   "metadata": {},
   "source": [
    "The response should change without rebuild (the ff. uses [httpie](https://httpie.io/docs/cli/universal)):"
   ]
  },
  {
   "cell_type": "code",
   "execution_count": 22,
   "metadata": {},
   "outputs": [
    {
     "name": "stdout",
     "output_type": "stream",
     "text": [
      "\u001b[34mHTTP\u001b[39;49;00m/\u001b[34m1.1\u001b[39;49;00m \u001b[34m200\u001b[39;49;00m \u001b[36mOK\u001b[39;49;00m\n",
      "\u001b[36mcontent-length\u001b[39;49;00m: 32\n",
      "\u001b[36mcontent-type\u001b[39;49;00m: application/json\n",
      "\u001b[36mdate\u001b[39;49;00m: Wed, 27 Dec 2023 23:26:16 GMT\n",
      "\u001b[36mserver\u001b[39;49;00m: uvicorn\n",
      "\n",
      "{\u001b[37m\u001b[39;49;00m\n",
      "\u001b[37m    \u001b[39;49;00m\u001b[94m\"message\"\u001b[39;49;00m:\u001b[37m \u001b[39;49;00m\u001b[33m\"Hello world + 123!\"\u001b[39;49;00m\u001b[37m\u001b[39;49;00m\n",
      "}\u001b[37m\u001b[39;49;00m\n",
      "\n",
      "\n"
     ]
    }
   ],
   "source": [
    "!http :8000"
   ]
  },
  {
   "cell_type": "code",
   "execution_count": 23,
   "metadata": {
    "tags": [
     "remove-cell"
    ]
   },
   "outputs": [
    {
     "name": "stdout",
     "output_type": "stream",
     "text": [
      "Overwriting ./simple-fastapi/src/main.py\n"
     ]
    }
   ],
   "source": [
    "%%writefile ./simple-fastapi/src/main.py\n",
    "from fastapi import FastAPI\n",
    "\n",
    "app = FastAPI()\n",
    "\n",
    "@app.get(\"/\")\n",
    "def root():\n",
    "    return {\"message\": \"Hello world!\"}"
   ]
  },
  {
   "cell_type": "markdown",
   "metadata": {},
   "source": [
    "### Remote container IDE"
   ]
  },
  {
   "cell_type": "markdown",
   "metadata": {},
   "source": [
    "To follow this section, you have to install [Docker](https://marketplace.visualstudio.com/items?itemName=ms-azuretools.vscode-docker) and [Dev Containers](https://marketplace.visualstudio.com/items?itemName=ms-vscode-remote.remote-containers) extensions in VS Code. To use an IDE with a running container, you can click on the lower left button or press CTRL+SHIFT+P and type \"Dev Containers: Attach to running container\". This opens up a new window. You have to install the [Python extension](https://marketplace.visualstudio.com/items?itemName=ms-python.python) once to get IDE features. The experience is the same as when you SSH into a remote server. "
   ]
  },
  {
   "cell_type": "markdown",
   "metadata": {},
   "source": [
    "```{figure} ./containers/img/vs-code-completion.png\n",
    "---\n",
    "name: vs-code-completion\n",
    "width: 1200px\n",
    "---\n",
    "IDE attached to the container with code completion and other useful features.\n",
    "If the container is mapped to a volume, then any change made using the IDE is mirrored in the\n",
    "host directory.\n",
    "```"
   ]
  },
  {
   "cell_type": "code",
   "execution_count": 24,
   "metadata": {
    "tags": [
     "remove-cell"
    ]
   },
   "outputs": [],
   "source": [
    "!docker rm -f fastapi >> /dev/null"
   ]
  },
  {
   "cell_type": "markdown",
   "metadata": {},
   "source": [
    "### Debugging"
   ]
  },
  {
   "cell_type": "markdown",
   "metadata": {},
   "source": [
    "**Note:** *Refer to the following section on docker compose for the application used here.*\n",
    "\n",
    "For debugging, we use https://github.com/microsoft/debugpy. Run the application defined in the following compose file. This overrides the Dockerfile entrypoint and simply runs the uvicorn server with debugpy client listening on port 5678."
   ]
  },
  {
   "cell_type": "markdown",
   "metadata": {},
   "source": [
    "```yaml\n",
    "# containers/compose/docker-compose.debug.yml\n",
    "version: \"3\"\n",
    "services:\n",
    "  fastapi-server:\n",
    "    build: app\n",
    "    restart: on-failure\n",
    "    entrypoint: \"\"\n",
    "    command: [\"sh\", \"-c\", \"pip install debugpy -t /tmp && python /tmp/debugpy --wait-for-client --listen 0.0.0.0:5678 -m uvicorn src.main:app --host 0.0.0.0 --port 8000 --reload\"]\n",
    "    ports:\n",
    "      - 8080:8000\n",
    "      - 5678:5678\n",
    "    volumes:\n",
    "      - ./app:/code\n",
    "    depends_on:\n",
    "      - redis\n",
    "\n",
    "  redis:\n",
    "    image: redis:alpine\n",
    "```"
   ]
  },
  {
   "cell_type": "markdown",
   "metadata": {},
   "source": [
    "To run this:\n",
    "\n",
    "```\n",
    "docker compose -f docker-compose.debug.yml up\n",
    "```"
   ]
  },
  {
   "cell_type": "markdown",
   "metadata": {},
   "source": [
    "Remote attach to the FastAPI container using VS Code. In the 🐞 tab of the remote IDE, click \"create a launch.json file\". Select \"Remote Attach\" and enter \"localhost\" with port \"5678\". Start the debugger and add breakpoints. Then, we can make the relevant request to debug it ({numref}`vs-code-debugger`)."
   ]
  },
  {
   "cell_type": "markdown",
   "metadata": {},
   "source": [
    "```{figure} ./containers/img/vs-code-debugger.png\n",
    "---\n",
    "name: vs-code-debugger\n",
    "width: 1200px\n",
    "---\n",
    "Debugger running. Breakpoints are triggered after a GET request to `localhost:8080`.\n",
    "```"
   ]
  },
  {
   "cell_type": "markdown",
   "metadata": {},
   "source": [
    "## Docker compose"
   ]
  },
  {
   "cell_type": "markdown",
   "metadata": {},
   "source": [
    "Multi-container applications require configuring setup and tear down of run and builds, volumes, as well as networking between multiple services. This can be tedious to do using Docker CLI commands especially during development. [Docker Compose](https://docs.docker.com/compose/) allows us to collect all configurations in a YAML file. This takes care of networking between containers as well as logging and status monitors for the whole ensemble."
   ]
  },
  {
   "cell_type": "markdown",
   "metadata": {},
   "source": [
    "### Files"
   ]
  },
  {
   "cell_type": "markdown",
   "metadata": {},
   "source": [
    "The web server is in its own directory containing its corresponding Dockerfile:"
   ]
  },
  {
   "cell_type": "code",
   "execution_count": 25,
   "metadata": {},
   "outputs": [
    {
     "name": "stdout",
     "output_type": "stream",
     "text": [
      "\u001b[01;34m./compose\u001b[0m\n",
      "├── \u001b[01;34mapp\u001b[0m\n",
      "│   ├── \u001b[00mDockerfile\u001b[0m\n",
      "│   ├── \u001b[00mrequirements.txt\u001b[0m\n",
      "│   └── \u001b[01;34msrc\u001b[0m\n",
      "│       └── \u001b[00mmain.py\u001b[0m\n",
      "└── \u001b[00mdocker-compose.yml\u001b[0m\n",
      "\n",
      "3 directories, 4 files\n"
     ]
    }
   ],
   "source": [
    "!tree ./compose -I __pycache__"
   ]
  },
  {
   "cell_type": "markdown",
   "metadata": {},
   "source": [
    "This simply tracks the visit count along with a message. For storing the counts, we will use a [redis](https://redis.io/docs/connect/clients/python/) database. Note that since compose takes care of networking, it suffices to use the container name (see compose file below) as host for the redis client:"
   ]
  },
  {
   "cell_type": "code",
   "execution_count": 26,
   "metadata": {},
   "outputs": [
    {
     "name": "stdout",
     "output_type": "stream",
     "text": [
      "\u001b[38;2;0;128;0;01mimport\u001b[39;00m \u001b[38;2;0;0;255;01mredis\u001b[39;00m\n",
      "\u001b[38;2;0;128;0;01mfrom\u001b[39;00m \u001b[38;2;0;0;255;01mfastapi\u001b[39;00m \u001b[38;2;0;128;0;01mimport\u001b[39;00m FastAPI\n",
      "\n",
      "app \u001b[38;2;102;102;102m=\u001b[39m FastAPI()\n",
      "r \u001b[38;2;102;102;102m=\u001b[39m redis\u001b[38;2;102;102;102m.\u001b[39mRedis(host\u001b[38;2;102;102;102m=\u001b[39m\u001b[38;2;186;33;33m\"\u001b[39m\u001b[38;2;186;33;33mredis\u001b[39m\u001b[38;2;186;33;33m\"\u001b[39m, port\u001b[38;2;102;102;102m=\u001b[39m\u001b[38;2;102;102;102m6379\u001b[39m)\n",
      "\n",
      "\u001b[38;2;0;128;0;01mif\u001b[39;00m \u001b[38;2;170;34;255;01mnot\u001b[39;00m r\u001b[38;2;102;102;102m.\u001b[39mexists(\u001b[38;2;186;33;33m\"\u001b[39m\u001b[38;2;186;33;33mvisits\u001b[39m\u001b[38;2;186;33;33m\"\u001b[39m):\n",
      "    r\u001b[38;2;102;102;102m.\u001b[39mset(\u001b[38;2;186;33;33m\"\u001b[39m\u001b[38;2;186;33;33mvisits\u001b[39m\u001b[38;2;186;33;33m\"\u001b[39m, \u001b[38;2;102;102;102m0\u001b[39m)\n",
      "\n",
      "\n",
      "\u001b[38;2;170;34;255m@app\u001b[39m\u001b[38;2;102;102;102m.\u001b[39mget(\u001b[38;2;186;33;33m\"\u001b[39m\u001b[38;2;186;33;33m/\u001b[39m\u001b[38;2;186;33;33m\"\u001b[39m)\n",
      "\u001b[38;2;0;128;0;01mdef\u001b[39;00m \u001b[38;2;0;0;255mroot\u001b[39m():\n",
      "    visits \u001b[38;2;102;102;102m=\u001b[39m \u001b[38;2;0;128;0mint\u001b[39m(r\u001b[38;2;102;102;102m.\u001b[39mget(\u001b[38;2;186;33;33m\"\u001b[39m\u001b[38;2;186;33;33mvisits\u001b[39m\u001b[38;2;186;33;33m\"\u001b[39m)) \u001b[38;2;102;102;102m+\u001b[39m \u001b[38;2;102;102;102m1\u001b[39m\n",
      "    r\u001b[38;2;102;102;102m.\u001b[39mset(\u001b[38;2;186;33;33m\"\u001b[39m\u001b[38;2;186;33;33mvisits\u001b[39m\u001b[38;2;186;33;33m\"\u001b[39m, visits)\n",
      "    \u001b[38;2;0;128;0;01mreturn\u001b[39;00m {\n",
      "        \u001b[38;2;186;33;33m\"\u001b[39m\u001b[38;2;186;33;33mmessage\u001b[39m\u001b[38;2;186;33;33m\"\u001b[39m: \u001b[38;2;186;33;33m\"\u001b[39m\u001b[38;2;186;33;33mHello world!\u001b[39m\u001b[38;2;186;33;33m\"\u001b[39m,\n",
      "        \u001b[38;2;186;33;33m\"\u001b[39m\u001b[38;2;186;33;33mvisit_count\u001b[39m\u001b[38;2;186;33;33m\"\u001b[39m: r\u001b[38;2;102;102;102m.\u001b[39mget(\u001b[38;2;186;33;33m\"\u001b[39m\u001b[38;2;186;33;33mvisits\u001b[39m\u001b[38;2;186;33;33m\"\u001b[39m),\n",
      "    }\n"
     ]
    }
   ],
   "source": [
    "!pygmentize ./compose/app/src/main.py"
   ]
  },
  {
   "cell_type": "markdown",
   "metadata": {},
   "source": [
    "Note that paths in Dockerfile and compose files are relative:"
   ]
  },
  {
   "cell_type": "code",
   "execution_count": 27,
   "metadata": {},
   "outputs": [
    {
     "name": "stdout",
     "output_type": "stream",
     "text": [
      "\u001b[38;2;0;128;0;01mFROM\u001b[39;00m\u001b[38;2;187;187;187m \u001b[39m\u001b[38;2;186;33;33mpython:3.10-slim\u001b[39m\n",
      "\n",
      "\u001b[38;2;0;128;0;01mWORKDIR\u001b[39;00m\u001b[38;2;187;187;187m \u001b[39m\u001b[38;2;186;33;33m/code\u001b[39m\n",
      "\n",
      "\u001b[38;2;0;128;0;01mCOPY\u001b[39;00m\u001b[38;2;187;187;187m \u001b[39m./requirements.txt\u001b[38;2;187;187;187m \u001b[39m./\n",
      "\n",
      "\u001b[38;2;0;128;0;01mRUN\u001b[39;00m\u001b[38;2;187;187;187m \u001b[39mpip\u001b[38;2;187;187;187m \u001b[39minstall\u001b[38;2;187;187;187m \u001b[39m--no-cache-dir\u001b[38;2;187;187;187m \u001b[39m--upgrade\u001b[38;2;187;187;187m \u001b[39m-r\u001b[38;2;187;187;187m \u001b[39mrequirements.txt\n",
      "\n",
      "\u001b[38;2;0;128;0;01mCOPY\u001b[39;00m\u001b[38;2;187;187;187m \u001b[39m./src\u001b[38;2;187;187;187m \u001b[39m./src\n",
      "\n",
      "\u001b[38;2;0;128;0;01mENTRYPOINT\u001b[39;00m\u001b[38;2;187;187;187m \u001b[39m[\u001b[38;2;186;33;33m\"uvicorn\"\u001b[39m,\u001b[38;2;187;187;187m \u001b[39m\u001b[38;2;186;33;33m\"src.main:app\"\u001b[39m]\n"
     ]
    }
   ],
   "source": [
    "!pygmentize ./compose/app/Dockerfile"
   ]
  },
  {
   "cell_type": "markdown",
   "metadata": {},
   "source": [
    "The compose file simply lists the services and its run configurations. Notice that port and volume mapping are already specified here,\n",
    "as well as run commands. Moreover, the dependence of the web server to the database is stated. This means the `redis` service is started first."
   ]
  },
  {
   "cell_type": "code",
   "execution_count": 28,
   "metadata": {},
   "outputs": [
    {
     "name": "stdout",
     "output_type": "stream",
     "text": [
      "\u001b[38;2;0;128;0;01mversion\u001b[39;00m:\u001b[38;2;187;187;187m \u001b[39m\u001b[38;2;186;33;33m\"\u001b[39m\u001b[38;2;186;33;33m3\u001b[39m\u001b[38;2;186;33;33m\"\u001b[39m\n",
      "\u001b[38;2;0;128;0;01mservices\u001b[39;00m:\n",
      "\u001b[38;2;187;187;187m  \u001b[39m\u001b[38;2;0;128;0;01mfastapi-server\u001b[39;00m:\n",
      "\u001b[38;2;187;187;187m    \u001b[39m\u001b[38;2;0;128;0;01mbuild\u001b[39;00m:\u001b[38;2;187;187;187m \u001b[39mapp\n",
      "\u001b[38;2;187;187;187m    \u001b[39m\u001b[38;2;0;128;0;01mrestart\u001b[39;00m:\u001b[38;2;187;187;187m \u001b[39mon-failure\n",
      "\u001b[38;2;187;187;187m    \u001b[39m\u001b[38;2;0;128;0;01mcommand\u001b[39;00m:\u001b[38;2;187;187;187m \u001b[39m\u001b[38;2;186;33;33m\"\u001b[39m\u001b[38;2;186;33;33m--host\u001b[39m\u001b[38;2;25;23;124m \u001b[39m\u001b[38;2;186;33;33m0.0.0.0\u001b[39m\u001b[38;2;25;23;124m \u001b[39m\u001b[38;2;186;33;33m--port\u001b[39m\u001b[38;2;25;23;124m \u001b[39m\u001b[38;2;186;33;33m80\u001b[39m\u001b[38;2;25;23;124m \u001b[39m\u001b[38;2;186;33;33m--reload\u001b[39m\u001b[38;2;186;33;33m\"\u001b[39m\n",
      "\u001b[38;2;187;187;187m    \u001b[39m\u001b[38;2;0;128;0;01mports\u001b[39;00m:\n",
      "\u001b[38;2;187;187;187m      \u001b[39m-\u001b[38;2;187;187;187m \u001b[39m8080:80\n",
      "\u001b[38;2;187;187;187m      \u001b[39m-\u001b[38;2;187;187;187m \u001b[39m5678:5678\n",
      "\u001b[38;2;187;187;187m    \u001b[39m\u001b[38;2;0;128;0;01mvolumes\u001b[39;00m:\n",
      "\u001b[38;2;187;187;187m      \u001b[39m-\u001b[38;2;187;187;187m \u001b[39m./app:/code\n",
      "\u001b[38;2;187;187;187m    \u001b[39m\u001b[38;2;0;128;0;01mdepends_on\u001b[39;00m:\n",
      "\u001b[38;2;187;187;187m      \u001b[39m-\u001b[38;2;187;187;187m \u001b[39mredis\n",
      "\n",
      "\u001b[38;2;187;187;187m  \u001b[39m\u001b[38;2;0;128;0;01mredis\u001b[39;00m:\n",
      "\u001b[38;2;187;187;187m    \u001b[39m\u001b[38;2;0;128;0;01mimage\u001b[39;00m:\u001b[38;2;187;187;187m \u001b[39mredis:alpine\n"
     ]
    }
   ],
   "source": [
    "!pygmentize ./compose/docker-compose.yml"
   ]
  },
  {
   "cell_type": "markdown",
   "metadata": {},
   "source": [
    "**Remark.** Docker compose is [typically used](https://docs.docker.com/compose/features-uses/#common-use-cases-of-docker-compose) for development and automated testing use cases. So it's okay to have `--reload` hard coded here."
   ]
  },
  {
   "cell_type": "markdown",
   "metadata": {},
   "source": [
    "### Compose up"
   ]
  },
  {
   "cell_type": "markdown",
   "metadata": {},
   "source": [
    "Starting the multi-container application. The `--build` flag is optional and is used to rebuild containers from images. Again, we use `-d` to run it in detached mode. Here, we also change the build context. Otherwise, we would need to add `-f PATH` to point to the path of the compose file each time we use `docker compose`."
   ]
  },
  {
   "cell_type": "code",
   "execution_count": 29,
   "metadata": {
    "tags": [
     "hide-output"
    ]
   },
   "outputs": [
    {
     "name": "stdout",
     "output_type": "stream",
     "text": [
      "\u001b[1A\u001b[1B\u001b[0G\u001b[?25l[+] Running 0/0\n",
      "\u001b[37m ⠙ redis Pulling                                                           0.1s\n",
      "\u001b[0m\u001b[?25h\u001b[1A\u001b[1A\u001b[0G\u001b[?25l[+] Running 0/1\n",
      "\u001b[37m ⠹ redis Pulling                                                           0.2s\n",
      "\u001b[0m\u001b[?25h\u001b[1A\u001b[1A\u001b[0G\u001b[?25l[+] Running 0/1\n",
      "\u001b[37m ⠸ redis Pulling                                                           0.3s\n",
      "\u001b[0m\u001b[?25h\u001b[1A\u001b[1A\u001b[0G\u001b[?25l[+] Running 0/1\n",
      "\u001b[37m ⠼ redis Pulling                                                           0.4s\n",
      "\u001b[0m\u001b[?25h\u001b[1A\u001b[1A\u001b[0G\u001b[?25l[+] Running 0/1\n",
      "\u001b[37m ⠴ redis Pulling                                                           0.5s\n",
      "\u001b[0m\u001b[?25h\u001b[1A\u001b[1A\u001b[0G\u001b[?25l[+] Running 0/1\n",
      "\u001b[37m ⠦ redis Pulling                                                           0.6s\n",
      "\u001b[0m\u001b[?25h\u001b[1A\u001b[1A\u001b[0G\u001b[?25l[+] Running 0/1\n",
      "\u001b[37m ⠧ redis Pulling                                                           0.7s\n",
      "\u001b[0m\u001b[?25h\u001b[1A\u001b[1A\u001b[0G\u001b[?25l[+] Running 0/1\n",
      "\u001b[37m ⠇ redis Pulling                                                           0.8s\n",
      "\u001b[0m\u001b[?25h\u001b[1A\u001b[1A\u001b[0G\u001b[?25l[+] Running 0/1\n",
      "\u001b[37m ⠏ redis Pulling                                                           0.9s\n",
      "\u001b[0m\u001b[?25h\u001b[1A\u001b[1A\u001b[0G\u001b[?25l[+] Running 0/1\n",
      "\u001b[37m ⠋ redis Pulling                                                           1.0s\n",
      "\u001b[0m\u001b[?25h\u001b[1A\u001b[1A\u001b[0G\u001b[?25l[+] Running 0/1\n",
      "\u001b[37m ⠙ redis Pulling                                                           1.1s\n",
      "\u001b[0m\u001b[?25h\u001b[1A\u001b[1A\u001b[0G\u001b[?25l[+] Running 0/1\n",
      "\u001b[37m ⠹ redis Pulling                                                           1.2s\n",
      "\u001b[0m\u001b[?25h\u001b[1A\u001b[1A\u001b[0G\u001b[?25l[+] Running 0/1\n",
      "\u001b[37m ⠸ redis Pulling                                                           1.3s\n",
      "\u001b[0m\u001b[?25h\u001b[1A\u001b[1A\u001b[0G\u001b[?25l[+] Running 0/1\n",
      "\u001b[37m ⠼ redis Pulling                                                           1.4s\n",
      "\u001b[0m\u001b[?25h\u001b[1A\u001b[1A\u001b[0G\u001b[?25l[+] Running 0/1\n",
      "\u001b[37m ⠴ redis Pulling                                                           1.5s\n",
      "\u001b[0m\u001b[?25h\u001b[1A\u001b[1A\u001b[0G\u001b[?25l[+] Running 0/1\n",
      "\u001b[37m ⠦ redis Pulling                                                           1.6s\n",
      "\u001b[0m\u001b[?25h\u001b[1A\u001b[1A\u001b[0G\u001b[?25l[+] Running 0/1\n",
      "\u001b[37m ⠧ redis Pulling                                                           1.7s\n",
      "\u001b[0m\u001b[?25h\u001b[1A\u001b[1A\u001b[0G\u001b[?25l[+] Running 0/1\n",
      "\u001b[37m ⠇ redis Pulling                                                           1.8s\n",
      "\u001b[0m\u001b[?25h\u001b[1A\u001b[1A\u001b[0G\u001b[?25l[+] Running 0/1\n",
      "\u001b[37m ⠏ redis Pulling                                                           1.9s\n",
      "\u001b[0m\u001b[?25h\u001b[1A\u001b[1A\u001b[0G\u001b[?25l[+] Running 0/1\n",
      "\u001b[37m ⠋ redis Pulling                                                           2.0s\n",
      "\u001b[0m\u001b[?25h\u001b[1A\u001b[1A\u001b[0G\u001b[?25l[+] Running 0/1\n",
      "\u001b[37m ⠙ redis Pulling                                                           2.1s\n",
      "\u001b[0m\u001b[?25h\u001b[1A\u001b[1A\u001b[0G\u001b[?25l[+] Running 0/1\n",
      "\u001b[37m ⠹ redis Pulling                                                           2.2s\n",
      "\u001b[0m\u001b[?25h\u001b[1A\u001b[1A\u001b[0G\u001b[?25l[+] Running 0/1\n",
      "\u001b[37m ⠸ redis Pulling                                                           2.3s\n",
      "\u001b[0m\u001b[?25h\u001b[1A\u001b[1A\u001b[0G\u001b[?25l[+] Running 0/1\n",
      "\u001b[37m ⠼ redis Pulling                                                           2.4s\n",
      "\u001b[0m\u001b[?25h\u001b[1A\u001b[1A\u001b[0G\u001b[?25l[+] Running 0/1\n",
      "\u001b[37m ⠴ redis Pulling                                                           2.5s\n",
      "\u001b[0m\u001b[?25h\u001b[1A\u001b[1A\u001b[0G\u001b[?25l[+] Running 0/1\n",
      "\u001b[37m ⠦ redis Pulling                                                           2.6s\n",
      "\u001b[0m\u001b[?25h\u001b[1A\u001b[1A\u001b[0G\u001b[?25l[+] Running 0/1\n",
      "\u001b[37m ⠧ redis Pulling                                                           2.7s\n",
      "\u001b[0m\u001b[?25h\u001b[1A\u001b[1A\u001b[0G\u001b[?25l[+] Running 0/1\n",
      "\u001b[37m ⠇ redis Pulling                                                           2.8s\n",
      "\u001b[0m\u001b[?25h\u001b[1A\u001b[1A\u001b[0G\u001b[?25l[+] Running 0/1\n",
      "\u001b[37m ⠏ redis Pulling                                                           2.9s\n",
      "\u001b[0m\u001b[?25h\u001b[1A\u001b[1A\u001b[0G\u001b[?25l[+] Running 0/1\n",
      "\u001b[37m ⠋ redis Pulling                                                           3.0s\n",
      "\u001b[0m\u001b[?25h\u001b[1A\u001b[1A\u001b[0G\u001b[?25l[+] Running 0/1\n",
      "\u001b[37m ⠙ redis Pulling                                                           3.1s\n",
      "\u001b[0m\u001b[?25h\u001b[1A\u001b[1A\u001b[0G\u001b[?25l[+] Running 0/1\n",
      "\u001b[37m ⠹ redis Pulling                                                           3.2s\n",
      "\u001b[0m\u001b[?25h\u001b[1A\u001b[1A\u001b[0G\u001b[?25l[+] Running 0/1\n",
      "\u001b[37m ⠸ redis Pulling                                                           3.3s\n",
      "\u001b[0m\u001b[?25h\u001b[1A\u001b[1A\u001b[0G\u001b[?25l[+] Running 0/1\n",
      "\u001b[37m ⠼ redis Pulling                                                           3.4s\n",
      "\u001b[0m\u001b[?25h\u001b[1A\u001b[1A\u001b[0G\u001b[?25l[+] Running 0/1\n",
      "\u001b[37m ⠴ redis Pulling                                                           3.5s\n",
      "\u001b[0m\u001b[?25h\u001b[1A\u001b[1A\u001b[0G\u001b[?25l[+] Running 0/1\n",
      "\u001b[37m ⠦ redis Pulling                                                           3.6s\n",
      "\u001b[0m\u001b[?25h\u001b[1A\u001b[1A\u001b[0G\u001b[?25l[+] Running 0/1\n",
      "\u001b[37m ⠧ redis Pulling                                                           3.7s\n",
      "\u001b[0m\u001b[?25h\u001b[1A\u001b[1A\u001b[0G\u001b[?25l[+] Running 0/1\n",
      "\u001b[37m ⠇ redis Pulling                                                           3.8s\n",
      "\u001b[0m\u001b[?25h\u001b[1A\u001b[1A\u001b[0G\u001b[?25l[+] Running 0/1\n",
      "\u001b[37m ⠏ redis Pulling                                                           3.9s\n",
      "\u001b[0m\u001b[?25h\u001b[1A\u001b[1A\u001b[0G\u001b[?25l[+] Running 0/1\n",
      "\u001b[37m ⠋ redis Pulling                                                           4.0s\n",
      "\u001b[0m\u001b[?25h\u001b[1A\u001b[1A\u001b[0G\u001b[?25l[+] Running 0/1\n",
      "\u001b[37m ⠙ redis Pulling                                                           4.1s\n",
      "\u001b[0m\u001b[?25h\u001b[1A\u001b[1A\u001b[0G\u001b[?25l[+] Running 0/1\n",
      "\u001b[37m ⠹ redis Pulling                                                           4.2s\n",
      "\u001b[0m\u001b[?25h\u001b[1A\u001b[1A\u001b[0G\u001b[?25l[+] Running 0/1\n",
      "\u001b[37m ⠸ redis Pulling                                                           4.3s\n",
      "\u001b[0m\u001b[?25h\u001b[1A\u001b[1A\u001b[0G\u001b[?25l[+] Running 0/1\n",
      "\u001b[37m ⠼ redis Pulling                                                           4.4s\n",
      "\u001b[0m\u001b[?25h\u001b[1A\u001b[1A\u001b[0G\u001b[?25l[+] Running 0/1\n",
      "\u001b[37m ⠴ redis Pulling                                                           4.5s\n",
      "\u001b[0m\u001b[?25h\u001b[1A\u001b[1A\u001b[0G\u001b[?25l[+] Running 0/1\n",
      "\u001b[37m ⠦ redis Pulling                                                           4.6s\n",
      "\u001b[0m\u001b[?25h\u001b[1A\u001b[1A\u001b[0G\u001b[?25l[+] Running 0/1\n",
      "\u001b[37m ⠧ redis Pulling                                                           4.7s\n",
      "\u001b[0m\u001b[?25h\u001b[1A\u001b[1A\u001b[0G\u001b[?25l[+] Running 0/1\n",
      "\u001b[37m ⠇ redis Pulling                                                           4.8s\n",
      "\u001b[0m\u001b[?25h\u001b[1A\u001b[1A\u001b[0G\u001b[?25l[+] Running 0/1\n",
      "\u001b[37m ⠏ redis Pulling                                                           4.9s\n",
      "\u001b[0m\u001b[?25h\u001b[1A\u001b[1A\u001b[0G\u001b[?25l[+] Running 0/1\n",
      "\u001b[37m ⠋ redis Pulling                                                           5.0s\n",
      "\u001b[0m\u001b[?25h\u001b[1A\u001b[1A\u001b[0G\u001b[?25l[+] Running 0/1\n",
      "\u001b[37m ⠙ redis Pulling                                                           5.1s\n",
      "\u001b[0m\u001b[?25h\u001b[1A\u001b[1A\u001b[0G\u001b[?25l[+] Running 0/1\n",
      "\u001b[37m ⠹ redis Pulling                                                           5.2s\n",
      "\u001b[0m\u001b[?25h\u001b[1A\u001b[1A\u001b[0G\u001b[?25l[+] Running 0/1\n",
      "\u001b[37m ⠸ redis Pulling                                                           5.3s\n",
      "\u001b[0m\u001b[?25h\u001b[1A\u001b[1A\u001b[0G\u001b[?25l[+] Running 0/1\n",
      "\u001b[37m ⠼ redis Pulling                                                           5.4s\n",
      "\u001b[0m\u001b[?25h\u001b[1A\u001b[1A\u001b[0G\u001b[?25l[+] Running 0/1\n",
      "\u001b[37m ⠴ redis Pulling                                                           5.5s\n",
      "\u001b[0m\u001b[37m   ⠋ c30352492317 Pulling fs layer                                         0.1s\n",
      "\u001b[0m\u001b[37m   ⠋ 2e707cb76875 Pulling fs layer                                         0.1s\n",
      "\u001b[0m\u001b[37m   ⠋ 41a20ff430bc Pulling fs layer                                         0.1s\n",
      "\u001b[0m\u001b[37m   ⠋ d326b14c5477 Waiting                                                  0.1s\n",
      "\u001b[0m\u001b[37m   ⠋ 00477ff4bbe5 Waiting                                                  0.1s\n",
      "\u001b[0m\u001b[37m   ⠋ 970a5a4847d9 Pulling fs layer                                         0.1s\n",
      "\u001b[0m\u001b[37m   ⠋ 4f4fb700ef54 Waiting                                                  0.1s\n",
      "\u001b[0m\u001b[37m   ⠋ f1bbb1bc1e67 Waiting                                                  0.1s\n",
      "\u001b[0m\u001b[?25h\u001b[1A\u001b[1A\u001b[1A\u001b[1A\u001b[1A\u001b[1A\u001b[1A\u001b[1A\u001b[1A\u001b[1A\u001b[0G\u001b[?25l[+] Running 0/9\n",
      "\u001b[37m ⠦ redis Pulling                                                           5.6s\n",
      "\u001b[0m\u001b[37m   ⠙ c30352492317 Pulling fs layer                                         0.2s\n",
      "\u001b[0m\u001b[37m   ⠙ 2e707cb76875 Pulling fs layer                                         0.2s\n",
      "\u001b[0m\u001b[37m   ⠙ 41a20ff430bc Pulling fs layer                                         0.2s\n",
      "\u001b[0m\u001b[37m   ⠙ d326b14c5477 Waiting                                                  0.2s\n",
      "\u001b[0m\u001b[37m   ⠙ 00477ff4bbe5 Waiting                                                  0.2s\n",
      "\u001b[0m\u001b[37m   ⠙ 970a5a4847d9 Pulling fs layer                                         0.2s\n",
      "\u001b[0m\u001b[37m   ⠙ 4f4fb700ef54 Waiting                                                  0.2s\n",
      "\u001b[0m\u001b[37m   ⠙ f1bbb1bc1e67 Waiting                                                  0.2s\n",
      "\u001b[0m\u001b[?25h\u001b[1A\u001b[1A\u001b[1A\u001b[1A\u001b[1A\u001b[1A\u001b[1A\u001b[1A\u001b[1A\u001b[1A\u001b[0G\u001b[?25l[+] Running 0/9\n",
      "\u001b[37m ⠧ redis Pulling                                                           5.7s\n",
      "\u001b[0m\u001b[37m   ⠹ c30352492317 Pulling fs layer                                         0.3s\n",
      "\u001b[0m\u001b[37m   ⠹ 2e707cb76875 Pulling fs layer                                         0.3s\n",
      "\u001b[0m\u001b[37m   ⠹ 41a20ff430bc Pulling fs layer                                         0.3s\n",
      "\u001b[0m\u001b[37m   ⠹ d326b14c5477 Waiting                                                  0.3s\n",
      "\u001b[0m\u001b[37m   ⠹ 00477ff4bbe5 Waiting                                                  0.3s\n",
      "\u001b[0m\u001b[37m   ⠹ 970a5a4847d9 Pulling fs layer                                         0.3s\n",
      "\u001b[0m\u001b[37m   ⠹ 4f4fb700ef54 Waiting                                                  0.3s\n",
      "\u001b[0m\u001b[37m   ⠹ f1bbb1bc1e67 Waiting                                                  0.3s\n",
      "\u001b[0m\u001b[?25h\u001b[1A\u001b[1A\u001b[1A\u001b[1A\u001b[1A\u001b[1A\u001b[1A\u001b[1A\u001b[1A\u001b[1A\u001b[0G\u001b[?25l[+] Running 0/9\n",
      "\u001b[37m ⠇ redis Pulling                                                           5.8s\n",
      "\u001b[0m\u001b[37m   ⠸ c30352492317 Pulling fs layer                                         0.4s\n",
      "\u001b[0m\u001b[37m   ⠸ 2e707cb76875 Pulling fs layer                                         0.4s\n",
      "\u001b[0m\u001b[37m   ⠸ 41a20ff430bc Pulling fs layer                                         0.4s\n",
      "\u001b[0m\u001b[37m   ⠸ d326b14c5477 Waiting                                                  0.4s\n",
      "\u001b[0m\u001b[37m   ⠸ 00477ff4bbe5 Waiting                                                  0.4s\n",
      "\u001b[0m\u001b[37m   ⠸ 970a5a4847d9 Pulling fs layer                                         0.4s\n",
      "\u001b[0m\u001b[37m   ⠸ 4f4fb700ef54 Waiting                                                  0.4s\n",
      "\u001b[0m\u001b[37m   ⠸ f1bbb1bc1e67 Waiting                                                  0.4s\n",
      "\u001b[0m\u001b[?25h\u001b[1A\u001b[1A\u001b[1A\u001b[1A\u001b[1A\u001b[1A\u001b[1A\u001b[1A\u001b[1A\u001b[1A\u001b[0G\u001b[?25l[+] Running 0/9\n",
      "\u001b[37m ⠏ redis Pulling                                                           5.9s\n",
      "\u001b[0m\u001b[37m   ⠼ c30352492317 Pulling fs layer                                         0.5s\n",
      "\u001b[0m\u001b[37m   ⠼ 2e707cb76875 Pulling fs layer                                         0.5s\n",
      "\u001b[0m\u001b[37m   ⠼ 41a20ff430bc Pulling fs layer                                         0.5s\n",
      "\u001b[0m\u001b[37m   ⠼ d326b14c5477 Waiting                                                  0.5s\n",
      "\u001b[0m\u001b[37m   ⠼ 00477ff4bbe5 Waiting                                                  0.5s\n",
      "\u001b[0m\u001b[37m   ⠼ 970a5a4847d9 Pulling fs layer                                         0.5s\n",
      "\u001b[0m\u001b[37m   ⠼ 4f4fb700ef54 Waiting                                                  0.5s\n",
      "\u001b[0m\u001b[37m   ⠼ f1bbb1bc1e67 Waiting                                                  0.5s\n",
      "\u001b[0m\u001b[?25h\u001b[1A\u001b[1A\u001b[1A\u001b[1A\u001b[1A\u001b[1A\u001b[1A\u001b[1A\u001b[1A\u001b[1A\u001b[0G\u001b[?25l[+] Running 0/9\n",
      "\u001b[37m ⠋ redis Pulling                                                           6.0s\n",
      "\u001b[0m\u001b[37m   ⠴ c30352492317 Pulling fs layer                                         0.6s\n",
      "\u001b[0m\u001b[37m   ⠴ 2e707cb76875 Pulling fs layer                                         0.6s\n",
      "\u001b[0m\u001b[37m   ⠴ 41a20ff430bc Pulling fs layer                                         0.6s\n",
      "\u001b[0m\u001b[37m   ⠴ d326b14c5477 Waiting                                                  0.6s\n",
      "\u001b[0m\u001b[37m   ⠴ 00477ff4bbe5 Waiting                                                  0.6s\n",
      "\u001b[0m\u001b[37m   ⠴ 970a5a4847d9 Pulling fs layer                                         0.6s\n",
      "\u001b[0m\u001b[37m   ⠴ 4f4fb700ef54 Waiting                                                  0.6s\n",
      "\u001b[0m\u001b[37m   ⠴ f1bbb1bc1e67 Waiting                                                  0.6s\n",
      "\u001b[0m\u001b[?25h\u001b[1A\u001b[1A\u001b[1A\u001b[1A\u001b[1A\u001b[1A\u001b[1A\u001b[1A\u001b[1A\u001b[1A\u001b[0G\u001b[?25l[+] Running 0/9\n",
      "\u001b[37m ⠙ redis Pulling                                                           6.1s\n",
      "\u001b[0m\u001b[37m   ⠦ c30352492317 Pulling fs layer                                         0.7s\n",
      "\u001b[0m\u001b[37m   ⠦ 2e707cb76875 Pulling fs layer                                         0.7s\n",
      "\u001b[0m\u001b[37m   ⠦ 41a20ff430bc Pulling fs layer                                         0.7s\n",
      "\u001b[0m\u001b[37m   ⠦ d326b14c5477 Waiting                                                  0.7s\n",
      "\u001b[0m\u001b[37m   ⠦ 00477ff4bbe5 Waiting                                                  0.7s\n",
      "\u001b[0m\u001b[37m   ⠦ 970a5a4847d9 Pulling fs layer                                         0.7s\n",
      "\u001b[0m\u001b[37m   ⠦ 4f4fb700ef54 Waiting                                                  0.7s\n",
      "\u001b[0m\u001b[37m   ⠦ f1bbb1bc1e67 Waiting                                                  0.7s\n",
      "\u001b[0m\u001b[?25h\u001b[1A\u001b[1A\u001b[1A\u001b[1A\u001b[1A\u001b[1A\u001b[1A\u001b[1A\u001b[1A\u001b[1A\u001b[0G\u001b[?25l[+] Running 0/9\n",
      "\u001b[37m ⠹ redis Pulling                                                           6.2s\n",
      "\u001b[0m\u001b[37m   ⠧ c30352492317 Pulling fs layer                                         0.8s\n",
      "\u001b[0m\u001b[37m   ⠧ 2e707cb76875 Pulling fs layer                                         0.8s\n",
      "\u001b[0m\u001b[37m   ⠧ 41a20ff430bc Pulling fs layer                                         0.8s\n",
      "\u001b[0m\u001b[37m   ⠧ d326b14c5477 Waiting                                                  0.8s\n",
      "\u001b[0m\u001b[37m   ⠧ 00477ff4bbe5 Waiting                                                  0.8s\n",
      "\u001b[0m\u001b[37m   ⠧ 970a5a4847d9 Pulling fs layer                                         0.8s\n",
      "\u001b[0m\u001b[37m   ⠧ 4f4fb700ef54 Waiting                                                  0.8s\n",
      "\u001b[0m\u001b[37m   ⠧ f1bbb1bc1e67 Waiting                                                  0.8s\n",
      "\u001b[0m\u001b[?25h\u001b[1A\u001b[1A\u001b[1A\u001b[1A\u001b[1A\u001b[1A\u001b[1A\u001b[1A\u001b[1A\u001b[1A\u001b[0G\u001b[?25l[+] Running 0/9\n",
      "\u001b[37m ⠸ redis Pulling                                                           6.3s\n",
      "\u001b[0m\u001b[37m   ⠇ c30352492317 Pulling fs layer                                         0.9s\n",
      "\u001b[0m\u001b[37m   ⠇ 2e707cb76875 Pulling fs layer                                         0.9s\n",
      "\u001b[0m\u001b[37m   ⠇ 41a20ff430bc Pulling fs layer                                         0.9s\n",
      "\u001b[0m\u001b[37m   ⠇ d326b14c5477 Waiting                                                  0.9s\n",
      "\u001b[0m\u001b[37m   ⠇ 00477ff4bbe5 Waiting                                                  0.9s\n",
      "\u001b[0m\u001b[37m   ⠇ 970a5a4847d9 Pulling fs layer                                         0.9s\n",
      "\u001b[0m\u001b[37m   ⠇ 4f4fb700ef54 Waiting                                                  0.9s\n",
      "\u001b[0m\u001b[37m   ⠇ f1bbb1bc1e67 Waiting                                                  0.9s\n",
      "\u001b[0m\u001b[?25h\u001b[1A\u001b[1A\u001b[1A\u001b[1A\u001b[1A\u001b[1A\u001b[1A\u001b[1A\u001b[1A\u001b[1A\u001b[0G\u001b[?25l[+] Running 0/9\n",
      "\u001b[37m ⠼ redis Pulling                                                           6.4s\n",
      "\u001b[0m\u001b[37m   ⠏ c30352492317 Pulling fs layer                                         1.0s\n",
      "\u001b[0m\u001b[37m   ⠏ 2e707cb76875 Pulling fs layer                                         1.0s\n",
      "\u001b[0m\u001b[37m   ⠏ 41a20ff430bc Pulling fs layer                                         1.0s\n",
      "\u001b[0m\u001b[37m   ⠏ d326b14c5477 Waiting                                                  1.0s\n",
      "\u001b[0m\u001b[37m   ⠏ 00477ff4bbe5 Waiting                                                  1.0s\n",
      "\u001b[0m\u001b[37m   ⠏ 970a5a4847d9 Pulling fs layer                                         1.0s\n",
      "\u001b[0m\u001b[37m   ⠏ 4f4fb700ef54 Waiting                                                  1.0s\n",
      "\u001b[0m\u001b[37m   ⠏ f1bbb1bc1e67 Waiting                                                  1.0s\n",
      "\u001b[0m\u001b[?25h\u001b[1A\u001b[1A\u001b[1A\u001b[1A\u001b[1A\u001b[1A\u001b[1A\u001b[1A\u001b[1A\u001b[1A\u001b[0G\u001b[?25l[+] Running 0/9\n",
      "\u001b[37m ⠴ redis Pulling                                                           6.5s\n",
      "\u001b[0m\u001b[37m   ⠋ c30352492317 Pulling fs layer                                         1.1s\n",
      "\u001b[0m\u001b[37m   ⠋ 2e707cb76875 Pulling fs layer                                         1.1s\n",
      "\u001b[0m\u001b[37m   ⠋ 41a20ff430bc Pulling fs layer                                         1.1s\n",
      "\u001b[0m\u001b[37m   ⠋ d326b14c5477 Waiting                                                  1.1s\n",
      "\u001b[0m\u001b[37m   ⠋ 00477ff4bbe5 Waiting                                                  1.1s\n",
      "\u001b[0m\u001b[37m   ⠋ 970a5a4847d9 Pulling fs layer                                         1.1s\n",
      "\u001b[0m\u001b[37m   ⠋ 4f4fb700ef54 Waiting                                                  1.1s\n",
      "\u001b[0m\u001b[37m   ⠋ f1bbb1bc1e67 Waiting                                                  1.1s\n",
      "\u001b[0m\u001b[?25h\u001b[1A\u001b[1A\u001b[1A\u001b[1A\u001b[1A\u001b[1A\u001b[1A\u001b[1A\u001b[1A\u001b[1A\u001b[0G\u001b[?25l[+] Running 0/9\n",
      "\u001b[37m ⠦ redis Pulling                                                           6.6s\n",
      "\u001b[0m\u001b[37m   ⠙ c30352492317 Pulling fs layer                                         1.2s\n",
      "\u001b[0m\u001b[37m   ⠙ 2e707cb76875 Pulling fs layer                                         1.2s\n",
      "\u001b[0m\u001b[37m   ⠙ 41a20ff430bc Pulling fs layer                                         1.2s\n",
      "\u001b[0m\u001b[37m   ⠙ d326b14c5477 Waiting                                                  1.2s\n",
      "\u001b[0m\u001b[37m   ⠙ 00477ff4bbe5 Waiting                                                  1.2s\n",
      "\u001b[0m\u001b[37m   ⠙ 970a5a4847d9 Pulling fs layer                                         1.2s\n",
      "\u001b[0m\u001b[37m   ⠙ 4f4fb700ef54 Waiting                                                  1.2s\n",
      "\u001b[0m\u001b[37m   ⠙ f1bbb1bc1e67 Waiting                                                  1.2s\n",
      "\u001b[0m\u001b[?25h\u001b[1A\u001b[1A\u001b[1A\u001b[1A\u001b[1A\u001b[1A\u001b[1A\u001b[1A\u001b[1A\u001b[1A\u001b[0G\u001b[?25l[+] Running 0/9\n",
      "\u001b[37m ⠧ redis Pulling                                                           6.7s\n",
      "\u001b[0m\u001b[37m   ⠹ c30352492317 Pulling fs layer                                         1.3s\n",
      "\u001b[0m\u001b[37m   ⠹ 2e707cb76875 Pulling fs layer                                         1.3s\n",
      "\u001b[0m\u001b[37m   ⠹ 41a20ff430bc Pulling fs layer                                         1.3s\n",
      "\u001b[0m\u001b[37m   ⠹ d326b14c5477 Waiting                                                  1.3s\n",
      "\u001b[0m\u001b[37m   ⠹ 00477ff4bbe5 Waiting                                                  1.3s\n",
      "\u001b[0m\u001b[37m   ⠹ 970a5a4847d9 Pulling fs layer                                         1.3s\n",
      "\u001b[0m\u001b[37m   ⠹ 4f4fb700ef54 Waiting                                                  1.3s\n",
      "\u001b[0m\u001b[37m   ⠹ f1bbb1bc1e67 Waiting                                                  1.3s\n",
      "\u001b[0m\u001b[?25h\u001b[1A\u001b[1A\u001b[1A\u001b[1A\u001b[1A\u001b[1A\u001b[1A\u001b[1A\u001b[1A\u001b[1A\u001b[0G\u001b[?25l[+] Running 0/9\n",
      "\u001b[37m ⠇ redis Pulling                                                           6.8s\n",
      "\u001b[0m\u001b[37m   ⠸ c30352492317 Pulling fs layer                                         1.4s\n",
      "\u001b[0m\u001b[37m   ⠸ 2e707cb76875 Pulling fs layer                                         1.4s\n",
      "\u001b[0m\u001b[37m   ⠸ 41a20ff430bc Pulling fs layer                                         1.4s\n",
      "\u001b[0m\u001b[37m   ⠸ d326b14c5477 Waiting                                                  1.4s\n",
      "\u001b[0m\u001b[37m   ⠸ 00477ff4bbe5 Waiting                                                  1.4s\n",
      "\u001b[0m\u001b[37m   ⠸ 970a5a4847d9 Pulling fs layer                                         1.4s\n",
      "\u001b[0m\u001b[37m   ⠸ 4f4fb700ef54 Waiting                                                  1.4s\n",
      "\u001b[0m\u001b[37m   ⠸ f1bbb1bc1e67 Waiting                                                  1.4s\n",
      "\u001b[0m\u001b[?25h\u001b[1A\u001b[1A\u001b[1A\u001b[1A\u001b[1A\u001b[1A\u001b[1A\u001b[1A\u001b[1A\u001b[1A\u001b[0G\u001b[?25l[+] Running 0/9\n",
      "\u001b[37m ⠏ redis Pulling                                                           6.9s\n",
      "\u001b[0m\u001b[37m   ⠼ c30352492317 Pulling fs layer                                         1.5s\n",
      "\u001b[0m\u001b[37m   ⠼ 2e707cb76875 Pulling fs layer                                         1.5s\n",
      "\u001b[0m\u001b[37m   ⠼ 41a20ff430bc Pulling fs layer                                         1.5s\n",
      "\u001b[0m\u001b[37m   ⠼ d326b14c5477 Waiting                                                  1.5s\n",
      "\u001b[0m\u001b[37m   ⠼ 00477ff4bbe5 Waiting                                                  1.5s\n",
      "\u001b[0m\u001b[37m   ⠼ 970a5a4847d9 Pulling fs layer                                         1.5s\n",
      "\u001b[0m\u001b[37m   ⠼ 4f4fb700ef54 Waiting                                                  1.5s\n",
      "\u001b[0m\u001b[37m   ⠼ f1bbb1bc1e67 Waiting                                                  1.5s\n",
      "\u001b[0m\u001b[?25h\u001b[1A\u001b[1A\u001b[1A\u001b[1A\u001b[1A\u001b[1A\u001b[1A\u001b[1A\u001b[1A\u001b[1A\u001b[0G\u001b[?25l[+] Running 0/9\n",
      "\u001b[37m ⠋ redis Pulling                                                           7.0s\n",
      "\u001b[0m\u001b[37m   ⠴ c30352492317 Pulling fs layer                                         1.6s\n",
      "\u001b[0m\u001b[37m   ⠴ 2e707cb76875 Pulling fs layer                                         1.6s\n",
      "\u001b[0m\u001b[37m   ⠴ 41a20ff430bc Pulling fs layer                                         1.6s\n",
      "\u001b[0m\u001b[37m   ⠴ d326b14c5477 Waiting                                                  1.6s\n",
      "\u001b[0m\u001b[37m   ⠴ 00477ff4bbe5 Waiting                                                  1.6s\n",
      "\u001b[0m\u001b[37m   ⠴ 970a5a4847d9 Pulling fs layer                                         1.6s\n",
      "\u001b[0m\u001b[37m   ⠴ 4f4fb700ef54 Waiting                                                  1.6s\n",
      "\u001b[0m\u001b[37m   ⠴ f1bbb1bc1e67 Waiting                                                  1.6s\n",
      "\u001b[0m\u001b[?25h\u001b[1A\u001b[1A\u001b[1A\u001b[1A\u001b[1A\u001b[1A\u001b[1A\u001b[1A\u001b[1A\u001b[1A\u001b[0G\u001b[?25l[+] Running 0/9\n",
      "\u001b[37m ⠙ redis Pulling                                                           7.1s\n",
      "\u001b[0m\u001b[37m   ⠦ c30352492317 Pulling fs layer                                         1.7s\n",
      "\u001b[0m\u001b[37m   ⠦ 2e707cb76875 Pulling fs layer                                         1.7s\n",
      "\u001b[0m\u001b[37m   ⠦ 41a20ff430bc Pulling fs layer                                         1.7s\n",
      "\u001b[0m\u001b[37m   ⠦ d326b14c5477 Waiting                                                  1.7s\n",
      "\u001b[0m\u001b[37m   ⠦ 00477ff4bbe5 Waiting                                                  1.7s\n",
      "\u001b[0m\u001b[37m   ⠦ 970a5a4847d9 Pulling fs layer                                         1.7s\n",
      "\u001b[0m\u001b[37m   ⠦ 4f4fb700ef54 Waiting                                                  1.7s\n",
      "\u001b[0m\u001b[37m   ⠦ f1bbb1bc1e67 Waiting                                                  1.7s\n",
      "\u001b[0m\u001b[?25h\u001b[1A\u001b[1A\u001b[1A\u001b[1A\u001b[1A\u001b[1A\u001b[1A\u001b[1A\u001b[1A\u001b[1A\u001b[0G\u001b[?25l[+] Running 0/9\n",
      "\u001b[37m ⠹ redis Pulling                                                           7.2s\n",
      "\u001b[0m\u001b[37m   ⠧ c30352492317 Pulling fs layer                                         1.8s\n",
      "\u001b[0m\u001b[37m   ⠧ 2e707cb76875 Pulling fs layer                                         1.8s\n",
      "\u001b[0m\u001b[37m   ⠧ 41a20ff430bc Pulling fs layer                                         1.8s\n",
      "\u001b[0m\u001b[37m   ⠧ d326b14c5477 Waiting                                                  1.8s\n",
      "\u001b[0m\u001b[37m   ⠧ 00477ff4bbe5 Waiting                                                  1.8s\n",
      "\u001b[0m\u001b[37m   ⠧ 970a5a4847d9 Pulling fs layer                                         1.8s\n",
      "\u001b[0m\u001b[37m   ⠧ 4f4fb700ef54 Waiting                                                  1.8s\n",
      "\u001b[0m\u001b[37m   ⠧ f1bbb1bc1e67 Waiting                                                  1.8s\n",
      "\u001b[0m\u001b[?25h\u001b[1A\u001b[1A\u001b[1A\u001b[1A\u001b[1A\u001b[1A\u001b[1A\u001b[1A\u001b[1A\u001b[1A\u001b[0G\u001b[?25l[+] Running 0/9\n",
      "\u001b[37m ⠸ redis Pulling                                                           7.3s\n",
      "\u001b[0m\u001b[37m   ⠇ c30352492317 Downloading  34.14kB/3.348MB                             1.9s\n",
      "\u001b[0m\u001b[37m   ⠇ 2e707cb76875 Download complete                                        1.9s\n",
      "\u001b[0m\u001b[37m   ⠇ 41a20ff430bc Downloading  4.107kB/345kB                               1.9s\n",
      "\u001b[0m\u001b[37m   ⠇ d326b14c5477 Waiting                                                  1.9s\n",
      "\u001b[0m\u001b[37m   ⠇ 00477ff4bbe5 Waiting                                                  1.9s\n",
      "\u001b[0m\u001b[37m   ⠇ 970a5a4847d9 Pulling fs layer                                         1.9s\n",
      "\u001b[0m\u001b[37m   ⠇ 4f4fb700ef54 Waiting                                                  1.9s\n",
      "\u001b[0m\u001b[37m   ⠇ f1bbb1bc1e67 Waiting                                                  1.9s\n",
      "\u001b[0m\u001b[?25h\u001b[1A\u001b[1A\u001b[1A\u001b[1A\u001b[1A\u001b[1A\u001b[1A\u001b[1A\u001b[1A\u001b[1A\u001b[0G\u001b[?25l[+] Running 0/9\n",
      "\u001b[37m ⠼ redis Pulling                                                           7.4s\n",
      "\u001b[0m\u001b[37m   ⠏ c30352492317 Downloading  143.8kB/3.348MB                             2.0s\n",
      "\u001b[0m\u001b[37m   ⠏ 2e707cb76875 Download complete                                        2.0s\n",
      "\u001b[0m\u001b[37m   ⠏ 41a20ff430bc Downloading  4.107kB/345kB                               2.0s\n",
      "\u001b[0m\u001b[37m   ⠏ d326b14c5477 Waiting                                                  2.0s\n",
      "\u001b[0m\u001b[37m   ⠏ 00477ff4bbe5 Waiting                                                  2.0s\n",
      "\u001b[0m\u001b[37m   ⠏ 970a5a4847d9 Pulling fs layer                                         2.0s\n",
      "\u001b[0m\u001b[37m   ⠏ 4f4fb700ef54 Waiting                                                  2.0s\n",
      "\u001b[0m\u001b[37m   ⠏ f1bbb1bc1e67 Waiting                                                  2.0s\n",
      "\u001b[0m\u001b[?25h\u001b[1A\u001b[1A\u001b[1A\u001b[1A\u001b[1A\u001b[1A\u001b[1A\u001b[1A\u001b[1A\u001b[1A\u001b[0G\u001b[?25l[+] Running 0/9\n",
      "\u001b[37m ⠴ redis Pulling                                                           7.5s\n",
      "\u001b[0m\u001b[37m   ⠋ c30352492317 Downloading  143.8kB/3.348MB                             2.1s\n",
      "\u001b[0m\u001b[37m   ⠋ 2e707cb76875 Download complete                                        2.1s\n",
      "\u001b[0m\u001b[37m   ⠋ 41a20ff430bc Downloading  135.3kB/345kB                               2.1s\n",
      "\u001b[0m\u001b[37m   ⠋ d326b14c5477 Waiting                                                  2.1s\n",
      "\u001b[0m\u001b[37m   ⠋ 00477ff4bbe5 Waiting                                                  2.1s\n",
      "\u001b[0m\u001b[37m   ⠋ 970a5a4847d9 Pulling fs layer                                         2.1s\n",
      "\u001b[0m\u001b[37m   ⠋ 4f4fb700ef54 Waiting                                                  2.1s\n",
      "\u001b[0m\u001b[37m   ⠋ f1bbb1bc1e67 Waiting                                                  2.1s\n",
      "\u001b[0m\u001b[?25h\u001b[1A\u001b[1A\u001b[1A\u001b[1A\u001b[1A\u001b[1A\u001b[1A\u001b[1A\u001b[1A\u001b[1A\u001b[0G\u001b[?25l[+] Running 0/9\n",
      "\u001b[37m ⠦ redis Pulling                                                           7.6s\n",
      "\u001b[0m\u001b[37m   ⠙ c30352492317 Downloading  262.1kB/3.348MB                             2.2s\n",
      "\u001b[0m\u001b[37m   ⠙ 2e707cb76875 Download complete                                        2.2s\n",
      "\u001b[0m\u001b[37m   ⠙ 41a20ff430bc Downloading  135.3kB/345kB                               2.2s\n",
      "\u001b[0m\u001b[37m   ⠙ d326b14c5477 Waiting                                                  2.2s\n",
      "\u001b[0m\u001b[37m   ⠙ 00477ff4bbe5 Waiting                                                  2.2s\n",
      "\u001b[0m\u001b[37m   ⠙ 970a5a4847d9 Pulling fs layer                                         2.2s\n",
      "\u001b[0m\u001b[37m   ⠙ 4f4fb700ef54 Waiting                                                  2.2s\n",
      "\u001b[0m\u001b[37m   ⠙ f1bbb1bc1e67 Waiting                                                  2.2s\n",
      "\u001b[0m\u001b[?25h\u001b[1A\u001b[1A\u001b[1A\u001b[1A\u001b[1A\u001b[1A\u001b[1A\u001b[1A\u001b[1A\u001b[1A\u001b[0G\u001b[?25l[+] Running 0/9\n",
      "\u001b[37m ⠧ redis Pulling                                                           7.7s\n",
      "\u001b[0m\u001b[37m   ⠹ c30352492317 Downloading  262.1kB/3.348MB                             2.3s\n",
      "\u001b[0m\u001b[37m   ⠹ 2e707cb76875 Download complete                                        2.3s\n",
      "\u001b[0m\u001b[37m   ⠹ 41a20ff430bc Downloading  135.3kB/345kB                               2.3s\n",
      "\u001b[0m\u001b[37m   ⠹ d326b14c5477 Waiting                                                  2.3s\n",
      "\u001b[0m\u001b[37m   ⠹ 00477ff4bbe5 Waiting                                                  2.3s\n",
      "\u001b[0m\u001b[37m   ⠹ 970a5a4847d9 Pulling fs layer                                         2.3s\n",
      "\u001b[0m\u001b[37m   ⠹ 4f4fb700ef54 Waiting                                                  2.3s\n",
      "\u001b[0m\u001b[37m   ⠹ f1bbb1bc1e67 Waiting                                                  2.3s\n",
      "\u001b[0m\u001b[?25h\u001b[1A\u001b[1A\u001b[1A\u001b[1A\u001b[1A\u001b[1A\u001b[1A\u001b[1A\u001b[1A\u001b[1A\u001b[0G\u001b[?25l[+] Running 0/9\n",
      "\u001b[37m ⠇ redis Pulling                                                           7.8s\n",
      "\u001b[0m\u001b[37m   ⠸ c30352492317 Downloading  606.2kB/3.348MB                             2.4s\n",
      "\u001b[0m\u001b[37m   ⠸ 2e707cb76875 Download complete                                        2.4s\n",
      "\u001b[0m\u001b[37m   ⠸ 41a20ff430bc Download complete                                        2.4s\n",
      "\u001b[0m\u001b[37m   ⠸ d326b14c5477 Waiting                                                  2.4s\n",
      "\u001b[0m\u001b[37m   ⠸ 00477ff4bbe5 Waiting                                                  2.4s\n",
      "\u001b[0m\u001b[37m   ⠸ 970a5a4847d9 Pulling fs layer                                         2.4s\n",
      "\u001b[0m\u001b[37m   ⠸ 4f4fb700ef54 Waiting                                                  2.4s\n",
      "\u001b[0m\u001b[37m   ⠸ f1bbb1bc1e67 Waiting                                                  2.4s\n",
      "\u001b[0m\u001b[?25h\u001b[1A\u001b[1A\u001b[1A\u001b[1A\u001b[1A\u001b[1A\u001b[1A\u001b[1A\u001b[1A\u001b[1A\u001b[0G\u001b[?25l[+] Running 0/9\n",
      "\u001b[37m ⠏ redis Pulling                                                           7.9s\n",
      "\u001b[0m\u001b[37m   ⠼ c30352492317 Downloading    852kB/3.348MB                             2.5s\n",
      "\u001b[0m\u001b[37m   ⠼ 2e707cb76875 Download complete                                        2.5s\n",
      "\u001b[0m\u001b[37m   ⠼ 41a20ff430bc Download complete                                        2.5s\n",
      "\u001b[0m\u001b[37m   ⠼ d326b14c5477 Waiting                                                  2.5s\n",
      "\u001b[0m\u001b[37m   ⠼ 00477ff4bbe5 Waiting                                                  2.5s\n",
      "\u001b[0m\u001b[37m   ⠼ 970a5a4847d9 Pulling fs layer                                         2.5s\n",
      "\u001b[0m\u001b[37m   ⠼ 4f4fb700ef54 Waiting                                                  2.5s\n",
      "\u001b[0m\u001b[37m   ⠼ f1bbb1bc1e67 Waiting                                                  2.5s\n",
      "\u001b[0m\u001b[?25h\u001b[1A\u001b[1A\u001b[1A\u001b[1A\u001b[1A\u001b[1A\u001b[1A\u001b[1A\u001b[1A\u001b[1A\u001b[0G\u001b[?25l[+] Running 0/9\n",
      "\u001b[37m ⠋ redis Pulling                                                           8.0s\n",
      "\u001b[0m\u001b[37m   ⠴ c30352492317 Downloading    852kB/3.348MB                             2.6s\n",
      "\u001b[0m\u001b[37m   ⠴ 2e707cb76875 Download complete                                        2.6s\n",
      "\u001b[0m\u001b[37m   ⠴ 41a20ff430bc Download complete                                        2.6s\n",
      "\u001b[0m\u001b[37m   ⠴ d326b14c5477 Waiting                                                  2.6s\n",
      "\u001b[0m\u001b[37m   ⠴ 00477ff4bbe5 Waiting                                                  2.6s\n",
      "\u001b[0m\u001b[37m   ⠴ 970a5a4847d9 Pulling fs layer                                         2.6s\n",
      "\u001b[0m\u001b[37m   ⠴ 4f4fb700ef54 Waiting                                                  2.6s\n",
      "\u001b[0m\u001b[37m   ⠴ f1bbb1bc1e67 Waiting                                                  2.6s\n",
      "\u001b[0m\u001b[?25h\u001b[1A\u001b[1A\u001b[1A\u001b[1A\u001b[1A\u001b[1A\u001b[1A\u001b[1A\u001b[1A\u001b[1A\u001b[0G\u001b[?25l[+] Running 0/9\n",
      "\u001b[37m ⠙ redis Pulling                                                           8.1s\n",
      "\u001b[0m\u001b[37m   ⠦ c30352492317 Downloading  901.1kB/3.348MB                             2.7s\n",
      "\u001b[0m\u001b[37m   ⠦ 2e707cb76875 Download complete                                        2.7s\n",
      "\u001b[0m\u001b[37m   ⠦ 41a20ff430bc Download complete                                        2.7s\n",
      "\u001b[0m\u001b[37m   ⠦ d326b14c5477 Waiting                                                  2.7s\n",
      "\u001b[0m\u001b[37m   ⠦ 00477ff4bbe5 Waiting                                                  2.7s\n",
      "\u001b[0m\u001b[37m   ⠦ 970a5a4847d9 Pulling fs layer                                         2.7s\n",
      "\u001b[0m\u001b[37m   ⠦ 4f4fb700ef54 Waiting                                                  2.7s\n",
      "\u001b[0m\u001b[37m   ⠦ f1bbb1bc1e67 Waiting                                                  2.7s\n",
      "\u001b[0m\u001b[?25h\u001b[1A\u001b[1A\u001b[1A\u001b[1A\u001b[1A\u001b[1A\u001b[1A\u001b[1A\u001b[1A\u001b[1A\u001b[0G\u001b[?25l[+] Running 0/9\n",
      "\u001b[37m ⠹ redis Pulling                                                           8.2s\n",
      "\u001b[0m\u001b[37m   ⠧ c30352492317 Downloading  1.436MB/3.348MB                             2.8s\n",
      "\u001b[0m\u001b[37m   ⠧ 2e707cb76875 Download complete                                        2.8s\n",
      "\u001b[0m\u001b[37m   ⠧ 41a20ff430bc Download complete                                        2.8s\n",
      "\u001b[0m\u001b[37m   ⠧ d326b14c5477 Waiting                                                  2.8s\n",
      "\u001b[0m\u001b[37m   ⠧ 00477ff4bbe5 Waiting                                                  2.8s\n",
      "\u001b[0m\u001b[37m   ⠧ 970a5a4847d9 Pulling fs layer                                         2.8s\n",
      "\u001b[0m\u001b[37m   ⠧ 4f4fb700ef54 Waiting                                                  2.8s\n",
      "\u001b[0m\u001b[37m   ⠧ f1bbb1bc1e67 Waiting                                                  2.8s\n",
      "\u001b[0m\u001b[?25h\u001b[1A\u001b[1A\u001b[1A\u001b[1A\u001b[1A\u001b[1A\u001b[1A\u001b[1A\u001b[1A\u001b[1A\u001b[0G\u001b[?25l[+] Running 0/9\n",
      "\u001b[37m ⠸ redis Pulling                                                           8.3s\n",
      "\u001b[0m\u001b[37m   ⠇ c30352492317 Downloading  1.436MB/3.348MB                             2.9s\n",
      "\u001b[0m\u001b[37m   ⠇ 2e707cb76875 Download complete                                        2.9s\n",
      "\u001b[0m\u001b[37m   ⠇ 41a20ff430bc Download complete                                        2.9s\n",
      "\u001b[0m\u001b[37m   ⠇ d326b14c5477 Waiting                                                  2.9s\n",
      "\u001b[0m\u001b[37m   ⠇ 00477ff4bbe5 Waiting                                                  2.9s\n",
      "\u001b[0m\u001b[37m   ⠇ 970a5a4847d9 Pulling fs layer                                         2.9s\n",
      "\u001b[0m\u001b[37m   ⠇ 4f4fb700ef54 Waiting                                                  2.9s\n",
      "\u001b[0m\u001b[37m   ⠇ f1bbb1bc1e67 Waiting                                                  2.9s\n",
      "\u001b[0m\u001b[?25h\u001b[1A\u001b[1A\u001b[1A\u001b[1A\u001b[1A\u001b[1A\u001b[1A\u001b[1A\u001b[1A\u001b[1A\u001b[0G\u001b[?25l[+] Running 0/9\n",
      "\u001b[37m ⠼ redis Pulling                                                           8.4s\n",
      "\u001b[0m\u001b[37m   ⠏ c30352492317 Downloading  1.731MB/3.348MB                             3.0s\n",
      "\u001b[0m\u001b[37m   ⠏ 2e707cb76875 Download complete                                        3.0s\n",
      "\u001b[0m\u001b[37m   ⠏ 41a20ff430bc Download complete                                        3.0s\n",
      "\u001b[0m\u001b[37m   ⠏ d326b14c5477 Waiting                                                  3.0s\n",
      "\u001b[0m\u001b[37m   ⠏ 00477ff4bbe5 Waiting                                                  3.0s\n",
      "\u001b[0m\u001b[37m   ⠏ 970a5a4847d9 Pulling fs layer                                         3.0s\n",
      "\u001b[0m\u001b[37m   ⠏ 4f4fb700ef54 Waiting                                                  3.0s\n",
      "\u001b[0m\u001b[37m   ⠏ f1bbb1bc1e67 Waiting                                                  3.0s\n",
      "\u001b[0m\u001b[?25h\u001b[1A\u001b[1A\u001b[1A\u001b[1A\u001b[1A\u001b[1A\u001b[1A\u001b[1A\u001b[1A\u001b[1A\u001b[0G\u001b[?25l[+] Running 0/9\n",
      "\u001b[37m ⠴ redis Pulling                                                           8.5s\n",
      "\u001b[0m\u001b[37m   ⠋ c30352492317 Downloading  2.259MB/3.348MB                             3.1s\n",
      "\u001b[0m\u001b[37m   ⠋ 2e707cb76875 Download complete                                        3.1s\n",
      "\u001b[0m\u001b[37m   ⠋ 41a20ff430bc Download complete                                        3.1s\n",
      "\u001b[0m\u001b[37m   ⠋ d326b14c5477 Waiting                                                  3.1s\n",
      "\u001b[0m\u001b[37m   ⠋ 00477ff4bbe5 Waiting                                                  3.1s\n",
      "\u001b[0m\u001b[37m   ⠋ 970a5a4847d9 Pulling fs layer                                         3.1s\n",
      "\u001b[0m\u001b[37m   ⠋ 4f4fb700ef54 Waiting                                                  3.1s\n",
      "\u001b[0m\u001b[37m   ⠋ f1bbb1bc1e67 Waiting                                                  3.1s\n",
      "\u001b[0m\u001b[?25h\u001b[1A\u001b[1A\u001b[1A\u001b[1A\u001b[1A\u001b[1A\u001b[1A\u001b[1A\u001b[1A\u001b[1A\u001b[0G\u001b[?25l[+] Running 0/9\n",
      "\u001b[37m ⠦ redis Pulling                                                           8.6s\n",
      "\u001b[0m\u001b[37m   ⠙ c30352492317 Downloading  2.702MB/3.348MB                             3.2s\n",
      "\u001b[0m\u001b[37m   ⠙ 2e707cb76875 Download complete                                        3.2s\n",
      "\u001b[0m\u001b[37m   ⠙ 41a20ff430bc Download complete                                        3.2s\n",
      "\u001b[0m\u001b[37m   ⠙ d326b14c5477 Waiting                                                  3.2s\n",
      "\u001b[0m\u001b[37m   ⠙ 00477ff4bbe5 Waiting                                                  3.2s\n",
      "\u001b[0m\u001b[37m   ⠙ 970a5a4847d9 Pulling fs layer                                         3.2s\n",
      "\u001b[0m\u001b[37m   ⠙ 4f4fb700ef54 Waiting                                                  3.2s\n",
      "\u001b[0m\u001b[37m   ⠙ f1bbb1bc1e67 Waiting                                                  3.2s\n",
      "\u001b[0m\u001b[?25h\u001b[1A\u001b[1A\u001b[1A\u001b[1A\u001b[1A\u001b[1A\u001b[1A\u001b[1A\u001b[1A\u001b[1A\u001b[0G\u001b[?25l[+] Running 0/9\n",
      "\u001b[37m ⠧ redis Pulling                                                           8.7s\n",
      "\u001b[0m\u001b[37m   ⠹ c30352492317 Downloading  3.046MB/3.348MB                             3.3s\n",
      "\u001b[0m\u001b[37m   ⠹ 2e707cb76875 Download complete                                        3.3s\n",
      "\u001b[0m\u001b[37m   ⠹ 41a20ff430bc Download complete                                        3.3s\n",
      "\u001b[0m\u001b[37m   ⠹ d326b14c5477 Waiting                                                  3.3s\n",
      "\u001b[0m\u001b[37m   ⠹ 00477ff4bbe5 Waiting                                                  3.3s\n",
      "\u001b[0m\u001b[37m   ⠹ 970a5a4847d9 Pulling fs layer                                         3.3s\n",
      "\u001b[0m\u001b[37m   ⠹ 4f4fb700ef54 Waiting                                                  3.3s\n",
      "\u001b[0m\u001b[37m   ⠹ f1bbb1bc1e67 Waiting                                                  3.3s\n",
      "\u001b[0m\u001b[?25h\u001b[1A\u001b[1A\u001b[1A\u001b[1A\u001b[1A\u001b[1A\u001b[1A\u001b[1A\u001b[1A\u001b[1A\u001b[0G\u001b[?25l[+] Running 0/9\n",
      "\u001b[37m ⠇ redis Pulling                                                           8.8s\n",
      "\u001b[0m\u001b[37m   ⠸ c30352492317 Downloading  3.144MB/3.348MB                             3.4s\n",
      "\u001b[0m\u001b[37m   ⠸ 2e707cb76875 Download complete                                        3.4s\n",
      "\u001b[0m\u001b[37m   ⠸ 41a20ff430bc Download complete                                        3.4s\n",
      "\u001b[0m\u001b[37m   ⠸ d326b14c5477 Waiting                                                  3.4s\n",
      "\u001b[0m\u001b[37m   ⠸ 00477ff4bbe5 Waiting                                                  3.4s\n",
      "\u001b[0m\u001b[37m   ⠸ 970a5a4847d9 Pulling fs layer                                         3.4s\n",
      "\u001b[0m\u001b[37m   ⠸ 4f4fb700ef54 Waiting                                                  3.4s\n",
      "\u001b[0m\u001b[37m   ⠸ f1bbb1bc1e67 Waiting                                                  3.4s\n",
      "\u001b[0m\u001b[?25h\u001b[1A\u001b[1A\u001b[1A\u001b[1A\u001b[1A\u001b[1A\u001b[1A\u001b[1A\u001b[1A\u001b[1A\u001b[0G\u001b[?25l[+] Running 0/9\n",
      "\u001b[37m ⠏ redis Pulling                                                           8.9s\n",
      "\u001b[0m\u001b[37m   ⠼ c30352492317 Extracting  65.54kB/3.348MB                              3.5s\n",
      "\u001b[0m\u001b[37m   ⠼ 2e707cb76875 Download complete                                        3.5s\n",
      "\u001b[0m\u001b[37m   ⠼ 41a20ff430bc Download complete                                        3.5s\n",
      "\u001b[0m\u001b[37m   ⠼ d326b14c5477 Waiting                                                  3.5s\n",
      "\u001b[0m\u001b[37m   ⠼ 00477ff4bbe5 Waiting                                                  3.5s\n",
      "\u001b[0m\u001b[37m   ⠼ 970a5a4847d9 Pulling fs layer                                         3.5s\n",
      "\u001b[0m\u001b[37m   ⠼ 4f4fb700ef54 Waiting                                                  3.5s\n",
      "\u001b[0m\u001b[37m   ⠼ f1bbb1bc1e67 Waiting                                                  3.5s\n",
      "\u001b[0m\u001b[?25h\u001b[1A\u001b[1A\u001b[1A\u001b[1A\u001b[1A\u001b[1A\u001b[1A\u001b[1A\u001b[1A\u001b[1A\u001b[0G\u001b[?25l[+] Running 0/9\n",
      "\u001b[37m ⠋ redis Pulling                                                           9.0s\n",
      "\u001b[0m\u001b[37m   ⠴ c30352492317 Extracting  327.7kB/3.348MB                              3.6s\n",
      "\u001b[0m\u001b[37m   ⠴ 2e707cb76875 Download complete                                        3.6s\n",
      "\u001b[0m\u001b[37m   ⠴ 41a20ff430bc Download complete                                        3.6s\n",
      "\u001b[0m\u001b[37m   ⠴ d326b14c5477 Waiting                                                  3.6s\n",
      "\u001b[0m\u001b[37m   ⠴ 00477ff4bbe5 Waiting                                                  3.6s\n",
      "\u001b[0m\u001b[37m   ⠴ 970a5a4847d9 Pulling fs layer                                         3.6s\n",
      "\u001b[0m\u001b[37m   ⠴ 4f4fb700ef54 Waiting                                                  3.6s\n",
      "\u001b[0m\u001b[37m   ⠴ f1bbb1bc1e67 Waiting                                                  3.6s\n",
      "\u001b[0m\u001b[?25h\u001b[1A\u001b[1A\u001b[1A\u001b[1A\u001b[1A\u001b[1A\u001b[1A\u001b[1A\u001b[1A\u001b[1A\u001b[0G\u001b[?25l[+] Running 0/9\n",
      "\u001b[37m ⠙ redis Pulling                                                           9.1s\n",
      "\u001b[0m\u001b[37m   ⠦ c30352492317 Extracting  3.348MB/3.348MB                              3.7s\n",
      "\u001b[0m\u001b[37m   ⠦ 2e707cb76875 Download complete                                        3.7s\n",
      "\u001b[0m\u001b[37m   ⠦ 41a20ff430bc Download complete                                        3.7s\n",
      "\u001b[0m\u001b[37m   ⠦ d326b14c5477 Waiting                                                  3.7s\n",
      "\u001b[0m\u001b[37m   ⠦ 00477ff4bbe5 Waiting                                                  3.7s\n",
      "\u001b[0m\u001b[37m   ⠦ 970a5a4847d9 Pulling fs layer                                         3.7s\n",
      "\u001b[0m\u001b[37m   ⠦ 4f4fb700ef54 Waiting                                                  3.7s\n",
      "\u001b[0m\u001b[37m   ⠦ f1bbb1bc1e67 Waiting                                                  3.7s\n",
      "\u001b[0m\u001b[?25h\u001b[1A\u001b[1A\u001b[1A\u001b[1A\u001b[1A\u001b[1A\u001b[1A\u001b[1A\u001b[1A\u001b[1A\u001b[0G\u001b[?25l[+] Running 2/9\n",
      "\u001b[37m ⠹ redis Pulling                                                           9.2s\n",
      "\u001b[0m\u001b[34m   ⠿ c30352492317 Pull complete                                            3.7s\n",
      "\u001b[0m\u001b[34m   ⠿ 2e707cb76875 Pull complete                                            3.7s\n",
      "\u001b[0m\u001b[37m   ⠧ 41a20ff430bc Extracting  32.77kB/345kB                                3.8s\n",
      "\u001b[0m\u001b[37m   ⠧ d326b14c5477 Waiting                                                  3.8s\n",
      "\u001b[0m\u001b[37m   ⠧ 00477ff4bbe5 Waiting                                                  3.8s\n",
      "\u001b[0m\u001b[37m   ⠧ 970a5a4847d9 Pulling fs layer                                         3.8s\n",
      "\u001b[0m\u001b[37m   ⠧ 4f4fb700ef54 Waiting                                                  3.8s\n",
      "\u001b[0m\u001b[37m   ⠧ f1bbb1bc1e67 Waiting                                                  3.8s\n",
      "\u001b[0m\u001b[?25h\u001b[1A\u001b[1A\u001b[1A\u001b[1A\u001b[1A\u001b[1A\u001b[1A\u001b[1A\u001b[1A\u001b[1A\u001b[0G\u001b[?25l[+] Running 2/9\n",
      "\u001b[37m ⠸ redis Pulling                                                           9.3s\n",
      "\u001b[0m\u001b[34m   ⠿ c30352492317 Pull complete                                            3.7s\n",
      "\u001b[0m\u001b[34m   ⠿ 2e707cb76875 Pull complete                                            3.7s\n",
      "\u001b[0m\u001b[37m   ⠇ 41a20ff430bc Extracting  32.77kB/345kB                                3.9s\n",
      "\u001b[0m\u001b[37m   ⠇ d326b14c5477 Downloading   10.3kB/944.6kB                             3.9s\n",
      "\u001b[0m\u001b[37m   ⠇ 00477ff4bbe5 Waiting                                                  3.9s\n",
      "\u001b[0m\u001b[37m   ⠇ 970a5a4847d9 Pulling fs layer                                         3.9s\n",
      "\u001b[0m\u001b[37m   ⠇ 4f4fb700ef54 Waiting                                                  3.9s\n",
      "\u001b[0m\u001b[37m   ⠇ f1bbb1bc1e67 Waiting                                                  3.9s\n",
      "\u001b[0m\u001b[?25h\u001b[1A\u001b[1A\u001b[1A\u001b[1A\u001b[1A\u001b[1A\u001b[1A\u001b[1A\u001b[1A\u001b[1A\u001b[0G\u001b[?25l[+] Running 2/9\n",
      "\u001b[37m ⠼ redis Pulling                                                           9.4s\n",
      "\u001b[0m\u001b[34m   ⠿ c30352492317 Pull complete                                            3.7s\n",
      "\u001b[0m\u001b[34m   ⠿ 2e707cb76875 Pull complete                                            3.7s\n",
      "\u001b[0m\u001b[37m   ⠏ 41a20ff430bc Extracting    345kB/345kB                                4.0s\n",
      "\u001b[0m\u001b[37m   ⠏ d326b14c5477 Downloading  130.3kB/944.6kB                             4.0s\n",
      "\u001b[0m\u001b[37m   ⠏ 00477ff4bbe5 Waiting                                                  4.0s\n",
      "\u001b[0m\u001b[37m   ⠏ 970a5a4847d9 Pulling fs layer                                         4.0s\n",
      "\u001b[0m\u001b[37m   ⠏ 4f4fb700ef54 Waiting                                                  4.0s\n",
      "\u001b[0m\u001b[37m   ⠏ f1bbb1bc1e67 Waiting                                                  4.0s\n",
      "\u001b[0m\u001b[?25h\u001b[1A\u001b[1A\u001b[1A\u001b[1A\u001b[1A\u001b[1A\u001b[1A\u001b[1A\u001b[1A\u001b[1A\u001b[0G\u001b[?25l[+] Running 3/9\n",
      "\u001b[37m ⠴ redis Pulling                                                           9.5s\n",
      "\u001b[0m\u001b[34m   ⠿ c30352492317 Pull complete                                            3.7s\n",
      "\u001b[0m\u001b[34m   ⠿ 2e707cb76875 Pull complete                                            3.7s\n",
      "\u001b[0m\u001b[34m   ⠿ 41a20ff430bc Pull complete                                            4.0s\n",
      "\u001b[0m\u001b[37m   ⠋ d326b14c5477 Downloading  130.3kB/944.6kB                             4.1s\n",
      "\u001b[0m\u001b[37m   ⠋ 00477ff4bbe5 Waiting                                                  4.1s\n",
      "\u001b[0m\u001b[37m   ⠋ 970a5a4847d9 Pulling fs layer                                         4.1s\n",
      "\u001b[0m\u001b[37m   ⠋ 4f4fb700ef54 Waiting                                                  4.1s\n",
      "\u001b[0m\u001b[37m   ⠋ f1bbb1bc1e67 Waiting                                                  4.1s\n",
      "\u001b[0m\u001b[?25h\u001b[1A\u001b[1A\u001b[1A\u001b[1A\u001b[1A\u001b[1A\u001b[1A\u001b[1A\u001b[1A\u001b[1A\u001b[0G\u001b[?25l[+] Running 3/9\n",
      "\u001b[37m ⠦ redis Pulling                                                           9.6s\n",
      "\u001b[0m\u001b[34m   ⠿ c30352492317 Pull complete                                            3.7s\n",
      "\u001b[0m\u001b[34m   ⠿ 2e707cb76875 Pull complete                                            3.7s\n",
      "\u001b[0m\u001b[34m   ⠿ 41a20ff430bc Pull complete                                            4.0s\n",
      "\u001b[0m\u001b[37m   ⠙ d326b14c5477 Downloading  261.4kB/944.6kB                             4.2s\n",
      "\u001b[0m\u001b[37m   ⠙ 00477ff4bbe5 Waiting                                                  4.2s\n",
      "\u001b[0m\u001b[37m   ⠙ 970a5a4847d9 Pulling fs layer                                         4.2s\n",
      "\u001b[0m\u001b[37m   ⠙ 4f4fb700ef54 Waiting                                                  4.2s\n",
      "\u001b[0m\u001b[37m   ⠙ f1bbb1bc1e67 Waiting                                                  4.2s\n",
      "\u001b[0m\u001b[?25h\u001b[1A\u001b[1A\u001b[1A\u001b[1A\u001b[1A\u001b[1A\u001b[1A\u001b[1A\u001b[1A\u001b[1A\u001b[0G\u001b[?25l[+] Running 3/9\n",
      "\u001b[37m ⠧ redis Pulling                                                           9.7s\n",
      "\u001b[0m\u001b[34m   ⠿ c30352492317 Pull complete                                            3.7s\n",
      "\u001b[0m\u001b[34m   ⠿ 2e707cb76875 Pull complete                                            3.7s\n",
      "\u001b[0m\u001b[34m   ⠿ 41a20ff430bc Pull complete                                            4.0s\n",
      "\u001b[0m\u001b[37m   ⠹ d326b14c5477 Downloading  572.7kB/944.6kB                             4.3s\n",
      "\u001b[0m\u001b[37m   ⠹ 00477ff4bbe5 Waiting                                                  4.3s\n",
      "\u001b[0m\u001b[37m   ⠹ 970a5a4847d9 Pulling fs layer                                         4.3s\n",
      "\u001b[0m\u001b[37m   ⠹ 4f4fb700ef54 Waiting                                                  4.3s\n",
      "\u001b[0m\u001b[37m   ⠹ f1bbb1bc1e67 Waiting                                                  4.3s\n",
      "\u001b[0m\u001b[?25h\u001b[1A\u001b[1A\u001b[1A\u001b[1A\u001b[1A\u001b[1A\u001b[1A\u001b[1A\u001b[1A\u001b[1A\u001b[0G\u001b[?25l[+] Running 3/9\n",
      "\u001b[37m ⠇ redis Pulling                                                           9.8s\n",
      "\u001b[0m\u001b[34m   ⠿ c30352492317 Pull complete                                            3.7s\n",
      "\u001b[0m\u001b[34m   ⠿ 2e707cb76875 Pull complete                                            3.7s\n",
      "\u001b[0m\u001b[34m   ⠿ 41a20ff430bc Pull complete                                            4.0s\n",
      "\u001b[0m\u001b[37m   ⠸ d326b14c5477 Extracting  32.77kB/944.6kB                              4.4s\n",
      "\u001b[0m\u001b[37m   ⠸ 00477ff4bbe5 Waiting                                                  4.4s\n",
      "\u001b[0m\u001b[37m   ⠸ 970a5a4847d9 Pulling fs layer                                         4.4s\n",
      "\u001b[0m\u001b[37m   ⠸ 4f4fb700ef54 Waiting                                                  4.4s\n",
      "\u001b[0m\u001b[37m   ⠸ f1bbb1bc1e67 Waiting                                                  4.4s\n",
      "\u001b[0m\u001b[?25h\u001b[1A\u001b[1A\u001b[1A\u001b[1A\u001b[1A\u001b[1A\u001b[1A\u001b[1A\u001b[1A\u001b[1A\u001b[0G\u001b[?25l[+] Running 4/9\n",
      "\u001b[37m ⠏ redis Pulling                                                           9.9s\n",
      "\u001b[0m\u001b[34m   ⠿ c30352492317 Pull complete                                            3.7s\n",
      "\u001b[0m\u001b[34m   ⠿ 2e707cb76875 Pull complete                                            3.7s\n",
      "\u001b[0m\u001b[34m   ⠿ 41a20ff430bc Pull complete                                            4.0s\n",
      "\u001b[0m\u001b[34m   ⠿ d326b14c5477 Pull complete                                            4.4s\n",
      "\u001b[0m\u001b[37m   ⠼ 00477ff4bbe5 Waiting                                                  4.5s\n",
      "\u001b[0m\u001b[37m   ⠼ 970a5a4847d9 Pulling fs layer                                         4.5s\n",
      "\u001b[0m\u001b[37m   ⠼ 4f4fb700ef54 Waiting                                                  4.5s\n",
      "\u001b[0m\u001b[37m   ⠼ f1bbb1bc1e67 Waiting                                                  4.5s\n",
      "\u001b[0m\u001b[?25h\u001b[1A\u001b[1A\u001b[1A\u001b[1A\u001b[1A\u001b[1A\u001b[1A\u001b[1A\u001b[1A\u001b[1A\u001b[0G\u001b[?25l[+] Running 4/9\n",
      "\u001b[37m ⠋ redis Pulling                                                          10.0s\n",
      "\u001b[0m\u001b[34m   ⠿ c30352492317 Pull complete                                            3.7s\n",
      "\u001b[0m\u001b[34m   ⠿ 2e707cb76875 Pull complete                                            3.7s\n",
      "\u001b[0m\u001b[34m   ⠿ 41a20ff430bc Pull complete                                            4.0s\n",
      "\u001b[0m\u001b[34m   ⠿ d326b14c5477 Pull complete                                            4.4s\n",
      "\u001b[0m\u001b[37m   ⠴ 00477ff4bbe5 Downloading  123.7kB/12.15MB                             4.6s\n",
      "\u001b[0m\u001b[37m   ⠴ 970a5a4847d9 Pulling fs layer                                         4.6s\n",
      "\u001b[0m\u001b[37m   ⠴ 4f4fb700ef54 Waiting                                                  4.6s\n",
      "\u001b[0m\u001b[37m   ⠴ f1bbb1bc1e67 Waiting                                                  4.6s\n",
      "\u001b[0m\u001b[?25h\u001b[1A\u001b[1A\u001b[1A\u001b[1A\u001b[1A\u001b[1A\u001b[1A\u001b[1A\u001b[1A\u001b[1A\u001b[0G\u001b[?25l[+] Running 4/9\n",
      "\u001b[37m ⠙ redis Pulling                                                          10.1s\n",
      "\u001b[0m\u001b[34m   ⠿ c30352492317 Pull complete                                            3.7s\n",
      "\u001b[0m\u001b[34m   ⠿ 2e707cb76875 Pull complete                                            3.7s\n",
      "\u001b[0m\u001b[34m   ⠿ 41a20ff430bc Pull complete                                            4.0s\n",
      "\u001b[0m\u001b[34m   ⠿ d326b14c5477 Pull complete                                            4.4s\n",
      "\u001b[0m\u001b[37m   ⠦ 00477ff4bbe5 Downloading  123.7kB/12.15MB                             4.7s\n",
      "\u001b[0m\u001b[37m   ⠦ 970a5a4847d9 Pulling fs layer                                         4.7s\n",
      "\u001b[0m\u001b[37m   ⠦ 4f4fb700ef54 Waiting                                                  4.7s\n",
      "\u001b[0m\u001b[37m   ⠦ f1bbb1bc1e67 Waiting                                                  4.7s\n",
      "\u001b[0m\u001b[?25h\u001b[1A\u001b[1A\u001b[1A\u001b[1A\u001b[1A\u001b[1A\u001b[1A\u001b[1A\u001b[1A\u001b[1A\u001b[0G\u001b[?25l[+] Running 4/9\n",
      "\u001b[37m ⠹ redis Pulling                                                          10.2s\n",
      "\u001b[0m\u001b[34m   ⠿ c30352492317 Pull complete                                            3.7s\n",
      "\u001b[0m\u001b[34m   ⠿ 2e707cb76875 Pull complete                                            3.7s\n",
      "\u001b[0m\u001b[34m   ⠿ 41a20ff430bc Pull complete                                            4.0s\n",
      "\u001b[0m\u001b[34m   ⠿ d326b14c5477 Pull complete                                            4.4s\n",
      "\u001b[0m\u001b[37m   ⠧ 00477ff4bbe5 Downloading  250.5kB/12.15MB                             4.8s\n",
      "\u001b[0m\u001b[37m   ⠧ 970a5a4847d9 Pulling fs layer                                         4.8s\n",
      "\u001b[0m\u001b[37m   ⠧ 4f4fb700ef54 Waiting                                                  4.8s\n",
      "\u001b[0m\u001b[37m   ⠧ f1bbb1bc1e67 Waiting                                                  4.8s\n",
      "\u001b[0m\u001b[?25h\u001b[1A\u001b[1A\u001b[1A\u001b[1A\u001b[1A\u001b[1A\u001b[1A\u001b[1A\u001b[1A\u001b[1A\u001b[0G\u001b[?25l[+] Running 4/9\n",
      "\u001b[37m ⠸ redis Pulling                                                          10.3s\n",
      "\u001b[0m\u001b[34m   ⠿ c30352492317 Pull complete                                            3.7s\n",
      "\u001b[0m\u001b[34m   ⠿ 2e707cb76875 Pull complete                                            3.7s\n",
      "\u001b[0m\u001b[34m   ⠿ 41a20ff430bc Pull complete                                            4.0s\n",
      "\u001b[0m\u001b[34m   ⠿ d326b14c5477 Pull complete                                            4.4s\n",
      "\u001b[0m\u001b[37m   ⠇ 00477ff4bbe5 Downloading  376.8kB/12.15MB                             4.9s\n",
      "\u001b[0m\u001b[37m   ⠇ 970a5a4847d9 Pulling fs layer                                         4.9s\n",
      "\u001b[0m\u001b[37m   ⠇ 4f4fb700ef54 Waiting                                                  4.9s\n",
      "\u001b[0m\u001b[37m   ⠇ f1bbb1bc1e67 Waiting                                                  4.9s\n",
      "\u001b[0m\u001b[?25h\u001b[1A\u001b[1A\u001b[1A\u001b[1A\u001b[1A\u001b[1A\u001b[1A\u001b[1A\u001b[1A\u001b[1A\u001b[0G\u001b[?25l[+] Running 4/9\n",
      "\u001b[37m ⠼ redis Pulling                                                          10.4s\n",
      "\u001b[0m\u001b[34m   ⠿ c30352492317 Pull complete                                            3.7s\n",
      "\u001b[0m\u001b[34m   ⠿ 2e707cb76875 Pull complete                                            3.7s\n",
      "\u001b[0m\u001b[34m   ⠿ 41a20ff430bc Pull complete                                            4.0s\n",
      "\u001b[0m\u001b[34m   ⠿ d326b14c5477 Pull complete                                            4.4s\n",
      "\u001b[0m\u001b[37m   ⠏ 00477ff4bbe5 Downloading     639kB/12.15MB                            5.0s\n",
      "\u001b[0m\u001b[37m   ⠏ 970a5a4847d9 Verifying Checksum                                       5.0s\n",
      "\u001b[0m\u001b[37m   ⠏ 4f4fb700ef54 Waiting                                                  5.0s\n",
      "\u001b[0m\u001b[37m   ⠏ f1bbb1bc1e67 Waiting                                                  5.0s\n",
      "\u001b[0m\u001b[?25h\u001b[1A\u001b[1A\u001b[1A\u001b[1A\u001b[1A\u001b[1A\u001b[1A\u001b[1A\u001b[1A\u001b[1A\u001b[0G\u001b[?25l[+] Running 4/9\n",
      "\u001b[37m ⠴ redis Pulling                                                          10.5s\n",
      "\u001b[0m\u001b[34m   ⠿ c30352492317 Pull complete                                            3.7s\n",
      "\u001b[0m\u001b[34m   ⠿ 2e707cb76875 Pull complete                                            3.7s\n",
      "\u001b[0m\u001b[34m   ⠿ 41a20ff430bc Pull complete                                            4.0s\n",
      "\u001b[0m\u001b[34m   ⠿ d326b14c5477 Pull complete                                            4.4s\n",
      "\u001b[0m\u001b[37m   ⠋ 00477ff4bbe5 Downloading     639kB/12.15MB                            5.1s\n",
      "\u001b[0m\u001b[37m   ⠋ 970a5a4847d9 Verifying Checksum                                       5.1s\n",
      "\u001b[0m\u001b[37m   ⠋ 4f4fb700ef54 Waiting                                                  5.1s\n",
      "\u001b[0m\u001b[37m   ⠋ f1bbb1bc1e67 Waiting                                                  5.1s\n",
      "\u001b[0m\u001b[?25h\u001b[1A\u001b[1A\u001b[1A\u001b[1A\u001b[1A\u001b[1A\u001b[1A\u001b[1A\u001b[1A\u001b[1A\u001b[0G\u001b[?25l[+] Running 4/9\n",
      "\u001b[37m ⠦ redis Pulling                                                          10.6s\n",
      "\u001b[0m\u001b[34m   ⠿ c30352492317 Pull complete                                            3.7s\n",
      "\u001b[0m\u001b[34m   ⠿ 2e707cb76875 Pull complete                                            3.7s\n",
      "\u001b[0m\u001b[34m   ⠿ 41a20ff430bc Pull complete                                            4.0s\n",
      "\u001b[0m\u001b[34m   ⠿ d326b14c5477 Pull complete                                            4.4s\n",
      "\u001b[0m\u001b[37m   ⠙ 00477ff4bbe5 Downloading   1.032MB/12.15MB                            5.2s\n",
      "\u001b[0m\u001b[37m   ⠙ 970a5a4847d9 Verifying Checksum                                       5.2s\n",
      "\u001b[0m\u001b[37m   ⠙ 4f4fb700ef54 Waiting                                                  5.2s\n",
      "\u001b[0m\u001b[37m   ⠙ f1bbb1bc1e67 Waiting                                                  5.2s\n",
      "\u001b[0m\u001b[?25h\u001b[1A\u001b[1A\u001b[1A\u001b[1A\u001b[1A\u001b[1A\u001b[1A\u001b[1A\u001b[1A\u001b[1A\u001b[0G\u001b[?25l[+] Running 4/9\n",
      "\u001b[37m ⠧ redis Pulling                                                          10.7s\n",
      "\u001b[0m\u001b[34m   ⠿ c30352492317 Pull complete                                            3.7s\n",
      "\u001b[0m\u001b[34m   ⠿ 2e707cb76875 Pull complete                                            3.7s\n",
      "\u001b[0m\u001b[34m   ⠿ 41a20ff430bc Pull complete                                            4.0s\n",
      "\u001b[0m\u001b[34m   ⠿ d326b14c5477 Pull complete                                            4.4s\n",
      "\u001b[0m\u001b[37m   ⠹ 00477ff4bbe5 Downloading    1.42MB/12.15MB                            5.3s\n",
      "\u001b[0m\u001b[37m   ⠹ 970a5a4847d9 Verifying Checksum                                       5.3s\n",
      "\u001b[0m\u001b[37m   ⠹ 4f4fb700ef54 Waiting                                                  5.3s\n",
      "\u001b[0m\u001b[37m   ⠹ f1bbb1bc1e67 Waiting                                                  5.3s\n",
      "\u001b[0m\u001b[?25h\u001b[1A\u001b[1A\u001b[1A\u001b[1A\u001b[1A\u001b[1A\u001b[1A\u001b[1A\u001b[1A\u001b[1A\u001b[0G\u001b[?25l[+] Running 4/9\n",
      "\u001b[37m ⠇ redis Pulling                                                          10.8s\n",
      "\u001b[0m\u001b[34m   ⠿ c30352492317 Pull complete                                            3.7s\n",
      "\u001b[0m\u001b[34m   ⠿ 2e707cb76875 Pull complete                                            3.7s\n",
      "\u001b[0m\u001b[34m   ⠿ 41a20ff430bc Pull complete                                            4.0s\n",
      "\u001b[0m\u001b[34m   ⠿ d326b14c5477 Pull complete                                            4.4s\n",
      "\u001b[0m\u001b[37m   ⠸ 00477ff4bbe5 Downloading   1.682MB/12.15MB                            5.4s\n",
      "\u001b[0m\u001b[37m   ⠸ 970a5a4847d9 Verifying Checksum                                       5.4s\n",
      "\u001b[0m\u001b[37m   ⠸ 4f4fb700ef54 Waiting                                                  5.4s\n",
      "\u001b[0m\u001b[37m   ⠸ f1bbb1bc1e67 Waiting                                                  5.4s\n",
      "\u001b[0m\u001b[?25h\u001b[1A\u001b[1A\u001b[1A\u001b[1A\u001b[1A\u001b[1A\u001b[1A\u001b[1A\u001b[1A\u001b[1A\u001b[0G\u001b[?25l[+] Running 4/9\n",
      "\u001b[37m ⠏ redis Pulling                                                          10.9s\n",
      "\u001b[0m\u001b[34m   ⠿ c30352492317 Pull complete                                            3.7s\n",
      "\u001b[0m\u001b[34m   ⠿ 2e707cb76875 Pull complete                                            3.7s\n",
      "\u001b[0m\u001b[34m   ⠿ 41a20ff430bc Pull complete                                            4.0s\n",
      "\u001b[0m\u001b[34m   ⠿ d326b14c5477 Pull complete                                            4.4s\n",
      "\u001b[0m\u001b[37m   ⠼ 00477ff4bbe5 Downloading   2.075MB/12.15MB                            5.5s\n",
      "\u001b[0m\u001b[37m   ⠼ 970a5a4847d9 Verifying Checksum                                       5.5s\n",
      "\u001b[0m\u001b[37m   ⠼ 4f4fb700ef54 Waiting                                                  5.5s\n",
      "\u001b[0m\u001b[37m   ⠼ f1bbb1bc1e67 Waiting                                                  5.5s\n",
      "\u001b[0m\u001b[?25h\u001b[1A\u001b[1A\u001b[1A\u001b[1A\u001b[1A\u001b[1A\u001b[1A\u001b[1A\u001b[1A\u001b[1A\u001b[0G\u001b[?25l[+] Running 4/9\n",
      "\u001b[37m ⠋ redis Pulling                                                          11.0s\n",
      "\u001b[0m\u001b[34m   ⠿ c30352492317 Pull complete                                            3.7s\n",
      "\u001b[0m\u001b[34m   ⠿ 2e707cb76875 Pull complete                                            3.7s\n",
      "\u001b[0m\u001b[34m   ⠿ 41a20ff430bc Pull complete                                            4.0s\n",
      "\u001b[0m\u001b[34m   ⠿ d326b14c5477 Pull complete                                            4.4s\n",
      "\u001b[0m\u001b[37m   ⠴ 00477ff4bbe5 Downloading   2.468MB/12.15MB                            5.6s\n",
      "\u001b[0m\u001b[37m   ⠴ 970a5a4847d9 Verifying Checksum                                       5.6s\n",
      "\u001b[0m\u001b[37m   ⠴ 4f4fb700ef54 Waiting                                                  5.6s\n",
      "\u001b[0m\u001b[37m   ⠴ f1bbb1bc1e67 Waiting                                                  5.6s\n",
      "\u001b[0m\u001b[?25h\u001b[1A\u001b[1A\u001b[1A\u001b[1A\u001b[1A\u001b[1A\u001b[1A\u001b[1A\u001b[1A\u001b[1A\u001b[0G\u001b[?25l[+] Running 4/9\n",
      "\u001b[37m ⠙ redis Pulling                                                          11.1s\n",
      "\u001b[0m\u001b[34m   ⠿ c30352492317 Pull complete                                            3.7s\n",
      "\u001b[0m\u001b[34m   ⠿ 2e707cb76875 Pull complete                                            3.7s\n",
      "\u001b[0m\u001b[34m   ⠿ 41a20ff430bc Pull complete                                            4.0s\n",
      "\u001b[0m\u001b[34m   ⠿ d326b14c5477 Pull complete                                            4.4s\n",
      "\u001b[0m\u001b[37m   ⠦ 00477ff4bbe5 Downloading   2.468MB/12.15MB                            5.7s\n",
      "\u001b[0m\u001b[37m   ⠦ 970a5a4847d9 Verifying Checksum                                       5.7s\n",
      "\u001b[0m\u001b[37m   ⠦ 4f4fb700ef54 Waiting                                                  5.7s\n",
      "\u001b[0m\u001b[37m   ⠦ f1bbb1bc1e67 Waiting                                                  5.7s\n",
      "\u001b[0m\u001b[?25h\u001b[1A\u001b[1A\u001b[1A\u001b[1A\u001b[1A\u001b[1A\u001b[1A\u001b[1A\u001b[1A\u001b[1A\u001b[0G\u001b[?25l[+] Running 4/9\n",
      "\u001b[37m ⠹ redis Pulling                                                          11.2s\n",
      "\u001b[0m\u001b[34m   ⠿ c30352492317 Pull complete                                            3.7s\n",
      "\u001b[0m\u001b[34m   ⠿ 2e707cb76875 Pull complete                                            3.7s\n",
      "\u001b[0m\u001b[34m   ⠿ 41a20ff430bc Pull complete                                            4.0s\n",
      "\u001b[0m\u001b[34m   ⠿ d326b14c5477 Pull complete                                            4.4s\n",
      "\u001b[0m\u001b[37m   ⠧ 00477ff4bbe5 Downloading   2.997MB/12.15MB                            5.8s\n",
      "\u001b[0m\u001b[37m   ⠧ 970a5a4847d9 Verifying Checksum                                       5.8s\n",
      "\u001b[0m\u001b[37m   ⠧ 4f4fb700ef54 Waiting                                                  5.8s\n",
      "\u001b[0m\u001b[37m   ⠧ f1bbb1bc1e67 Waiting                                                  5.8s\n",
      "\u001b[0m\u001b[?25h\u001b[1A\u001b[1A\u001b[1A\u001b[1A\u001b[1A\u001b[1A\u001b[1A\u001b[1A\u001b[1A\u001b[1A\u001b[0G\u001b[?25l[+] Running 4/9\n",
      "\u001b[37m ⠸ redis Pulling                                                          11.3s\n",
      "\u001b[0m\u001b[34m   ⠿ c30352492317 Pull complete                                            3.7s\n",
      "\u001b[0m\u001b[34m   ⠿ 2e707cb76875 Pull complete                                            3.7s\n",
      "\u001b[0m\u001b[34m   ⠿ 41a20ff430bc Pull complete                                            4.0s\n",
      "\u001b[0m\u001b[34m   ⠿ d326b14c5477 Pull complete                                            4.4s\n",
      "\u001b[0m\u001b[37m   ⠇ 00477ff4bbe5 Downloading   3.652MB/12.15MB                            5.9s\n",
      "\u001b[0m\u001b[37m   ⠇ 970a5a4847d9 Verifying Checksum                                       5.9s\n",
      "\u001b[0m\u001b[37m   ⠇ 4f4fb700ef54 Waiting                                                  5.9s\n",
      "\u001b[0m\u001b[37m   ⠇ f1bbb1bc1e67 Waiting                                                  5.9s\n",
      "\u001b[0m\u001b[?25h\u001b[1A\u001b[1A\u001b[1A\u001b[1A\u001b[1A\u001b[1A\u001b[1A\u001b[1A\u001b[1A\u001b[1A\u001b[0G\u001b[?25l[+] Running 4/9\n",
      "\u001b[37m ⠼ redis Pulling                                                          11.4s\n",
      "\u001b[0m\u001b[34m   ⠿ c30352492317 Pull complete                                            3.7s\n",
      "\u001b[0m\u001b[34m   ⠿ 2e707cb76875 Pull complete                                            3.7s\n",
      "\u001b[0m\u001b[34m   ⠿ 41a20ff430bc Pull complete                                            4.0s\n",
      "\u001b[0m\u001b[34m   ⠿ d326b14c5477 Pull complete                                            4.4s\n",
      "\u001b[0m\u001b[37m   ⠏ 00477ff4bbe5 Downloading    4.18MB/12.15MB                            6.0s\n",
      "\u001b[0m\u001b[37m   ⠏ 970a5a4847d9 Verifying Checksum                                       6.0s\n",
      "\u001b[0m\u001b[37m   ⠏ 4f4fb700ef54 Waiting                                                  6.0s\n",
      "\u001b[0m\u001b[37m   ⠏ f1bbb1bc1e67 Waiting                                                  6.0s\n",
      "\u001b[0m\u001b[?25h\u001b[1A\u001b[1A\u001b[1A\u001b[1A\u001b[1A\u001b[1A\u001b[1A\u001b[1A\u001b[1A\u001b[1A\u001b[0G\u001b[?25l[+] Running 4/9\n",
      "\u001b[37m ⠴ redis Pulling                                                          11.5s\n",
      "\u001b[0m\u001b[34m   ⠿ c30352492317 Pull complete                                            3.7s\n",
      "\u001b[0m\u001b[34m   ⠿ 2e707cb76875 Pull complete                                            3.7s\n",
      "\u001b[0m\u001b[34m   ⠿ 41a20ff430bc Pull complete                                            4.0s\n",
      "\u001b[0m\u001b[34m   ⠿ d326b14c5477 Pull complete                                            4.4s\n",
      "\u001b[0m\u001b[37m   ⠋ 00477ff4bbe5 Downloading   4.705MB/12.15MB                            6.1s\n",
      "\u001b[0m\u001b[37m   ⠋ 970a5a4847d9 Verifying Checksum                                       6.1s\n",
      "\u001b[0m\u001b[37m   ⠋ 4f4fb700ef54 Waiting                                                  6.1s\n",
      "\u001b[0m\u001b[37m   ⠋ f1bbb1bc1e67 Waiting                                                  6.1s\n",
      "\u001b[0m\u001b[?25h\u001b[1A\u001b[1A\u001b[1A\u001b[1A\u001b[1A\u001b[1A\u001b[1A\u001b[1A\u001b[1A\u001b[1A\u001b[0G\u001b[?25l[+] Running 4/9\n",
      "\u001b[37m ⠦ redis Pulling                                                          11.6s\n",
      "\u001b[0m\u001b[34m   ⠿ c30352492317 Pull complete                                            3.7s\n",
      "\u001b[0m\u001b[34m   ⠿ 2e707cb76875 Pull complete                                            3.7s\n",
      "\u001b[0m\u001b[34m   ⠿ 41a20ff430bc Pull complete                                            4.0s\n",
      "\u001b[0m\u001b[34m   ⠿ d326b14c5477 Pull complete                                            4.4s\n",
      "\u001b[0m\u001b[37m   ⠙ 00477ff4bbe5 Downloading   4.967MB/12.15MB                            6.2s\n",
      "\u001b[0m\u001b[37m   ⠙ 970a5a4847d9 Verifying Checksum                                       6.2s\n",
      "\u001b[0m\u001b[37m   ⠙ 4f4fb700ef54 Waiting                                                  6.2s\n",
      "\u001b[0m\u001b[37m   ⠙ f1bbb1bc1e67 Waiting                                                  6.2s\n",
      "\u001b[0m\u001b[?25h\u001b[1A\u001b[1A\u001b[1A\u001b[1A\u001b[1A\u001b[1A\u001b[1A\u001b[1A\u001b[1A\u001b[1A\u001b[0G\u001b[?25l[+] Running 4/9\n",
      "\u001b[37m ⠧ redis Pulling                                                          11.7s\n",
      "\u001b[0m\u001b[34m   ⠿ c30352492317 Pull complete                                            3.7s\n",
      "\u001b[0m\u001b[34m   ⠿ 2e707cb76875 Pull complete                                            3.7s\n",
      "\u001b[0m\u001b[34m   ⠿ 41a20ff430bc Pull complete                                            4.0s\n",
      "\u001b[0m\u001b[34m   ⠿ d326b14c5477 Pull complete                                            4.4s\n",
      "\u001b[0m\u001b[37m   ⠹ 00477ff4bbe5 Downloading    5.36MB/12.15MB                            6.3s\n",
      "\u001b[0m\u001b[37m   ⠹ 970a5a4847d9 Verifying Checksum                                       6.3s\n",
      "\u001b[0m\u001b[37m   ⠹ 4f4fb700ef54 Waiting                                                  6.3s\n",
      "\u001b[0m\u001b[37m   ⠹ f1bbb1bc1e67 Waiting                                                  6.3s\n",
      "\u001b[0m\u001b[?25h\u001b[1A\u001b[1A\u001b[1A\u001b[1A\u001b[1A\u001b[1A\u001b[1A\u001b[1A\u001b[1A\u001b[1A\u001b[0G\u001b[?25l[+] Running 4/9\n",
      "\u001b[37m ⠇ redis Pulling                                                          11.8s\n",
      "\u001b[0m\u001b[34m   ⠿ c30352492317 Pull complete                                            3.7s\n",
      "\u001b[0m\u001b[34m   ⠿ 2e707cb76875 Pull complete                                            3.7s\n",
      "\u001b[0m\u001b[34m   ⠿ 41a20ff430bc Pull complete                                            4.0s\n",
      "\u001b[0m\u001b[34m   ⠿ d326b14c5477 Pull complete                                            4.4s\n",
      "\u001b[0m\u001b[37m   ⠸ 00477ff4bbe5 Downloading    5.36MB/12.15MB                            6.4s\n",
      "\u001b[0m\u001b[37m   ⠸ 970a5a4847d9 Verifying Checksum                                       6.4s\n",
      "\u001b[0m\u001b[37m   ⠸ 4f4fb700ef54 Waiting                                                  6.4s\n",
      "\u001b[0m\u001b[37m   ⠸ f1bbb1bc1e67 Waiting                                                  6.4s\n",
      "\u001b[0m\u001b[?25h\u001b[1A\u001b[1A\u001b[1A\u001b[1A\u001b[1A\u001b[1A\u001b[1A\u001b[1A\u001b[1A\u001b[1A\u001b[0G\u001b[?25l[+] Running 4/9\n",
      "\u001b[37m ⠏ redis Pulling                                                          11.9s\n",
      "\u001b[0m\u001b[34m   ⠿ c30352492317 Pull complete                                            3.7s\n",
      "\u001b[0m\u001b[34m   ⠿ 2e707cb76875 Pull complete                                            3.7s\n",
      "\u001b[0m\u001b[34m   ⠿ 41a20ff430bc Pull complete                                            4.0s\n",
      "\u001b[0m\u001b[34m   ⠿ d326b14c5477 Pull complete                                            4.4s\n",
      "\u001b[0m\u001b[37m   ⠼ 00477ff4bbe5 Downloading   5.884MB/12.15MB                            6.5s\n",
      "\u001b[0m\u001b[37m   ⠼ 970a5a4847d9 Verifying Checksum                                       6.5s\n",
      "\u001b[0m\u001b[37m   ⠼ 4f4fb700ef54 Waiting                                                  6.5s\n",
      "\u001b[0m\u001b[37m   ⠼ f1bbb1bc1e67 Waiting                                                  6.5s\n",
      "\u001b[0m\u001b[?25h\u001b[1A\u001b[1A\u001b[1A\u001b[1A\u001b[1A\u001b[1A\u001b[1A\u001b[1A\u001b[1A\u001b[1A\u001b[0G\u001b[?25l[+] Running 4/9\n",
      "\u001b[37m ⠋ redis Pulling                                                          12.0s\n",
      "\u001b[0m\u001b[34m   ⠿ c30352492317 Pull complete                                            3.7s\n",
      "\u001b[0m\u001b[34m   ⠿ 2e707cb76875 Pull complete                                            3.7s\n",
      "\u001b[0m\u001b[34m   ⠿ 41a20ff430bc Pull complete                                            4.0s\n",
      "\u001b[0m\u001b[34m   ⠿ d326b14c5477 Pull complete                                            4.4s\n",
      "\u001b[0m\u001b[37m   ⠴ 00477ff4bbe5 Downloading   6.138MB/12.15MB                            6.6s\n",
      "\u001b[0m\u001b[37m   ⠴ 970a5a4847d9 Verifying Checksum                                       6.6s\n",
      "\u001b[0m\u001b[37m   ⠴ 4f4fb700ef54 Waiting                                                  6.6s\n",
      "\u001b[0m\u001b[37m   ⠴ f1bbb1bc1e67 Waiting                                                  6.6s\n",
      "\u001b[0m\u001b[?25h\u001b[1A\u001b[1A\u001b[1A\u001b[1A\u001b[1A\u001b[1A\u001b[1A\u001b[1A\u001b[1A\u001b[1A\u001b[0G\u001b[?25l[+] Running 4/9\n",
      "\u001b[37m ⠙ redis Pulling                                                          12.1s\n",
      "\u001b[0m\u001b[34m   ⠿ c30352492317 Pull complete                                            3.7s\n",
      "\u001b[0m\u001b[34m   ⠿ 2e707cb76875 Pull complete                                            3.7s\n",
      "\u001b[0m\u001b[34m   ⠿ 41a20ff430bc Pull complete                                            4.0s\n",
      "\u001b[0m\u001b[34m   ⠿ d326b14c5477 Pull complete                                            4.4s\n",
      "\u001b[0m\u001b[37m   ⠦ 00477ff4bbe5 Downloading   6.662MB/12.15MB                            6.7s\n",
      "\u001b[0m\u001b[37m   ⠦ 970a5a4847d9 Verifying Checksum                                       6.7s\n",
      "\u001b[0m\u001b[37m   ⠦ 4f4fb700ef54 Waiting                                                  6.7s\n",
      "\u001b[0m\u001b[37m   ⠦ f1bbb1bc1e67 Waiting                                                  6.7s\n",
      "\u001b[0m\u001b[?25h\u001b[1A\u001b[1A\u001b[1A\u001b[1A\u001b[1A\u001b[1A\u001b[1A\u001b[1A\u001b[1A\u001b[1A\u001b[0G\u001b[?25l[+] Running 4/9\n",
      "\u001b[37m ⠹ redis Pulling                                                          12.2s\n",
      "\u001b[0m\u001b[34m   ⠿ c30352492317 Pull complete                                            3.7s\n",
      "\u001b[0m\u001b[34m   ⠿ 2e707cb76875 Pull complete                                            3.7s\n",
      "\u001b[0m\u001b[34m   ⠿ 41a20ff430bc Pull complete                                            4.0s\n",
      "\u001b[0m\u001b[34m   ⠿ d326b14c5477 Pull complete                                            4.4s\n",
      "\u001b[0m\u001b[37m   ⠧ 00477ff4bbe5 Downloading   7.306MB/12.15MB                            6.8s\n",
      "\u001b[0m\u001b[37m   ⠧ 970a5a4847d9 Verifying Checksum                                       6.8s\n",
      "\u001b[0m\u001b[37m   ⠧ 4f4fb700ef54 Waiting                                                  6.8s\n",
      "\u001b[0m\u001b[37m   ⠧ f1bbb1bc1e67 Waiting                                                  6.8s\n",
      "\u001b[0m\u001b[?25h\u001b[1A\u001b[1A\u001b[1A\u001b[1A\u001b[1A\u001b[1A\u001b[1A\u001b[1A\u001b[1A\u001b[1A\u001b[0G\u001b[?25l[+] Running 4/9\n",
      "\u001b[37m ⠸ redis Pulling                                                          12.3s\n",
      "\u001b[0m\u001b[34m   ⠿ c30352492317 Pull complete                                            3.7s\n",
      "\u001b[0m\u001b[34m   ⠿ 2e707cb76875 Pull complete                                            3.7s\n",
      "\u001b[0m\u001b[34m   ⠿ 41a20ff430bc Pull complete                                            4.0s\n",
      "\u001b[0m\u001b[34m   ⠿ d326b14c5477 Pull complete                                            4.4s\n",
      "\u001b[0m\u001b[37m   ⠇ 00477ff4bbe5 Downloading   7.306MB/12.15MB                            6.9s\n",
      "\u001b[0m\u001b[37m   ⠇ 970a5a4847d9 Verifying Checksum                                       6.9s\n",
      "\u001b[0m\u001b[37m   ⠇ 4f4fb700ef54 Waiting                                                  6.9s\n",
      "\u001b[0m\u001b[37m   ⠇ f1bbb1bc1e67 Waiting                                                  6.9s\n",
      "\u001b[0m\u001b[?25h\u001b[1A\u001b[1A\u001b[1A\u001b[1A\u001b[1A\u001b[1A\u001b[1A\u001b[1A\u001b[1A\u001b[1A\u001b[0G\u001b[?25l[+] Running 4/9\n",
      "\u001b[37m ⠼ redis Pulling                                                          12.4s\n",
      "\u001b[0m\u001b[34m   ⠿ c30352492317 Pull complete                                            3.7s\n",
      "\u001b[0m\u001b[34m   ⠿ 2e707cb76875 Pull complete                                            3.7s\n",
      "\u001b[0m\u001b[34m   ⠿ 41a20ff430bc Pull complete                                            4.0s\n",
      "\u001b[0m\u001b[34m   ⠿ d326b14c5477 Pull complete                                            4.4s\n",
      "\u001b[0m\u001b[37m   ⠏ 00477ff4bbe5 Downloading   7.306MB/12.15MB                            7.0s\n",
      "\u001b[0m\u001b[37m   ⠏ 970a5a4847d9 Verifying Checksum                                       7.0s\n",
      "\u001b[0m\u001b[37m   ⠏ 4f4fb700ef54 Waiting                                                  7.0s\n",
      "\u001b[0m\u001b[37m   ⠏ f1bbb1bc1e67 Waiting                                                  7.0s\n",
      "\u001b[0m\u001b[?25h\u001b[1A\u001b[1A\u001b[1A\u001b[1A\u001b[1A\u001b[1A\u001b[1A\u001b[1A\u001b[1A\u001b[1A\u001b[0G\u001b[?25l[+] Running 4/9\n",
      "\u001b[37m ⠴ redis Pulling                                                          12.5s\n",
      "\u001b[0m\u001b[34m   ⠿ c30352492317 Pull complete                                            3.7s\n",
      "\u001b[0m\u001b[34m   ⠿ 2e707cb76875 Pull complete                                            3.7s\n",
      "\u001b[0m\u001b[34m   ⠿ 41a20ff430bc Pull complete                                            4.0s\n",
      "\u001b[0m\u001b[34m   ⠿ d326b14c5477 Pull complete                                            4.4s\n",
      "\u001b[0m\u001b[37m   ⠋ 00477ff4bbe5 Downloading   7.306MB/12.15MB                            7.1s\n",
      "\u001b[0m\u001b[37m   ⠋ 970a5a4847d9 Verifying Checksum                                       7.1s\n",
      "\u001b[0m\u001b[37m   ⠋ 4f4fb700ef54 Waiting                                                  7.1s\n",
      "\u001b[0m\u001b[37m   ⠋ f1bbb1bc1e67 Waiting                                                  7.1s\n",
      "\u001b[0m\u001b[?25h\u001b[1A\u001b[1A\u001b[1A\u001b[1A\u001b[1A\u001b[1A\u001b[1A\u001b[1A\u001b[1A\u001b[1A\u001b[0G\u001b[?25l[+] Running 4/9\n",
      "\u001b[37m ⠦ redis Pulling                                                          12.6s\n",
      "\u001b[0m\u001b[34m   ⠿ c30352492317 Pull complete                                            3.7s\n",
      "\u001b[0m\u001b[34m   ⠿ 2e707cb76875 Pull complete                                            3.7s\n",
      "\u001b[0m\u001b[34m   ⠿ 41a20ff430bc Pull complete                                            4.0s\n",
      "\u001b[0m\u001b[34m   ⠿ d326b14c5477 Pull complete                                            4.4s\n",
      "\u001b[0m\u001b[37m   ⠙ 00477ff4bbe5 Downloading   7.306MB/12.15MB                            7.2s\n",
      "\u001b[0m\u001b[37m   ⠙ 970a5a4847d9 Verifying Checksum                                       7.2s\n",
      "\u001b[0m\u001b[37m   ⠙ 4f4fb700ef54 Waiting                                                  7.2s\n",
      "\u001b[0m\u001b[37m   ⠙ f1bbb1bc1e67 Waiting                                                  7.2s\n",
      "\u001b[0m\u001b[?25h\u001b[1A\u001b[1A\u001b[1A\u001b[1A\u001b[1A\u001b[1A\u001b[1A\u001b[1A\u001b[1A\u001b[1A\u001b[0G\u001b[?25l[+] Running 4/9\n",
      "\u001b[37m ⠧ redis Pulling                                                          12.7s\n",
      "\u001b[0m\u001b[34m   ⠿ c30352492317 Pull complete                                            3.7s\n",
      "\u001b[0m\u001b[34m   ⠿ 2e707cb76875 Pull complete                                            3.7s\n",
      "\u001b[0m\u001b[34m   ⠿ 41a20ff430bc Pull complete                                            4.0s\n",
      "\u001b[0m\u001b[34m   ⠿ d326b14c5477 Pull complete                                            4.4s\n",
      "\u001b[0m\u001b[37m   ⠹ 00477ff4bbe5 Downloading    7.306MB/12.15M...                         7.3s\n",
      "\u001b[0m\u001b[37m   ⠹ 970a5a4847d9 Verifying Checksum                                       7.3s\n",
      "\u001b[0m\u001b[37m   ⠹ 4f4fb700ef54 Download complete                                        7.3s\n",
      "\u001b[0m\u001b[37m   ⠹ f1bbb1bc1e67 Waiting                                                  7.3s\n",
      "\u001b[0m\u001b[?25h\u001b[1A\u001b[1A\u001b[1A\u001b[1A\u001b[1A\u001b[1A\u001b[1A\u001b[1A\u001b[1A\u001b[1A\u001b[0G\u001b[?25l[+] Running 4/9\n",
      "\u001b[37m ⠇ redis Pulling                                                          12.8s\n",
      "\u001b[0m\u001b[34m   ⠿ c30352492317 Pull complete                                            3.7s\n",
      "\u001b[0m\u001b[34m   ⠿ 2e707cb76875 Pull complete                                            3.7s\n",
      "\u001b[0m\u001b[34m   ⠿ 41a20ff430bc Pull complete                                            4.0s\n",
      "\u001b[0m\u001b[34m   ⠿ d326b14c5477 Pull complete                                            4.4s\n",
      "\u001b[0m\u001b[37m   ⠸ 00477ff4bbe5 Downloading    7.306MB/12.15M...                         7.4s\n",
      "\u001b[0m\u001b[37m   ⠸ 970a5a4847d9 Verifying Checksum                                       7.4s\n",
      "\u001b[0m\u001b[37m   ⠸ 4f4fb700ef54 Download complete                                        7.4s\n",
      "\u001b[0m\u001b[37m   ⠸ f1bbb1bc1e67 Waiting                                                  7.4s\n",
      "\u001b[0m\u001b[?25h\u001b[1A\u001b[1A\u001b[1A\u001b[1A\u001b[1A\u001b[1A\u001b[1A\u001b[1A\u001b[1A\u001b[1A\u001b[0G\u001b[?25l[+] Running 4/9\n",
      "\u001b[37m ⠏ redis Pulling                                                          12.9s\n",
      "\u001b[0m\u001b[34m   ⠿ c30352492317 Pull complete                                            3.7s\n",
      "\u001b[0m\u001b[34m   ⠿ 2e707cb76875 Pull complete                                            3.7s\n",
      "\u001b[0m\u001b[34m   ⠿ 41a20ff430bc Pull complete                                            4.0s\n",
      "\u001b[0m\u001b[34m   ⠿ d326b14c5477 Pull complete                                            4.4s\n",
      "\u001b[0m\u001b[37m   ⠼ 00477ff4bbe5 Downloading    7.306MB/12.15M...                         7.5s\n",
      "\u001b[0m\u001b[37m   ⠼ 970a5a4847d9 Verifying Checksum                                       7.5s\n",
      "\u001b[0m\u001b[37m   ⠼ 4f4fb700ef54 Download complete                                        7.5s\n",
      "\u001b[0m\u001b[37m   ⠼ f1bbb1bc1e67 Waiting                                                  7.5s\n",
      "\u001b[0m\u001b[?25h\u001b[1A\u001b[1A\u001b[1A\u001b[1A\u001b[1A\u001b[1A\u001b[1A\u001b[1A\u001b[1A\u001b[1A\u001b[0G\u001b[?25l[+] Running 4/9\n",
      "\u001b[37m ⠋ redis Pulling                                                          13.0s\n",
      "\u001b[0m\u001b[34m   ⠿ c30352492317 Pull complete                                            3.7s\n",
      "\u001b[0m\u001b[34m   ⠿ 2e707cb76875 Pull complete                                            3.7s\n",
      "\u001b[0m\u001b[34m   ⠿ 41a20ff430bc Pull complete                                            4.0s\n",
      "\u001b[0m\u001b[34m   ⠿ d326b14c5477 Pull complete                                            4.4s\n",
      "\u001b[0m\u001b[37m   ⠴ 00477ff4bbe5 Downloading    7.306MB/12.15M...                         7.6s\n",
      "\u001b[0m\u001b[37m   ⠴ 970a5a4847d9 Verifying Checksum                                       7.6s\n",
      "\u001b[0m\u001b[37m   ⠴ 4f4fb700ef54 Download complete                                        7.6s\n",
      "\u001b[0m\u001b[37m   ⠴ f1bbb1bc1e67 Waiting                                                  7.6s\n",
      "\u001b[0m\u001b[?25h\u001b[1A\u001b[1A\u001b[1A\u001b[1A\u001b[1A\u001b[1A\u001b[1A\u001b[1A\u001b[1A\u001b[1A\u001b[0G\u001b[?25l[+] Running 4/9\n",
      "\u001b[37m ⠙ redis Pulling                                                          13.1s\n",
      "\u001b[0m\u001b[34m   ⠿ c30352492317 Pull complete                                            3.7s\n",
      "\u001b[0m\u001b[34m   ⠿ 2e707cb76875 Pull complete                                            3.7s\n",
      "\u001b[0m\u001b[34m   ⠿ 41a20ff430bc Pull complete                                            4.0s\n",
      "\u001b[0m\u001b[34m   ⠿ d326b14c5477 Pull complete                                            4.4s\n",
      "\u001b[0m\u001b[37m   ⠦ 00477ff4bbe5 Downloading    7.306MB/12.15M...                         7.7s\n",
      "\u001b[0m\u001b[37m   ⠦ 970a5a4847d9 Verifying Checksum                                       7.7s\n",
      "\u001b[0m\u001b[37m   ⠦ 4f4fb700ef54 Download complete                                        7.7s\n",
      "\u001b[0m\u001b[37m   ⠦ f1bbb1bc1e67 Waiting                                                  7.7s\n",
      "\u001b[0m\u001b[?25h\u001b[1A\u001b[1A\u001b[1A\u001b[1A\u001b[1A\u001b[1A\u001b[1A\u001b[1A\u001b[1A\u001b[1A\u001b[0G\u001b[?25l[+] Running 4/9\n",
      "\u001b[37m ⠹ redis Pulling                                                          13.2s\n",
      "\u001b[0m\u001b[34m   ⠿ c30352492317 Pull complete                                            3.7s\n",
      "\u001b[0m\u001b[34m   ⠿ 2e707cb76875 Pull complete                                            3.7s\n",
      "\u001b[0m\u001b[34m   ⠿ 41a20ff430bc Pull complete                                            4.0s\n",
      "\u001b[0m\u001b[34m   ⠿ d326b14c5477 Pull complete                                            4.4s\n",
      "\u001b[0m\u001b[37m   ⠧ 00477ff4bbe5 Downloading    7.306MB/12.15M...                         7.8s\n",
      "\u001b[0m\u001b[37m   ⠧ 970a5a4847d9 Verifying Checksum                                       7.8s\n",
      "\u001b[0m\u001b[37m   ⠧ 4f4fb700ef54 Download complete                                        7.8s\n",
      "\u001b[0m\u001b[37m   ⠧ f1bbb1bc1e67 Waiting                                                  7.8s\n",
      "\u001b[0m\u001b[?25h\u001b[1A\u001b[1A\u001b[1A\u001b[1A\u001b[1A\u001b[1A\u001b[1A\u001b[1A\u001b[1A\u001b[1A\u001b[0G\u001b[?25l[+] Running 4/9\n",
      "\u001b[37m ⠸ redis Pulling                                                          13.3s\n",
      "\u001b[0m\u001b[34m   ⠿ c30352492317 Pull complete                                            3.7s\n",
      "\u001b[0m\u001b[34m   ⠿ 2e707cb76875 Pull complete                                            3.7s\n",
      "\u001b[0m\u001b[34m   ⠿ 41a20ff430bc Pull complete                                            4.0s\n",
      "\u001b[0m\u001b[34m   ⠿ d326b14c5477 Pull complete                                            4.4s\n",
      "\u001b[0m\u001b[37m   ⠇ 00477ff4bbe5 Downloading    7.306MB/12.15M...                         7.9s\n",
      "\u001b[0m\u001b[37m   ⠇ 970a5a4847d9 Verifying Checksum                                       7.9s\n",
      "\u001b[0m\u001b[37m   ⠇ 4f4fb700ef54 Download complete                                        7.9s\n",
      "\u001b[0m\u001b[37m   ⠇ f1bbb1bc1e67 Waiting                                                  7.9s\n",
      "\u001b[0m\u001b[?25h\u001b[1A\u001b[1A\u001b[1A\u001b[1A\u001b[1A\u001b[1A\u001b[1A\u001b[1A\u001b[1A\u001b[1A\u001b[0G\u001b[?25l[+] Running 4/9\n",
      "\u001b[37m ⠼ redis Pulling                                                          13.4s\n",
      "\u001b[0m\u001b[34m   ⠿ c30352492317 Pull complete                                            3.7s\n",
      "\u001b[0m\u001b[34m   ⠿ 2e707cb76875 Pull complete                                            3.7s\n",
      "\u001b[0m\u001b[34m   ⠿ 41a20ff430bc Pull complete                                            4.0s\n",
      "\u001b[0m\u001b[34m   ⠿ d326b14c5477 Pull complete                                            4.4s\n",
      "\u001b[0m\u001b[37m   ⠏ 00477ff4bbe5 Downloading    7.306MB/12.15M...                         8.0s\n",
      "\u001b[0m\u001b[37m   ⠏ 970a5a4847d9 Verifying Checksum                                       8.0s\n",
      "\u001b[0m\u001b[37m   ⠏ 4f4fb700ef54 Download complete                                        8.0s\n",
      "\u001b[0m\u001b[37m   ⠏ f1bbb1bc1e67 Waiting                                                  8.0s\n",
      "\u001b[0m\u001b[?25h\u001b[1A\u001b[1A\u001b[1A\u001b[1A\u001b[1A\u001b[1A\u001b[1A\u001b[1A\u001b[1A\u001b[1A\u001b[0G\u001b[?25l[+] Running 4/9\n",
      "\u001b[37m ⠴ redis Pulling                                                          13.5s\n",
      "\u001b[0m\u001b[34m   ⠿ c30352492317 Pull complete                                            3.7s\n",
      "\u001b[0m\u001b[34m   ⠿ 2e707cb76875 Pull complete                                            3.7s\n",
      "\u001b[0m\u001b[34m   ⠿ 41a20ff430bc Pull complete                                            4.0s\n",
      "\u001b[0m\u001b[34m   ⠿ d326b14c5477 Pull complete                                            4.4s\n",
      "\u001b[0m\u001b[37m   ⠋ 00477ff4bbe5 Downloading    7.699MB/12.15M...                         8.1s\n",
      "\u001b[0m\u001b[37m   ⠋ 970a5a4847d9 Verifying Checksum                                       8.1s\n",
      "\u001b[0m\u001b[37m   ⠋ 4f4fb700ef54 Download complete                                        8.1s\n",
      "\u001b[0m\u001b[37m   ⠋ f1bbb1bc1e67 Waiting                                                  8.1s\n",
      "\u001b[0m\u001b[?25h\u001b[1A\u001b[1A\u001b[1A\u001b[1A\u001b[1A\u001b[1A\u001b[1A\u001b[1A\u001b[1A\u001b[1A\u001b[0G\u001b[?25l[+] Running 4/9\n",
      "\u001b[37m ⠦ redis Pulling                                                          13.6s\n",
      "\u001b[0m\u001b[34m   ⠿ c30352492317 Pull complete                                            3.7s\n",
      "\u001b[0m\u001b[34m   ⠿ 2e707cb76875 Pull complete                                            3.7s\n",
      "\u001b[0m\u001b[34m   ⠿ 41a20ff430bc Pull complete                                            4.0s\n",
      "\u001b[0m\u001b[34m   ⠿ d326b14c5477 Pull complete                                            4.4s\n",
      "\u001b[0m\u001b[37m   ⠙ 00477ff4bbe5 Downloading    10.06MB/12.15M...                         8.2s\n",
      "\u001b[0m\u001b[37m   ⠙ 970a5a4847d9 Verifying Checksum                                       8.2s\n",
      "\u001b[0m\u001b[37m   ⠙ 4f4fb700ef54 Download complete                                        8.2s\n",
      "\u001b[0m\u001b[37m   ⠙ f1bbb1bc1e67 Waiting                                                  8.2s\n",
      "\u001b[0m\u001b[?25h\u001b[1A\u001b[1A\u001b[1A\u001b[1A\u001b[1A\u001b[1A\u001b[1A\u001b[1A\u001b[1A\u001b[1A\u001b[0G\u001b[?25l[+] Running 4/9\n",
      "\u001b[37m ⠧ redis Pulling                                                          13.7s\n",
      "\u001b[0m\u001b[34m   ⠿ c30352492317 Pull complete                                            3.7s\n",
      "\u001b[0m\u001b[34m   ⠿ 2e707cb76875 Pull complete                                            3.7s\n",
      "\u001b[0m\u001b[34m   ⠿ 41a20ff430bc Pull complete                                            4.0s\n",
      "\u001b[0m\u001b[34m   ⠿ d326b14c5477 Pull complete                                            4.4s\n",
      "\u001b[0m\u001b[37m   ⠹ 00477ff4bbe5 Downloading    10.06MB/12.15M...                         8.3s\n",
      "\u001b[0m\u001b[37m   ⠹ 970a5a4847d9 Verifying Checksum                                       8.3s\n",
      "\u001b[0m\u001b[37m   ⠹ 4f4fb700ef54 Download complete                                        8.3s\n",
      "\u001b[0m\u001b[37m   ⠹ f1bbb1bc1e67 Waiting                                                  8.3s\n",
      "\u001b[0m\u001b[?25h\u001b[1A\u001b[1A\u001b[1A\u001b[1A\u001b[1A\u001b[1A\u001b[1A\u001b[1A\u001b[1A\u001b[1A\u001b[0G\u001b[?25l[+] Running 4/9\n",
      "\u001b[37m ⠇ redis Pulling                                                          13.8s\n",
      "\u001b[0m\u001b[34m   ⠿ c30352492317 Pull complete                                            3.7s\n",
      "\u001b[0m\u001b[34m   ⠿ 2e707cb76875 Pull complete                                            3.7s\n",
      "\u001b[0m\u001b[34m   ⠿ 41a20ff430bc Pull complete                                            4.0s\n",
      "\u001b[0m\u001b[34m   ⠿ d326b14c5477 Pull complete                                            4.4s\n",
      "\u001b[0m\u001b[37m   ⠸ 00477ff4bbe5 Downloading    11.88MB/12.15M...                         8.4s\n",
      "\u001b[0m\u001b[37m   ⠸ 970a5a4847d9 Verifying Checksum                                       8.4s\n",
      "\u001b[0m\u001b[37m   ⠸ 4f4fb700ef54 Download complete                                        8.4s\n",
      "\u001b[0m\u001b[37m   ⠸ f1bbb1bc1e67 Waiting                                                  8.4s\n",
      "\u001b[0m\u001b[?25h\u001b[1A\u001b[1A\u001b[1A\u001b[1A\u001b[1A\u001b[1A\u001b[1A\u001b[1A\u001b[1A\u001b[1A\u001b[0G\u001b[?25l[+] Running 4/9\n",
      "\u001b[37m ⠏ redis Pulling                                                          13.9s\n",
      "\u001b[0m\u001b[34m   ⠿ c30352492317 Pull complete                                            3.7s\n",
      "\u001b[0m\u001b[34m   ⠿ 2e707cb76875 Pull complete                                            3.7s\n",
      "\u001b[0m\u001b[34m   ⠿ 41a20ff430bc Pull complete                                            4.0s\n",
      "\u001b[0m\u001b[34m   ⠿ d326b14c5477 Pull complete                                            4.4s\n",
      "\u001b[0m\u001b[37m   ⠼ 00477ff4bbe5 Extracting       131.1kB/12.15...                        8.5s\n",
      "\u001b[0m\u001b[37m   ⠼ 970a5a4847d9 Verifying Checksum                                       8.5s\n",
      "\u001b[0m\u001b[37m   ⠼ 4f4fb700ef54 Download complete                                        8.5s\n",
      "\u001b[0m\u001b[37m   ⠼ f1bbb1bc1e67 Download complete                                        8.5s\n",
      "\u001b[0m\u001b[?25h\u001b[1A\u001b[1A\u001b[1A\u001b[1A\u001b[1A\u001b[1A\u001b[1A\u001b[1A\u001b[1A\u001b[1A\u001b[0G\u001b[?25l[+] Running 4/9\n",
      "\u001b[37m ⠋ redis Pulling                                                          14.0s\n",
      "\u001b[0m\u001b[34m   ⠿ c30352492317 Pull complete                                            3.7s\n",
      "\u001b[0m\u001b[34m   ⠿ 2e707cb76875 Pull complete                                            3.7s\n",
      "\u001b[0m\u001b[34m   ⠿ 41a20ff430bc Pull complete                                            4.0s\n",
      "\u001b[0m\u001b[34m   ⠿ d326b14c5477 Pull complete                                            4.4s\n",
      "\u001b[0m\u001b[37m   ⠴ 00477ff4bbe5 Extracting       131.1kB/12.15...                        8.6s\n",
      "\u001b[0m\u001b[37m   ⠴ 970a5a4847d9 Verifying Checksum                                       8.6s\n",
      "\u001b[0m\u001b[37m   ⠴ 4f4fb700ef54 Download complete                                        8.6s\n",
      "\u001b[0m\u001b[37m   ⠴ f1bbb1bc1e67 Download complete                                        8.6s\n",
      "\u001b[0m\u001b[?25h\u001b[1A\u001b[1A\u001b[1A\u001b[1A\u001b[1A\u001b[1A\u001b[1A\u001b[1A\u001b[1A\u001b[1A\u001b[0G\u001b[?25l[+] Running 4/9\n",
      "\u001b[37m ⠙ redis Pulling                                                          14.1s\n",
      "\u001b[0m\u001b[34m   ⠿ c30352492317 Pull complete                                            3.7s\n",
      "\u001b[0m\u001b[34m   ⠿ 2e707cb76875 Pull complete                                            3.7s\n",
      "\u001b[0m\u001b[34m   ⠿ 41a20ff430bc Pull complete                                            4.0s\n",
      "\u001b[0m\u001b[34m   ⠿ d326b14c5477 Pull complete                                            4.4s\n",
      "\u001b[0m\u001b[37m   ⠦ 00477ff4bbe5 Extracting       262.1kB/12.15...                        8.7s\n",
      "\u001b[0m\u001b[37m   ⠦ 970a5a4847d9 Verifying Checksum                                       8.7s\n",
      "\u001b[0m\u001b[37m   ⠦ 4f4fb700ef54 Download complete                                        8.7s\n",
      "\u001b[0m\u001b[37m   ⠦ f1bbb1bc1e67 Download complete                                        8.7s\n",
      "\u001b[0m\u001b[?25h\u001b[1A\u001b[1A\u001b[1A\u001b[1A\u001b[1A\u001b[1A\u001b[1A\u001b[1A\u001b[1A\u001b[1A\u001b[0G\u001b[?25l[+] Running 4/9\n",
      "\u001b[37m ⠹ redis Pulling                                                          14.2s\n",
      "\u001b[0m\u001b[34m   ⠿ c30352492317 Pull complete                                            3.7s\n",
      "\u001b[0m\u001b[34m   ⠿ 2e707cb76875 Pull complete                                            3.7s\n",
      "\u001b[0m\u001b[34m   ⠿ 41a20ff430bc Pull complete                                            4.0s\n",
      "\u001b[0m\u001b[34m   ⠿ d326b14c5477 Pull complete                                            4.4s\n",
      "\u001b[0m\u001b[37m   ⠧ 00477ff4bbe5 Extracting       4.981MB/12.15...                        8.8s\n",
      "\u001b[0m\u001b[37m   ⠧ 970a5a4847d9 Verifying Checksum                                       8.8s\n",
      "\u001b[0m\u001b[37m   ⠧ 4f4fb700ef54 Download complete                                        8.8s\n",
      "\u001b[0m\u001b[37m   ⠧ f1bbb1bc1e67 Download complete                                        8.8s\n",
      "\u001b[0m\u001b[?25h\u001b[1A\u001b[1A\u001b[1A\u001b[1A\u001b[1A\u001b[1A\u001b[1A\u001b[1A\u001b[1A\u001b[1A\u001b[0G\u001b[?25l[+] Running 4/9\n",
      "\u001b[37m ⠸ redis Pulling                                                          14.3s\n",
      "\u001b[0m\u001b[34m   ⠿ c30352492317 Pull complete                                            3.7s\n",
      "\u001b[0m\u001b[34m   ⠿ 2e707cb76875 Pull complete                                            3.7s\n",
      "\u001b[0m\u001b[34m   ⠿ 41a20ff430bc Pull complete                                            4.0s\n",
      "\u001b[0m\u001b[34m   ⠿ d326b14c5477 Pull complete                                            4.4s\n",
      "\u001b[0m\u001b[37m   ⠇ 00477ff4bbe5 Extracting       7.733MB/12.15...                        8.9s\n",
      "\u001b[0m\u001b[37m   ⠇ 970a5a4847d9 Verifying Checksum                                       8.9s\n",
      "\u001b[0m\u001b[37m   ⠇ 4f4fb700ef54 Download complete                                        8.9s\n",
      "\u001b[0m\u001b[37m   ⠇ f1bbb1bc1e67 Download complete                                        8.9s\n",
      "\u001b[0m\u001b[?25h\u001b[1A\u001b[1A\u001b[1A\u001b[1A\u001b[1A\u001b[1A\u001b[1A\u001b[1A\u001b[1A\u001b[1A\u001b[0G\u001b[?25l[+] Running 5/9\n",
      "\u001b[37m ⠼ redis Pulling                                                          14.4s\n",
      "\u001b[0m\u001b[34m   ⠿ c30352492317 Pull complete                                            3.7s\n",
      "\u001b[0m\u001b[34m   ⠿ 2e707cb76875 Pull complete                                            3.7s\n",
      "\u001b[0m\u001b[34m   ⠿ 41a20ff430bc Pull complete                                            4.0s\n",
      "\u001b[0m\u001b[34m   ⠿ d326b14c5477 Pull complete                                            4.4s\n",
      "\u001b[0m\u001b[34m   ⠿ 00477ff4bbe5 Pull complete                                            8.9s\n",
      "\u001b[0m\u001b[37m   ⠏ 970a5a4847d9 Extracting          100B/100B                            9.0s\n",
      "\u001b[0m\u001b[37m   ⠏ 4f4fb700ef54 Download complete                                        9.0s\n",
      "\u001b[0m\u001b[37m   ⠏ f1bbb1bc1e67 Download complete                                        9.0s\n",
      "\u001b[0m\u001b[?25h\u001b[1A\u001b[1A\u001b[1A\u001b[1A\u001b[1A\u001b[1A\u001b[1A\u001b[1A\u001b[1A\u001b[1A\u001b[0G\u001b[?25l[+] Running 6/9\n",
      "\u001b[37m ⠴ redis Pulling                                                          14.5s\n",
      "\u001b[0m\u001b[34m   ⠿ c30352492317 Pull complete                                            3.7s\n",
      "\u001b[0m\u001b[34m   ⠿ 2e707cb76875 Pull complete                                            3.7s\n",
      "\u001b[0m\u001b[34m   ⠿ 41a20ff430bc Pull complete                                            4.0s\n",
      "\u001b[0m\u001b[34m   ⠿ d326b14c5477 Pull complete                                            4.4s\n",
      "\u001b[0m\u001b[34m   ⠿ 00477ff4bbe5 Pull complete                                            8.9s\n",
      "\u001b[0m\u001b[34m   ⠿ 970a5a4847d9 Pull complete                                            9.0s\n",
      "\u001b[0m\u001b[37m   ⠋ 4f4fb700ef54 Extracting           32B/32B                             9.1s\n",
      "\u001b[0m\u001b[37m   ⠋ f1bbb1bc1e67 Download complete                                        9.1s\n",
      "\u001b[0m\u001b[?25h\u001b[1A\u001b[1A\u001b[1A\u001b[1A\u001b[1A\u001b[1A\u001b[1A\u001b[1A\u001b[1A\u001b[1A\u001b[0G\u001b[?25l[+] Running 8/9\n",
      "\u001b[37m ⠦ redis Pulling                                                          14.6s\n",
      "\u001b[0m\u001b[34m   ⠿ c30352492317 Pull complete                                            3.7s\n",
      "\u001b[0m\u001b[34m   ⠿ 2e707cb76875 Pull complete                                            3.7s\n",
      "\u001b[0m\u001b[34m   ⠿ 41a20ff430bc Pull complete                                            4.0s\n",
      "\u001b[0m\u001b[34m   ⠿ d326b14c5477 Pull complete                                            4.4s\n",
      "\u001b[0m\u001b[34m   ⠿ 00477ff4bbe5 Pull complete                                            8.9s\n",
      "\u001b[0m\u001b[34m   ⠿ 970a5a4847d9 Pull complete                                            9.0s\n",
      "\u001b[0m\u001b[34m   ⠿ 4f4fb700ef54 Pull complete                                            9.1s\n",
      "\u001b[0m\u001b[34m   ⠿ f1bbb1bc1e67 Pull complete                                            9.1s\n",
      "\u001b[0m\u001b[?25h\u001b[1A\u001b[1A\u001b[1A\u001b[1A\u001b[1A\u001b[1A\u001b[1A\u001b[1A\u001b[1A\u001b[1A\u001b[0G\u001b[?25l\u001b[34m[+] Running 9/9\u001b[0m\n",
      "\u001b[34m ⠿ redis Pulled                                                           14.6s\n",
      "\u001b[0m\u001b[34m   ⠿ c30352492317 Pull complete                                            3.7s\n",
      "\u001b[0m\u001b[34m   ⠿ 2e707cb76875 Pull complete                                            3.7s\n",
      "\u001b[0m\u001b[34m   ⠿ 41a20ff430bc Pull complete                                            4.0s\n",
      "\u001b[0m\u001b[34m   ⠿ d326b14c5477 Pull complete                                            4.4s\n",
      "\u001b[0m\u001b[34m   ⠿ 00477ff4bbe5 Pull complete                                            8.9s\n",
      "\u001b[0m\u001b[34m   ⠿ 970a5a4847d9 Pull complete                                            9.0s\n",
      "\u001b[0m\u001b[34m   ⠿ 4f4fb700ef54 Pull complete                                            9.1s\n",
      "\u001b[0m\u001b[34m   ⠿ f1bbb1bc1e67 Pull complete                                            9.1s\n",
      "\u001b[0m\u001b[?25h\u001b[1A\u001b[1B\u001b[0G\u001b[?25l[+] Building 0.0s (0/0)                                                         \n",
      "\u001b[?25h\u001b[1A\u001b[0G\u001b[?25l[+] Building 0.0s (0/0)                                                         \n",
      "\u001b[?25h\u001b[1A\u001b[0G\u001b[?25l[+] Building 0.0s (0/0)                                                         \n",
      "\u001b[?25h\u001b[1A\u001b[0G\u001b[?25l[+] Building 0.1s (1/2)                                                         \n",
      "\u001b[34m => [internal] load build definition from Dockerfile                       0.0s\n",
      "\u001b[0m\u001b[34m => => transferring dockerfile: 224B                                       0.0s\n",
      "\u001b[0m\u001b[?25h\u001b[1A\u001b[1A\u001b[1A\u001b[0G\u001b[?25l[+] Building 0.2s (2/3)                                                         \n",
      "\u001b[34m => [internal] load build definition from Dockerfile                       0.0s\n",
      "\u001b[0m\u001b[34m => => transferring dockerfile: 224B                                       0.0s\n",
      "\u001b[0m\u001b[34m => [internal] load .dockerignore                                          0.0s\n",
      "\u001b[0m\u001b[34m => => transferring context: 2B                                            0.0s\n",
      "\u001b[0m => [internal] load metadata for docker.io/library/python:3.10-slim        0.1s\n",
      "\u001b[?25h\u001b[1A\u001b[1A\u001b[1A\u001b[1A\u001b[1A\u001b[1A\u001b[0G\u001b[?25l[+] Building 0.4s (2/3)                                                         \n",
      "\u001b[34m => [internal] load build definition from Dockerfile                       0.0s\n",
      "\u001b[0m\u001b[34m => => transferring dockerfile: 224B                                       0.0s\n",
      "\u001b[0m\u001b[34m => [internal] load .dockerignore                                          0.0s\n",
      "\u001b[0m\u001b[34m => => transferring context: 2B                                            0.0s\n",
      "\u001b[0m => [internal] load metadata for docker.io/library/python:3.10-slim        0.2s\n",
      "\u001b[?25h\u001b[1A\u001b[1A\u001b[1A\u001b[1A\u001b[1A\u001b[1A\u001b[0G\u001b[?25l[+] Building 0.5s (2/3)                                                         \n",
      "\u001b[34m => [internal] load build definition from Dockerfile                       0.0s\n",
      "\u001b[0m\u001b[34m => => transferring dockerfile: 224B                                       0.0s\n",
      "\u001b[0m\u001b[34m => [internal] load .dockerignore                                          0.0s\n",
      "\u001b[0m\u001b[34m => => transferring context: 2B                                            0.0s\n",
      "\u001b[0m => [internal] load metadata for docker.io/library/python:3.10-slim        0.4s\n",
      "\u001b[?25h\u001b[1A\u001b[1A\u001b[1A\u001b[1A\u001b[1A\u001b[1A\u001b[0G\u001b[?25l[+] Building 0.7s (2/3)                                                         \n",
      "\u001b[34m => [internal] load build definition from Dockerfile                       0.0s\n",
      "\u001b[0m\u001b[34m => => transferring dockerfile: 224B                                       0.0s\n",
      "\u001b[0m\u001b[34m => [internal] load .dockerignore                                          0.0s\n",
      "\u001b[0m\u001b[34m => => transferring context: 2B                                            0.0s\n",
      "\u001b[0m => [internal] load metadata for docker.io/library/python:3.10-slim        0.5s\n",
      "\u001b[?25h\u001b[1A\u001b[1A\u001b[1A\u001b[1A\u001b[1A\u001b[1A\u001b[0G\u001b[?25l[+] Building 0.8s (2/3)                                                         \n",
      "\u001b[34m => [internal] load build definition from Dockerfile                       0.0s\n",
      "\u001b[0m\u001b[34m => => transferring dockerfile: 224B                                       0.0s\n",
      "\u001b[0m\u001b[34m => [internal] load .dockerignore                                          0.0s\n",
      "\u001b[0m\u001b[34m => => transferring context: 2B                                            0.0s\n",
      "\u001b[0m => [internal] load metadata for docker.io/library/python:3.10-slim        0.7s\n",
      "\u001b[?25h\u001b[1A\u001b[1A\u001b[1A\u001b[1A\u001b[1A\u001b[1A\u001b[0G\u001b[?25l[+] Building 1.0s (2/3)                                                         \n",
      "\u001b[34m => [internal] load build definition from Dockerfile                       0.0s\n",
      "\u001b[0m\u001b[34m => => transferring dockerfile: 224B                                       0.0s\n",
      "\u001b[0m\u001b[34m => [internal] load .dockerignore                                          0.0s\n",
      "\u001b[0m\u001b[34m => => transferring context: 2B                                            0.0s\n",
      "\u001b[0m => [internal] load metadata for docker.io/library/python:3.10-slim        0.8s\n",
      "\u001b[?25h\u001b[1A\u001b[1A\u001b[1A\u001b[1A\u001b[1A\u001b[1A\u001b[0G\u001b[?25l[+] Building 1.1s (2/3)                                                         \n",
      "\u001b[34m => [internal] load build definition from Dockerfile                       0.0s\n",
      "\u001b[0m\u001b[34m => => transferring dockerfile: 224B                                       0.0s\n",
      "\u001b[0m\u001b[34m => [internal] load .dockerignore                                          0.0s\n",
      "\u001b[0m\u001b[34m => => transferring context: 2B                                            0.0s\n",
      "\u001b[0m => [internal] load metadata for docker.io/library/python:3.10-slim        1.0s\n",
      "\u001b[?25h\u001b[1A\u001b[1A\u001b[1A\u001b[1A\u001b[1A\u001b[1A\u001b[0G\u001b[?25l[+] Building 1.3s (2/3)                                                         \n",
      "\u001b[34m => [internal] load build definition from Dockerfile                       0.0s\n",
      "\u001b[0m\u001b[34m => => transferring dockerfile: 224B                                       0.0s\n",
      "\u001b[0m\u001b[34m => [internal] load .dockerignore                                          0.0s\n",
      "\u001b[0m\u001b[34m => => transferring context: 2B                                            0.0s\n",
      "\u001b[0m => [internal] load metadata for docker.io/library/python:3.10-slim        1.1s\n",
      "\u001b[?25h\u001b[1A\u001b[1A\u001b[1A\u001b[1A\u001b[1A\u001b[1A\u001b[0G\u001b[?25l[+] Building 1.4s (2/3)                                                         \n",
      "\u001b[34m => [internal] load build definition from Dockerfile                       0.0s\n",
      "\u001b[0m\u001b[34m => => transferring dockerfile: 224B                                       0.0s\n",
      "\u001b[0m\u001b[34m => [internal] load .dockerignore                                          0.0s\n",
      "\u001b[0m\u001b[34m => => transferring context: 2B                                            0.0s\n",
      "\u001b[0m => [internal] load metadata for docker.io/library/python:3.10-slim        1.3s\n",
      "\u001b[?25h\u001b[1A\u001b[1A\u001b[1A\u001b[1A\u001b[1A\u001b[1A\u001b[0G\u001b[?25l[+] Building 1.5s (3/3)                                                         \n",
      "\u001b[34m => [internal] load build definition from Dockerfile                       0.0s\n",
      "\u001b[0m\u001b[34m => => transferring dockerfile: 224B                                       0.0s\n",
      "\u001b[0m\u001b[34m => [internal] load .dockerignore                                          0.0s\n",
      "\u001b[0m\u001b[34m => => transferring context: 2B                                            0.0s\n",
      "\u001b[0m\u001b[34m => [internal] load metadata for docker.io/library/python:3.10-slim        1.4s\n",
      "\u001b[0m\u001b[?25h\u001b[1A\u001b[1A\u001b[1A\u001b[1A\u001b[1A\u001b[1A\u001b[0G\u001b[?25l[+] Building 1.7s (8/9)                                                         \n",
      "\u001b[34m => [internal] load build definition from Dockerfile                       0.0s\n",
      "\u001b[0m\u001b[34m => => transferring dockerfile: 224B                                       0.0s\n",
      "\u001b[0m\u001b[34m => [internal] load .dockerignore                                          0.0s\n",
      "\u001b[0m\u001b[34m => => transferring context: 2B                                            0.0s\n",
      "\u001b[0m\u001b[34m => [internal] load metadata for docker.io/library/python:3.10-slim        1.4s\n",
      "\u001b[0m\u001b[34m => [1/5] FROM docker.io/library/python:3.10-slim@sha256:25f03d17398b3f00  0.0s\n",
      "\u001b[0m\u001b[34m => [internal] load build context                                          0.0s\n",
      "\u001b[0m\u001b[34m => => transferring context: 1.14kB                                        0.0s\n",
      "\u001b[0m\u001b[34m => CACHED [2/5] WORKDIR /code                                             0.0s\n",
      "\u001b[0m\u001b[34m => CACHED [3/5] COPY ./requirements.txt ./                                0.0s\n",
      "\u001b[0m\u001b[34m => CACHED [4/5] RUN pip install --no-cache-dir --upgrade -r requirements  0.0s\n",
      "\u001b[0m => [5/5] COPY ./src ./src                                                 0.1s\n",
      "\u001b[?25h\u001b[1A\u001b[1A\u001b[1A\u001b[1A\u001b[1A\u001b[1A\u001b[1A\u001b[1A\u001b[1A\u001b[1A\u001b[1A\u001b[1A\u001b[1A\u001b[0G\u001b[?25l[+] Building 1.8s (9/9)                                                         \n",
      "\u001b[34m => [internal] load build definition from Dockerfile                       0.0s\n",
      "\u001b[0m\u001b[34m => => transferring dockerfile: 224B                                       0.0s\n",
      "\u001b[0m\u001b[34m => [internal] load .dockerignore                                          0.0s\n",
      "\u001b[0m\u001b[34m => => transferring context: 2B                                            0.0s\n",
      "\u001b[0m\u001b[34m => [internal] load metadata for docker.io/library/python:3.10-slim        1.4s\n",
      "\u001b[0m\u001b[34m => [1/5] FROM docker.io/library/python:3.10-slim@sha256:25f03d17398b3f00  0.0s\n",
      "\u001b[0m\u001b[34m => [internal] load build context                                          0.0s\n",
      "\u001b[0m\u001b[34m => => transferring context: 1.14kB                                        0.0s\n",
      "\u001b[0m\u001b[34m => CACHED [2/5] WORKDIR /code                                             0.0s\n",
      "\u001b[0m\u001b[34m => CACHED [3/5] COPY ./requirements.txt ./                                0.0s\n",
      "\u001b[0m\u001b[34m => CACHED [4/5] RUN pip install --no-cache-dir --upgrade -r requirements  0.0s\n",
      "\u001b[0m\u001b[34m => [5/5] COPY ./src ./src                                                 0.2s\n",
      "\u001b[0m\u001b[?25h\u001b[1A\u001b[1A\u001b[1A\u001b[1A\u001b[1A\u001b[1A\u001b[1A\u001b[1A\u001b[1A\u001b[1A\u001b[1A\u001b[1A\u001b[1A\u001b[0G\u001b[?25l[+] Building 1.8s (10/10) FINISHED                                              \n",
      "\u001b[34m => [internal] load build definition from Dockerfile                       0.0s\n",
      "\u001b[0m\u001b[34m => => transferring dockerfile: 224B                                       0.0s\n",
      "\u001b[0m\u001b[34m => [internal] load .dockerignore                                          0.0s\n",
      "\u001b[0m\u001b[34m => => transferring context: 2B                                            0.0s\n",
      "\u001b[0m\u001b[34m => [internal] load metadata for docker.io/library/python:3.10-slim        1.4s\n",
      "\u001b[0m\u001b[34m => [1/5] FROM docker.io/library/python:3.10-slim@sha256:25f03d17398b3f00  0.0s\n",
      "\u001b[0m\u001b[34m => [internal] load build context                                          0.0s\n",
      "\u001b[0m\u001b[34m => => transferring context: 1.14kB                                        0.0s\n",
      "\u001b[0m\u001b[34m => CACHED [2/5] WORKDIR /code                                             0.0s\n",
      "\u001b[0m\u001b[34m => CACHED [3/5] COPY ./requirements.txt ./                                0.0s\n",
      "\u001b[0m\u001b[34m => CACHED [4/5] RUN pip install --no-cache-dir --upgrade -r requirements  0.0s\n",
      "\u001b[0m\u001b[34m => [5/5] COPY ./src ./src                                                 0.2s\n",
      "\u001b[0m\u001b[34m => exporting to image                                                     0.0s\n",
      "\u001b[0m\u001b[34m => => exporting layers                                                    0.0s\n",
      "\u001b[0m\u001b[34m => => writing image sha256:b063f7a8ee0b5967254febde558c2bfade23600e4fc0e  0.0s\n",
      "\u001b[0m\u001b[34m => => naming to docker.io/library/compose-fastapi-server                  0.0s\n",
      "\u001b[0m\u001b[?25h\u001b[1A\u001b[1B\u001b[0G\u001b[?25l[+] Running 0/0\n",
      "\u001b[37m ⠋ Network compose_default  Creating                                       0.1s\n",
      "\u001b[0m\u001b[?25h\u001b[1A\u001b[1A\u001b[0G\u001b[?25l\u001b[34m[+] Running 1/1\u001b[0m\n",
      "\u001b[34m ⠿ Network compose_default    Created                                      0.1s\n",
      "\u001b[0m\u001b[37m ⠋ Container compose-redis-1  Creating                                     0.1s\n",
      "\u001b[0m\u001b[?25h\u001b[1A\u001b[1A\u001b[1A\u001b[0G\u001b[?25l\u001b[34m[+] Running 2/2\u001b[0m\n",
      "\u001b[34m ⠿ Network compose_default             Create...                           0.1s\n",
      "\u001b[0m\u001b[34m ⠿ Container compose-redis-1           Crea...                             0.2s\n",
      "\u001b[0m\u001b[37m ⠋ Container compose-fastapi-server-1  Creating                            0.0s\n",
      "\u001b[0m\u001b[?25h\u001b[1A\u001b[1A\u001b[1A\u001b[1A\u001b[0G\u001b[?25l[+] Running 2/3\n",
      "\u001b[34m ⠿ Network compose_default             Create...                           0.1s\n",
      "\u001b[0m\u001b[34m ⠿ Container compose-redis-1           Crea...                             0.2s\n",
      "\u001b[0m\u001b[37m ⠙ Container compose-fastapi-server-1  Creating                            0.1s\n",
      "\u001b[0m\u001b[?25h\u001b[1A\u001b[1A\u001b[1A\u001b[1A\u001b[0G\u001b[?25l[+] Running 2/3\n",
      "\u001b[34m ⠿ Network compose_default             Create...                           0.1s\n",
      "\u001b[0m\u001b[37m ⠿ Container compose-redis-1           Star...                             0.4s\n",
      "\u001b[0m\u001b[34m ⠿ Container compose-fastapi-server-1  Created                             0.2s\n",
      "\u001b[0m\u001b[?25h\u001b[1A\u001b[1A\u001b[1A\u001b[1A\u001b[0G\u001b[?25l[+] Running 2/3\n",
      "\u001b[34m ⠿ Network compose_default             Create...                           0.1s\n",
      "\u001b[0m\u001b[37m ⠿ Container compose-redis-1           Star...                             0.5s\n",
      "\u001b[0m\u001b[34m ⠿ Container compose-fastapi-server-1  Created                             0.2s\n",
      "\u001b[0m\u001b[?25h\u001b[1A\u001b[1A\u001b[1A\u001b[1A\u001b[0G\u001b[?25l[+] Running 2/3\n",
      "\u001b[34m ⠿ Network compose_default             Create...                           0.1s\n",
      "\u001b[0m\u001b[37m ⠿ Container compose-redis-1           Star...                             0.6s\n",
      "\u001b[0m\u001b[34m ⠿ Container compose-fastapi-server-1  Created                             0.2s\n",
      "\u001b[0m\u001b[?25h\u001b[1A\u001b[1A\u001b[1A\u001b[1A\u001b[0G\u001b[?25l[+] Running 2/3\n",
      "\u001b[34m ⠿ Network compose_default             Create...                           0.1s\n",
      "\u001b[0m\u001b[37m ⠿ Container compose-redis-1           Star...                             0.7s\n",
      "\u001b[0m\u001b[34m ⠿ Container compose-fastapi-server-1  Created                             0.2s\n",
      "\u001b[0m\u001b[?25h\u001b[1A\u001b[1A\u001b[1A\u001b[1A\u001b[0G\u001b[?25l[+] Running 2/3\n",
      "\u001b[34m ⠿ Network compose_default             Create...                           0.1s\n",
      "\u001b[0m\u001b[37m ⠿ Container compose-redis-1           Star...                             0.8s\n",
      "\u001b[0m\u001b[34m ⠿ Container compose-fastapi-server-1  Created                             0.2s\n",
      "\u001b[0m\u001b[?25h\u001b[1A\u001b[1A\u001b[1A\u001b[1A\u001b[0G\u001b[?25l[+] Running 2/3\n",
      "\u001b[34m ⠿ Network compose_default             Create...                           0.1s\n",
      "\u001b[0m\u001b[37m ⠿ Container compose-redis-1           Star...                             0.9s\n",
      "\u001b[0m\u001b[34m ⠿ Container compose-fastapi-server-1  Created                             0.2s\n",
      "\u001b[0m\u001b[?25h\u001b[1A\u001b[1A\u001b[1A\u001b[1A\u001b[0G\u001b[?25l[+] Running 2/3\n",
      "\u001b[34m ⠿ Network compose_default             Create...                           0.1s\n",
      "\u001b[0m\u001b[34m ⠿ Container compose-redis-1           Star...                             0.9s\n",
      "\u001b[0m\u001b[37m ⠿ Container compose-fastapi-server-1  Starting                            0.8s\n",
      "\u001b[0m\u001b[?25h\u001b[1A\u001b[1A\u001b[1A\u001b[1A\u001b[0G\u001b[?25l[+] Running 2/3\n",
      "\u001b[34m ⠿ Network compose_default             Create...                           0.1s\n",
      "\u001b[0m\u001b[34m ⠿ Container compose-redis-1           Star...                             0.9s\n",
      "\u001b[0m\u001b[37m ⠿ Container compose-fastapi-server-1  Starting                            0.9s\n",
      "\u001b[0m\u001b[?25h\u001b[1A\u001b[1A\u001b[1A\u001b[1A\u001b[0G\u001b[?25l[+] Running 2/3\n",
      "\u001b[34m ⠿ Network compose_default             Create...                           0.1s\n",
      "\u001b[0m\u001b[34m ⠿ Container compose-redis-1           Star...                             0.9s\n",
      "\u001b[0m\u001b[37m ⠿ Container compose-fastapi-server-1  Starting                            1.0s\n",
      "\u001b[0m\u001b[?25h\u001b[1A\u001b[1A\u001b[1A\u001b[1A\u001b[0G\u001b[?25l[+] Running 2/3\n",
      "\u001b[34m ⠿ Network compose_default             Create...                           0.1s\n",
      "\u001b[0m\u001b[34m ⠿ Container compose-redis-1           Star...                             0.9s\n",
      "\u001b[0m\u001b[37m ⠿ Container compose-fastapi-server-1  Starting                            1.1s\n",
      "\u001b[0m\u001b[?25h\u001b[1A\u001b[1A\u001b[1A\u001b[1A\u001b[0G\u001b[?25l[+] Running 2/3\n",
      "\u001b[34m ⠿ Network compose_default             Create...                           0.1s\n",
      "\u001b[0m\u001b[34m ⠿ Container compose-redis-1           Star...                             0.9s\n",
      "\u001b[0m\u001b[37m ⠿ Container compose-fastapi-server-1  Starting                            1.2s\n",
      "\u001b[0m\u001b[?25h\u001b[1A\u001b[1A\u001b[1A\u001b[1A\u001b[0G\u001b[?25l\u001b[34m[+] Running 3/3\u001b[0m\n",
      "\u001b[34m ⠿ Network compose_default             Create...                           0.1s\n",
      "\u001b[0m\u001b[34m ⠿ Container compose-redis-1           Star...                             0.9s\n",
      "\u001b[0m\u001b[34m ⠿ Container compose-fastapi-server-1  Started                             1.2s\n",
      "\u001b[0m\u001b[?25h"
     ]
    }
   ],
   "source": [
    "os.chdir(\"./compose\")\n",
    "!docker-compose up -d --build"
   ]
  },
  {
   "cell_type": "markdown",
   "metadata": {},
   "source": [
    "**Remark.** Services which are still up will not be rebuilt. As such, these services can persist data and state while rebuilt services have reset state."
   ]
  },
  {
   "cell_type": "code",
   "execution_count": 30,
   "metadata": {},
   "outputs": [
    {
     "name": "stdout",
     "output_type": "stream",
     "text": [
      "NAME                       IMAGE                    COMMAND                  SERVICE             CREATED             STATUS                  PORTS\n",
      "compose-fastapi-server-1   compose-fastapi-server   \"uvicorn src.main:ap…\"   fastapi-server      1 second ago        Up Less than a second   0.0.0.0:5678->5678/tcp, 0.0.0.0:8080->80/tcp\n",
      "compose-redis-1            redis:alpine             \"docker-entrypoint.s…\"   redis               2 seconds ago       Up Less than a second   6379/tcp\n"
     ]
    }
   ],
   "source": [
    "!docker compose ps"
   ]
  },
  {
   "cell_type": "code",
   "execution_count": 31,
   "metadata": {
    "tags": [
     "remove-cell"
    ]
   },
   "outputs": [],
   "source": [
    "time.sleep(1)"
   ]
  },
  {
   "cell_type": "markdown",
   "metadata": {},
   "source": [
    "Making multiple requests:"
   ]
  },
  {
   "cell_type": "code",
   "execution_count": 32,
   "metadata": {},
   "outputs": [
    {
     "name": "stdout",
     "output_type": "stream",
     "text": [
      "\u001b[34mHTTP\u001b[39;49;00m/\u001b[34m1.1\u001b[39;49;00m \u001b[34m200\u001b[39;49;00m \u001b[36mOK\u001b[39;49;00m\n",
      "\u001b[36mcontent-length\u001b[39;49;00m: 44\n",
      "\u001b[36mcontent-type\u001b[39;49;00m: application/json\n",
      "\u001b[36mdate\u001b[39;49;00m: Wed, 27 Dec 2023 23:26:41 GMT\n",
      "\u001b[36mserver\u001b[39;49;00m: uvicorn\n",
      "\n",
      "{\u001b[37m\u001b[39;49;00m\n",
      "\u001b[37m    \u001b[39;49;00m\u001b[94m\"message\"\u001b[39;49;00m:\u001b[37m \u001b[39;49;00m\u001b[33m\"Hello world!\"\u001b[39;49;00m,\u001b[37m\u001b[39;49;00m\n",
      "\u001b[37m    \u001b[39;49;00m\u001b[94m\"visit_count\"\u001b[39;49;00m:\u001b[37m \u001b[39;49;00m\u001b[33m\"1\"\u001b[39;49;00m\u001b[37m\u001b[39;49;00m\n",
      "}\u001b[37m\u001b[39;49;00m\n",
      "\n",
      "\n"
     ]
    }
   ],
   "source": [
    "!http :8080"
   ]
  },
  {
   "cell_type": "code",
   "execution_count": 33,
   "metadata": {},
   "outputs": [
    {
     "name": "stdout",
     "output_type": "stream",
     "text": [
      "\u001b[34mHTTP\u001b[39;49;00m/\u001b[34m1.1\u001b[39;49;00m \u001b[34m200\u001b[39;49;00m \u001b[36mOK\u001b[39;49;00m\n",
      "\u001b[36mcontent-length\u001b[39;49;00m: 44\n",
      "\u001b[36mcontent-type\u001b[39;49;00m: application/json\n",
      "\u001b[36mdate\u001b[39;49;00m: Wed, 27 Dec 2023 23:26:41 GMT\n",
      "\u001b[36mserver\u001b[39;49;00m: uvicorn\n",
      "\n",
      "{\u001b[37m\u001b[39;49;00m\n",
      "\u001b[37m    \u001b[39;49;00m\u001b[94m\"message\"\u001b[39;49;00m:\u001b[37m \u001b[39;49;00m\u001b[33m\"Hello world!\"\u001b[39;49;00m,\u001b[37m\u001b[39;49;00m\n",
      "\u001b[37m    \u001b[39;49;00m\u001b[94m\"visit_count\"\u001b[39;49;00m:\u001b[37m \u001b[39;49;00m\u001b[33m\"2\"\u001b[39;49;00m\u001b[37m\u001b[39;49;00m\n",
      "}\u001b[37m\u001b[39;49;00m\n",
      "\n",
      "\n"
     ]
    }
   ],
   "source": [
    "!http :8080"
   ]
  },
  {
   "cell_type": "markdown",
   "metadata": {},
   "source": [
    "Monitoring running services resource usage:"
   ]
  },
  {
   "cell_type": "code",
   "execution_count": 34,
   "metadata": {},
   "outputs": [
    {
     "name": "stdout",
     "output_type": "stream",
     "text": [
      "CONTAINER ID   NAME                       CPU %     MEM USAGE / LIMIT     MEM %     NET I/O           BLOCK I/O   PIDS\n",
      "8176f2fae142   compose-fastapi-server-1   1.19%     54.91MiB / 3.841GiB   1.40%     3.5kB / 2.89kB    0B / 0B     4\n",
      "5f79ae484a67   compose-redis-1            0.28%     2.82MiB / 3.841GiB    0.07%     2.92kB / 1.36kB   0B / 0B     5\n"
     ]
    }
   ],
   "source": [
    "!docker stats --no-stream $(docker ps --format \"{{.Names}}\" | grep -w 'compose')"
   ]
  },
  {
   "cell_type": "markdown",
   "metadata": {},
   "source": [
    "Teardown:"
   ]
  },
  {
   "cell_type": "code",
   "execution_count": 35,
   "metadata": {
    "tags": [
     "hide-output"
    ]
   },
   "outputs": [
    {
     "name": "stdout",
     "output_type": "stream",
     "text": [
      "\u001b[1A\u001b[1B\u001b[0G\u001b[?25l[+] Running 0/0\n",
      "\u001b[37m ⠋ Container compose-fastapi-server-1  Stopping                            0.1s\n",
      "\u001b[0m\u001b[?25h\u001b[1A\u001b[1A\u001b[0G\u001b[?25l[+] Running 0/1\n",
      "\u001b[37m ⠙ Container compose-fastapi-server-1  Stopping                            0.2s\n",
      "\u001b[0m\u001b[?25h\u001b[1A\u001b[1A\u001b[0G\u001b[?25l[+] Running 0/1\n",
      "\u001b[37m ⠹ Container compose-fastapi-server-1  Stopping                            0.3s\n",
      "\u001b[0m\u001b[?25h\u001b[1A\u001b[1A\u001b[0G\u001b[?25l[+] Running 0/1\n",
      "\u001b[37m ⠸ Container compose-fastapi-server-1  Stopping                            0.4s\n",
      "\u001b[0m\u001b[?25h\u001b[1A\u001b[1A\u001b[0G\u001b[?25l[+] Running 0/1\n",
      "\u001b[37m ⠼ Container compose-fastapi-server-1  Stopping                            0.5s\n",
      "\u001b[0m\u001b[?25h\u001b[1A\u001b[1A\u001b[0G\u001b[?25l[+] Running 0/1\n",
      "\u001b[37m ⠴ Container compose-fastapi-server-1  Stopping                            0.6s\n",
      "\u001b[0m\u001b[?25h\u001b[1A\u001b[1A\u001b[0G\u001b[?25l\u001b[34m[+] Running 1/1\u001b[0m\n",
      "\u001b[34m ⠿ Container compose-fastapi-server-1  Removed                             0.6s\n",
      "\u001b[0m\u001b[37m ⠋ Container compose-redis-1           Stop...                             0.0s\n",
      "\u001b[0m\u001b[?25h\u001b[1A\u001b[1A\u001b[1A\u001b[0G\u001b[?25l[+] Running 1/2\n",
      "\u001b[34m ⠿ Container compose-fastapi-server-1  Removed                             0.6s\n",
      "\u001b[0m\u001b[37m ⠙ Container compose-redis-1           Stop...                             0.1s\n",
      "\u001b[0m\u001b[?25h\u001b[1A\u001b[1A\u001b[1A\u001b[0G\u001b[?25l[+] Running 1/2\n",
      "\u001b[34m ⠿ Container compose-fastapi-server-1  Removed                             0.6s\n",
      "\u001b[0m\u001b[37m ⠹ Container compose-redis-1           Stop...                             0.2s\n",
      "\u001b[0m\u001b[?25h\u001b[1A\u001b[1A\u001b[1A\u001b[0G\u001b[?25l[+] Running 1/2\n",
      "\u001b[34m ⠿ Container compose-fastapi-server-1  Removed                             0.6s\n",
      "\u001b[0m\u001b[37m ⠸ Container compose-redis-1           Stop...                             0.3s\n",
      "\u001b[0m\u001b[?25h\u001b[1A\u001b[1A\u001b[1A\u001b[0G\u001b[?25l[+] Running 1/2\n",
      "\u001b[34m ⠿ Container compose-fastapi-server-1  Removed                             0.6s\n",
      "\u001b[0m\u001b[37m ⠿ Container compose-redis-1           Remo...                             0.5s\n",
      "\u001b[0m\u001b[?25h\u001b[1A\u001b[1A\u001b[1A\u001b[0G\u001b[?25l[+] Running 1/2\n",
      "\u001b[34m ⠿ Container compose-fastapi-server-1  Removed                             0.6s\n",
      "\u001b[0m\u001b[37m ⠿ Container compose-redis-1           Remo...                             0.5s\n",
      "\u001b[0m\u001b[?25h\u001b[1A\u001b[1A\u001b[1A\u001b[0G\u001b[?25l\u001b[34m[+] Running 2/2\u001b[0m\n",
      "\u001b[34m ⠿ Container compose-fastapi-server-1  Removed                             0.6s\n",
      "\u001b[0m\u001b[34m ⠿ Container compose-redis-1           Remo...                             0.6s\n",
      "\u001b[0m\u001b[37m ⠋ Network compose_default             Removi...                           0.1s\n",
      "\u001b[0m\u001b[?25h\u001b[1A\u001b[1A\u001b[1A\u001b[1A\u001b[0G\u001b[?25l\u001b[34m[+] Running 3/3\u001b[0m\n",
      "\u001b[34m ⠿ Container compose-fastapi-server-1  Removed                             0.6s\n",
      "\u001b[0m\u001b[34m ⠿ Container compose-redis-1           Remo...                             0.6s\n",
      "\u001b[0m\u001b[34m ⠿ Network compose_default             Remove...                           0.1s\n",
      "\u001b[0m\u001b[?25h"
     ]
    }
   ],
   "source": [
    "!docker compose down"
   ]
  },
  {
   "cell_type": "code",
   "execution_count": 36,
   "metadata": {
    "tags": [
     "remove-cell"
    ]
   },
   "outputs": [
    {
     "name": "stdout",
     "output_type": "stream",
     "text": [
      "ubuntu0\n",
      "ubuntu1\n"
     ]
    }
   ],
   "source": [
    "!docker rm ubuntu0\n",
    "!docker rm ubuntu1"
   ]
  },
  {
   "cell_type": "markdown",
   "metadata": {},
   "source": [
    "## Readings: Best practices"
   ]
  },
  {
   "cell_type": "markdown",
   "metadata": {},
   "source": [
    "* [What is the best way to pass AWS credentials to a Docker container?](https://stackoverflow.com/a/76191745/1091950)\n",
    "* [Security best practices](https://docs.docker.com/develop/security-best-practices/)\n",
    "* [Optimizing builds with cache management](https://docs.docker.com/build/cache/)\n",
    "* [Docker Best Practices for Python Developers](https://testdriven.io/blog/docker-best-practices/)"
   ]
  }
 ],
 "metadata": {
  "kernelspec": {
   "display_name": "ai",
   "language": "python",
   "name": "python3"
  },
  "language_info": {
   "codemirror_mode": {
    "name": "ipython",
    "version": 3
   },
   "file_extension": ".py",
   "mimetype": "text/x-python",
   "name": "python",
   "nbconvert_exporter": "python",
   "pygments_lexer": "ipython3",
   "version": "3.9.15"
  }
 },
 "nbformat": 4,
 "nbformat_minor": 2
}
