{
 "cells": [
  {
   "attachments": {},
   "cell_type": "markdown",
   "metadata": {},
   "source": [
    "(ray/01-ray-ai)=\n",
    "# Ray AI Runtime"
   ]
  },
  {
   "attachments": {},
   "cell_type": "markdown",
   "metadata": {},
   "source": [
    "![Status](https://img.shields.io/static/v1.svg?label=Status&message=Finished&color=brightgreen)\n",
    "[![Source](https://img.shields.io/static/v1.svg?label=GitHub&message=Source&color=181717&logo=GitHub)](https://github.com/particle1331/ok-transformer/blob/master/docs/nb/ray/01-ray-ai.ipynb)\n",
    "[![Stars](https://img.shields.io/github/stars/particle1331/ok-transformer?style=social)](https://github.com/particle1331/ok-transformer)\n",
    "\n",
    "---\n",
    "\n",
    "**Readings:**  {cite}`timviera`\n",
    "\n",
    "## Introduction"
   ]
  },
  {
   "cell_type": "markdown",
   "metadata": {},
   "source": [
    "In this module, you will learn how to use Ray AIR to build an end-to-end machine learning application. It covers the entire process from data loading to training and hyperparameter tuning to prediction and serving. Along the way, each section will introduce you to key components of Ray AIR and provide hands-on coding exercises to demonstrate usage.\n",
    "\n",
    "Goals \n",
    "\n",
    "* Understand the high-level ML libraries that make up Ray AIR.\n",
    "    * Data\n",
    "    * Train\n",
    "    * Tune\n",
    "    * Serve\n",
    "    * RLlib (not covered in-depth in this module)\n",
    "* Use Ray AIR as a unified toolkit to write an end-to-end ML applications.\n",
    "* Extend mini-examples presented here to scale individual workloads in Python with Ray AIR.\n",
    "* Identify the problems and challenges that Ray AIR attempts to solve.\n",
    "\n",
    "### What will you do?\n",
    "\n",
    "Through hands-on exercises, you will practice the key concepts from each stage of an example ML workflow.\n",
    "\n",
    "|ML workflow stage|Ray AI key concept|\n",
    "|:--|:--|\n",
    "|Data loading and preprocessing|`Preprocessor` to load and transform data|\n",
    "|Model training|`Trainer` for supported ML frameworks (Keras, Pytorch and more)|\n",
    "|Hyperparameter tuning|`Tuner` for hyperparameter search|\n",
    "|Batch prediction|`BatchPredictor` to load model from best checkpoint for batch inference|\n",
    "|Model serving|`PredictorDeployment` for online inference|"
   ]
  },
  {
   "cell_type": "markdown",
   "metadata": {},
   "source": [
    "Ray for ML infrastructure is a set of libraries that equips ML engineers, data scientists, and researchers with a scalable and unified toolkit for ML applications.\n",
    "Built on top of Ray Core, these inherit all the performance and scalability benefits offered by Core while providing a convenient abstraction layer for machine learning. Ray's Python-first native libraries allow ML practitioners to distribute individual workloads, end-to-end applications, and build custom use cases in a unified framework."
   ]
  },
  {
   "cell_type": "markdown",
   "metadata": {},
   "source": [
    "## End-to-end workflow"
   ]
  },
  {
   "cell_type": "markdown",
   "metadata": {},
   "source": [
    "To illustrate Ray AIR's capabilities, you will implement an end-to-end machine learning application that predicts big tips using New York City taxi data. Each section will introduce the relevant Ray AIR library or component and demonstrating its functionality through code examples.\n",
    "\n",
    "|Ray AIR Component|NYC Taxi Use Case|\n",
    "|:--|:--|\n",
    "|Ray Data|Use `Preprocessor` to load and transform input data.|\n",
    "|Ray Train|Use `Trainer` to scale XGBoost model training.|\n",
    "|Ray Tune|Use `Tuner` for hyperparameter search.|\n",
    "|Ray AIR Predictor|Use `BatchPredictor` to load model from best checkpoint for batch inference; part of Ray Train.|\n",
    "|Ray Serve|Use `PredictorDeployment` for online inference.|\n",
    "\n",
    "For this classification task, you will apply a simple [XGBoost](https://xgboost.readthedocs.io/en/stable/) (a gradient boosted trees framework) model to the June 2021 [New York City Taxi & Limousine Commission's Trip Record Data](https://www1.nyc.gov/site/tlc/about/tlc-trip-record-data.page). This dataset contains over 2 million samples of yellow cab rides, and the goal is to predict whether a trip will result in a tip greater than 20% or not.\n",
    "\n",
    "**Dataset features**\n",
    "* **`passenger_count`**\n",
    "    * Float (whole number) representing number of passengers.\n",
    "* **`trip_distance`** \n",
    "    * Float representing trip distance in miles.\n",
    "* **`fare_amount`**\n",
    "    * Float representing total price including tax, tip, fees, etc.\n",
    "* **`trip_duration`**\n",
    "    * Integer representing seconds elapsed.\n",
    "* **`hour`**\n",
    "    * Hour that the trip started.\n",
    "    * Integer in the range `[0, 23]`\n",
    "* **`day_of_week`**\n",
    "    * Integer in the range `[1, 7]`.\n",
    "* **`is_big_tip`**\n",
    "    * Whether the tip amount was greater than 20%.\n",
    "    * Boolean `[True, False]`."
   ]
  },
  {
   "cell_type": "markdown",
   "metadata": {},
   "source": [
    "## Introduction to Ray Datasets\n",
    "\n",
    "Backed by PyArrow, [Ray Datasets](https://docs.ray.io/en/latest/data/user-guide.html) parallelize the loading and transforming of data and provide a standard way to pass references to data across Ray libraries and applications. Datasets are not intended to replace more general data processing systems. Instead, it serves as a last-mile bridge from ETL pipeline outputs to distributed applications and libraries in Ray.\n",
    "\n",
    "#### Key features\n",
    "\n",
    "- **Flexibility**\n",
    "\n",
    "    Datasets are compatible with a variety of file formats, data sources, and distributed frameworks. They work seamlessly with library integrations like Dask on Ray and can be passed between Ray tasks and actors without copying data.\n",
    "\n",
    "- **Performance for ML Workloads**\n",
    "\n",
    "    Datasets offer important features like accelerator support, pipelining, and global random shuffles that accelerate ML training and inference workloads. They also support basic distributed data transformations such as map, filter, sort, groupby, and repartition.\n",
    "\n",
    "- **Persistent Preprocessor**\n",
    "\n",
    "    The `Preprocessor` primitive captures and stores the transformations applied to convert inputs into features. It is applied during training, tuning, batch prediction, and serving to keep the preprocessing consistent across the pipeline.\n",
    "    \n",
    "- **Built on Ray Core**\n",
    "\n",
    "    Datasets inherits scalability to hundreds of nodes, efficient memory usage, object spilling, and failure handling from Ray Core. Because Datasets are just lists of object references, they can be passed between tasks and actors without needing to make a copy of the data, which is crucial for making data-intensive applications and libraries scalable.\n",
    "\n",
    "With this generic structure in mind, you will see how it is applied with the tip prediction task."
   ]
  },
  {
   "cell_type": "markdown",
   "metadata": {},
   "source": [
    "for the sake of presentation, we will disable logging. but note that this masks important information about the behavior of the program."
   ]
  },
  {
   "cell_type": "code",
   "execution_count": 1,
   "metadata": {},
   "outputs": [
    {
     "data": {
      "application/vnd.jupyter.widget-view+json": {
       "model_id": "bd2da303e9074b1aa789db309111eb58",
       "version_major": 2,
       "version_minor": 0
      },
      "text/html": [
       "<div class=\"lm-Widget p-Widget lm-Panel p-Panel jp-Cell-outputWrapper\">\n",
       "    <div style=\"margin-left: 50px;display: flex;flex-direction: row;align-items: center\">\n",
       "        <div class=\"jp-RenderedHTMLCommon\" style=\"display: flex; flex-direction: row;\">\n",
       "  <svg viewBox=\"0 0 567 224\" fill=\"none\" xmlns=\"http://www.w3.org/2000/svg\" style=\"height: 3em;\">\n",
       "    <g clip-path=\"url(#clip0_4338_178347)\">\n",
       "        <path d=\"M341.29 165.561H355.29L330.13 129.051C345.63 123.991 354.21 112.051 354.21 94.2307C354.21 71.3707 338.72 58.1807 311.88 58.1807H271V165.561H283.27V131.661H311.8C314.25 131.661 316.71 131.501 319.01 131.351L341.25 165.561H341.29ZM283.29 119.851V70.0007H311.82C331.3 70.0007 342.34 78.2907 342.34 94.5507C342.34 111.271 331.34 119.861 311.82 119.861L283.29 119.851ZM451.4 138.411L463.4 165.561H476.74L428.74 58.1807H416L367.83 165.561H380.83L392.83 138.411H451.4ZM446.19 126.601H398L422 72.1407L446.24 126.601H446.19ZM526.11 128.741L566.91 58.1807H554.35L519.99 114.181L485.17 58.1807H472.44L514.01 129.181V165.541H526.13V128.741H526.11Z\" fill=\"var(--jp-ui-font-color0)\"/>\n",
       "        <path d=\"M82.35 104.44C84.0187 97.8827 87.8248 92.0678 93.1671 87.9146C98.5094 83.7614 105.083 81.5067 111.85 81.5067C118.617 81.5067 125.191 83.7614 130.533 87.9146C135.875 92.0678 139.681 97.8827 141.35 104.44H163.75C164.476 101.562 165.622 98.8057 167.15 96.2605L127.45 56.5605C121.071 60.3522 113.526 61.6823 106.235 60.3005C98.9443 58.9187 92.4094 54.9203 87.8602 49.0574C83.3109 43.1946 81.0609 35.8714 81.5332 28.4656C82.0056 21.0599 85.1679 14.0819 90.4252 8.8446C95.6824 3.60726 102.672 0.471508 110.08 0.0272655C117.487 -0.416977 124.802 1.86091 130.647 6.4324C136.493 11.0039 140.467 17.5539 141.821 24.8501C143.175 32.1463 141.816 39.6859 138 46.0505L177.69 85.7505C182.31 82.9877 187.58 81.4995 192.962 81.4375C198.345 81.3755 203.648 82.742 208.33 85.3976C213.012 88.0532 216.907 91.9029 219.616 96.5544C222.326 101.206 223.753 106.492 223.753 111.875C223.753 117.258 222.326 122.545 219.616 127.197C216.907 131.848 213.012 135.698 208.33 138.353C203.648 141.009 198.345 142.375 192.962 142.313C187.58 142.251 182.31 140.763 177.69 138L138 177.7C141.808 184.071 143.155 191.614 141.79 198.91C140.424 206.205 136.44 212.75 130.585 217.313C124.731 221.875 117.412 224.141 110.004 223.683C102.596 223.226 95.6103 220.077 90.3621 214.828C85.1139 209.58 81.9647 202.595 81.5072 195.187C81.0497 187.779 83.3154 180.459 87.878 174.605C92.4405 168.751 98.9853 164.766 106.281 163.401C113.576 162.035 121.119 163.383 127.49 167.19L167.19 127.49C165.664 124.941 164.518 122.182 163.79 119.3H141.39C139.721 125.858 135.915 131.673 130.573 135.826C125.231 139.98 118.657 142.234 111.89 142.234C105.123 142.234 98.5494 139.98 93.2071 135.826C87.8648 131.673 84.0587 125.858 82.39 119.3H60C58.1878 126.495 53.8086 132.78 47.6863 136.971C41.5641 141.163 34.1211 142.972 26.7579 142.059C19.3947 141.146 12.6191 137.574 7.70605 132.014C2.79302 126.454 0.0813599 119.29 0.0813599 111.87C0.0813599 104.451 2.79302 97.2871 7.70605 91.7272C12.6191 86.1673 19.3947 82.5947 26.7579 81.6817C34.1211 80.7686 41.5641 82.5781 47.6863 86.7696C53.8086 90.9611 58.1878 97.2456 60 104.44H82.35ZM100.86 204.32C103.407 206.868 106.759 208.453 110.345 208.806C113.93 209.159 117.527 208.258 120.522 206.256C123.517 204.254 125.725 201.276 126.771 197.828C127.816 194.38 127.633 190.677 126.253 187.349C124.874 184.021 122.383 181.274 119.205 179.577C116.027 177.88 112.359 177.337 108.826 178.042C105.293 178.746 102.113 180.654 99.8291 183.44C97.5451 186.226 96.2979 189.718 96.3 193.32C96.2985 195.364 96.7006 197.388 97.4831 199.275C98.2656 201.163 99.4132 202.877 100.86 204.32ZM204.32 122.88C206.868 120.333 208.453 116.981 208.806 113.396C209.159 109.811 208.258 106.214 206.256 103.219C204.254 100.223 201.275 98.0151 197.827 96.97C194.38 95.9249 190.676 96.1077 187.348 97.4873C184.02 98.8669 181.274 101.358 179.577 104.536C177.879 107.714 177.337 111.382 178.041 114.915C178.746 118.448 180.653 121.627 183.439 123.911C186.226 126.195 189.717 127.443 193.32 127.44C195.364 127.443 197.388 127.042 199.275 126.259C201.163 125.476 202.878 124.328 204.32 122.88ZM122.88 19.4205C120.333 16.8729 116.981 15.2876 113.395 14.9347C109.81 14.5817 106.213 15.483 103.218 17.4849C100.223 19.4868 98.0146 22.4654 96.9696 25.9131C95.9245 29.3608 96.1073 33.0642 97.4869 36.3922C98.8665 39.7202 101.358 42.4668 104.535 44.1639C107.713 45.861 111.381 46.4036 114.914 45.6992C118.447 44.9949 121.627 43.0871 123.911 40.301C126.195 37.515 127.442 34.0231 127.44 30.4205C127.44 28.3772 127.038 26.3539 126.255 24.4664C125.473 22.5788 124.326 20.8642 122.88 19.4205ZM19.42 100.86C16.8725 103.408 15.2872 106.76 14.9342 110.345C14.5813 113.93 15.4826 117.527 17.4844 120.522C19.4863 123.518 22.4649 125.726 25.9127 126.771C29.3604 127.816 33.0638 127.633 36.3918 126.254C39.7198 124.874 42.4664 122.383 44.1635 119.205C45.8606 116.027 46.4032 112.359 45.6988 108.826C44.9944 105.293 43.0866 102.114 40.3006 99.8296C37.5145 97.5455 34.0227 96.2983 30.42 96.3005C26.2938 96.3018 22.337 97.9421 19.42 100.86ZM100.86 100.86C98.3125 103.408 96.7272 106.76 96.3742 110.345C96.0213 113.93 96.9226 117.527 98.9244 120.522C100.926 123.518 103.905 125.726 107.353 126.771C110.8 127.816 114.504 127.633 117.832 126.254C121.16 124.874 123.906 122.383 125.604 119.205C127.301 116.027 127.843 112.359 127.139 108.826C126.434 105.293 124.527 102.114 121.741 99.8296C118.955 97.5455 115.463 96.2983 111.86 96.3005C109.817 96.299 107.793 96.701 105.905 97.4835C104.018 98.2661 102.303 99.4136 100.86 100.86Z\" fill=\"#00AEEF\"/>\n",
       "    </g>\n",
       "    <defs>\n",
       "        <clipPath id=\"clip0_4338_178347\">\n",
       "            <rect width=\"566.93\" height=\"223.75\" fill=\"white\"/>\n",
       "        </clipPath>\n",
       "    </defs>\n",
       "  </svg>\n",
       "</div>\n",
       "\n",
       "        <table class=\"jp-RenderedHTMLCommon\" style=\"border-collapse: collapse;color: var(--jp-ui-font-color1);font-size: var(--jp-ui-font-size1);\">\n",
       "    <tr>\n",
       "        <td style=\"text-align: left\"><b>Python version:</b></td>\n",
       "        <td style=\"text-align: left\"><b>3.9.15</b></td>\n",
       "    </tr>\n",
       "    <tr>\n",
       "        <td style=\"text-align: left\"><b>Ray version:</b></td>\n",
       "        <td style=\"text-align: left\"><b>2.8.1</b></td>\n",
       "    </tr>\n",
       "    <tr>\n",
       "    <td style=\"text-align: left\"><b>Dashboard:</b></td>\n",
       "    <td style=\"text-align: left\"><b><a href=\"http://127.0.0.1:8266\" target=\"_blank\">http://127.0.0.1:8266</a></b></td>\n",
       "</tr>\n",
       "\n",
       "</table>\n",
       "\n",
       "    </div>\n",
       "</div>\n"
      ],
      "text/plain": [
       "RayContext(dashboard_url='127.0.0.1:8266', python_version='3.9.15', ray_version='2.8.1', ray_commit='82a8df138fe7fcc5c42536ebf26e8c3665704fee', protocol_version=None)"
      ]
     },
     "execution_count": 1,
     "metadata": {},
     "output_type": "execute_result"
    }
   ],
   "source": [
    "import ray\n",
    "\n",
    "if ray.is_initialized:\n",
    "    ray.shutdown()\n",
    "\n",
    "ray.init(configure_logging=False)"
   ]
  },
  {
   "cell_type": "code",
   "execution_count": 2,
   "metadata": {},
   "outputs": [
    {
     "data": {
      "application/vnd.jupyter.widget-view+json": {
       "model_id": "4c1df68c3a9f409ba2dee62b0be320cd",
       "version_major": 2,
       "version_minor": 0
      },
      "text/plain": [
       "(pid=47305) Parquet Files Sample 0:   0%|          | 0/1 [00:00<?, ?it/s]"
      ]
     },
     "metadata": {},
     "output_type": "display_data"
    },
    {
     "data": {
      "application/vnd.jupyter.widget-view+json": {
       "model_id": "b3d4e3040dfa4d30a92746be346c1fbe",
       "version_major": 2,
       "version_minor": 0
      },
      "text/plain": [
       "- RandomShuffle 1:   0%|          | 0/200 [00:00<?, ?it/s]"
      ]
     },
     "metadata": {},
     "output_type": "display_data"
    },
    {
     "data": {
      "application/vnd.jupyter.widget-view+json": {
       "model_id": "6bc3f8792ba84d7da992da85ba9b5a8e",
       "version_major": 2,
       "version_minor": 0
      },
      "text/plain": [
       "Shuffle Map 2:   0%|          | 0/200 [00:00<?, ?it/s]"
      ]
     },
     "metadata": {},
     "output_type": "display_data"
    },
    {
     "data": {
      "application/vnd.jupyter.widget-view+json": {
       "model_id": "d2df970f681e43b98014609c7dedd120",
       "version_major": 2,
       "version_minor": 0
      },
      "text/plain": [
       "Shuffle Reduce 3:   0%|          | 0/200 [00:00<?, ?it/s]"
      ]
     },
     "metadata": {},
     "output_type": "display_data"
    },
    {
     "data": {
      "application/vnd.jupyter.widget-view+json": {
       "model_id": "5f03c13ddfbe49208c6557b65f9040d9",
       "version_major": 2,
       "version_minor": 0
      },
      "text/plain": [
       "Running 0:   0%|          | 0/200 [00:00<?, ?it/s]"
      ]
     },
     "metadata": {},
     "output_type": "display_data"
    }
   ],
   "source": [
    "# Read Parquet file to Ray Dataset. (e.g. s3://)\n",
    "dataset = ray.data.read_parquet(\n",
    "    \"https://d37ci6vzurychx.cloudfront.net/trip-data/yellow_tripdata_2023-01.parquet\"\n",
    ")\n",
    "\n",
    "# Split data into training and validation subsets.\n",
    "train_ds, valid_ds = dataset.train_test_split(test_size=0.3, shuffle=True)\n",
    "\n",
    "# Split datasets into blocks for parallel preprocessing.\n",
    "# `num_blocks` should be lower than number of cores in the cluster.\n",
    "train_ds = train_ds.repartition(num_blocks=5)\n",
    "valid_ds = valid_ds.repartition(num_blocks=5)"
   ]
  },
  {
   "cell_type": "code",
   "execution_count": 4,
   "metadata": {},
   "outputs": [
    {
     "name": "stdout",
     "output_type": "stream",
     "text": [
      "Schema of training dataset: \n",
      " Column                 Type\n",
      "------                 ----\n",
      "VendorID               int64\n",
      "tpep_pickup_datetime   timestamp[us]\n",
      "tpep_dropoff_datetime  timestamp[us]\n",
      "passenger_count        double\n",
      "trip_distance          double\n",
      "RatecodeID             double\n",
      "store_and_fwd_flag     string\n",
      "PULocationID           int64\n",
      "DOLocationID           int64\n",
      "payment_type           int64\n",
      "fare_amount            double\n",
      "extra                  double\n",
      "mta_tax                double\n",
      "tip_amount             double\n",
      "tolls_amount           double\n",
      "improvement_surcharge  double\n",
      "total_amount           double\n",
      "congestion_surcharge   double\n",
      "airport_fee            double\n"
     ]
    }
   ],
   "source": [
    "print(f\"Schema of training dataset: \\n {train_ds.schema()}\")"
   ]
  },
  {
   "cell_type": "markdown",
   "metadata": {},
   "source": [
    "Need to include only relevant columns as well as add the label: \n",
    "Note: can also use map on a function that transforms per row but this can be slow."
   ]
  },
  {
   "cell_type": "code",
   "execution_count": 9,
   "metadata": {},
   "outputs": [
    {
     "data": {
      "application/vnd.jupyter.widget-view+json": {
       "model_id": "696285fe4aed4937a5be9f20f9ed02dc",
       "version_major": 2,
       "version_minor": 0
      },
      "text/plain": [
       "- Repartition 1:   0%|          | 0/5 [00:00<?, ?it/s]"
      ]
     },
     "metadata": {},
     "output_type": "display_data"
    },
    {
     "data": {
      "application/vnd.jupyter.widget-view+json": {
       "model_id": "ab8cfc6e67fc442cad276dcfe838ef72",
       "version_major": 2,
       "version_minor": 0
      },
      "text/plain": [
       "Split Repartition 2:   0%|          | 0/5 [00:00<?, ?it/s]"
      ]
     },
     "metadata": {},
     "output_type": "display_data"
    },
    {
     "data": {
      "application/vnd.jupyter.widget-view+json": {
       "model_id": "8692f1874835467c8c578f389d34fc67",
       "version_major": 2,
       "version_minor": 0
      },
      "text/plain": [
       "Running 0:   0%|          | 0/5 [00:00<?, ?it/s]"
      ]
     },
     "metadata": {},
     "output_type": "display_data"
    },
    {
     "data": {
      "text/html": [
       "<div>\n",
       "<style scoped>\n",
       "    .dataframe tbody tr th:only-of-type {\n",
       "        vertical-align: middle;\n",
       "    }\n",
       "\n",
       "    .dataframe tbody tr th {\n",
       "        vertical-align: top;\n",
       "    }\n",
       "\n",
       "    .dataframe thead th {\n",
       "        text-align: right;\n",
       "    }\n",
       "</style>\n",
       "<table border=\"1\" class=\"dataframe\">\n",
       "  <thead>\n",
       "    <tr style=\"text-align: right;\">\n",
       "      <th></th>\n",
       "      <th>passenger_count</th>\n",
       "      <th>trip_distance</th>\n",
       "      <th>fare_amount</th>\n",
       "      <th>trip_duration</th>\n",
       "      <th>hour</th>\n",
       "      <th>day_of_week</th>\n",
       "      <th>is_big_tip</th>\n",
       "    </tr>\n",
       "  </thead>\n",
       "  <tbody>\n",
       "    <tr>\n",
       "      <th>0</th>\n",
       "      <td>1.0</td>\n",
       "      <td>2.63</td>\n",
       "      <td>15.6</td>\n",
       "      <td>822</td>\n",
       "      <td>14</td>\n",
       "      <td>3</td>\n",
       "      <td>1</td>\n",
       "    </tr>\n",
       "    <tr>\n",
       "      <th>1</th>\n",
       "      <td>1.0</td>\n",
       "      <td>1.70</td>\n",
       "      <td>9.3</td>\n",
       "      <td>350</td>\n",
       "      <td>1</td>\n",
       "      <td>0</td>\n",
       "      <td>1</td>\n",
       "    </tr>\n",
       "    <tr>\n",
       "      <th>2</th>\n",
       "      <td>1.0</td>\n",
       "      <td>1.47</td>\n",
       "      <td>14.9</td>\n",
       "      <td>950</td>\n",
       "      <td>15</td>\n",
       "      <td>2</td>\n",
       "      <td>0</td>\n",
       "    </tr>\n",
       "    <tr>\n",
       "      <th>3</th>\n",
       "      <td>3.0</td>\n",
       "      <td>1.50</td>\n",
       "      <td>10.7</td>\n",
       "      <td>714</td>\n",
       "      <td>16</td>\n",
       "      <td>1</td>\n",
       "      <td>0</td>\n",
       "    </tr>\n",
       "    <tr>\n",
       "      <th>4</th>\n",
       "      <td>0.0</td>\n",
       "      <td>6.10</td>\n",
       "      <td>31.7</td>\n",
       "      <td>1560</td>\n",
       "      <td>11</td>\n",
       "      <td>6</td>\n",
       "      <td>0</td>\n",
       "    </tr>\n",
       "  </tbody>\n",
       "</table>\n",
       "</div>"
      ],
      "text/plain": [
       "   passenger_count  trip_distance  fare_amount  trip_duration  hour  \\\n",
       "0              1.0           2.63         15.6            822    14   \n",
       "1              1.0           1.70          9.3            350     1   \n",
       "2              1.0           1.47         14.9            950    15   \n",
       "3              3.0           1.50         10.7            714    16   \n",
       "4              0.0           6.10         31.7           1560    11   \n",
       "\n",
       "   day_of_week  is_big_tip  \n",
       "0            3           1  \n",
       "1            0           1  \n",
       "2            2           0  \n",
       "3            1           0  \n",
       "4            6           0  "
      ]
     },
     "execution_count": 9,
     "metadata": {},
     "output_type": "execute_result"
    }
   ],
   "source": [
    "import pandas as pd\n",
    "\n",
    "cols_to_keep = [\n",
    "    \"passenger_count\",\n",
    "    \"trip_distance\",\n",
    "    \"fare_amount\",\n",
    "    \"trip_duration\",\n",
    "    \"hour\",\n",
    "    \"day_of_week\",\n",
    "    \"is_big_tip\"\n",
    "]\n",
    "\n",
    "def preprocess(batch):\n",
    "    dropoff = batch[\"tpep_dropoff_datetime\"]\n",
    "    pickup = batch[\"tpep_pickup_datetime\"]\n",
    "    batch[\"trip_duration\"] = (dropoff - pickup).dt.seconds\n",
    "    batch[\"hour\"] = pickup.dt.hour\n",
    "    batch[\"day_of_week\"] = pickup.dt.dayofweek\n",
    "    batch[\"is_big_tip\"] = (batch[\"tip_amount\"] >= 0.20 * batch[\"fare_amount\"]).astype(int)\n",
    "    return batch[cols_to_keep].dropna()\n",
    "\n",
    "\n",
    "train_ds.map_batches(preprocess, batch_format=\"pandas\").limit(5).to_pandas()"
   ]
  },
  {
   "cell_type": "code",
   "execution_count": 10,
   "metadata": {},
   "outputs": [
    {
     "name": "stdout",
     "output_type": "stream",
     "text": [
      "Number of samples in training dataset: \n",
      " 2146736\n"
     ]
    }
   ],
   "source": [
    "print(f\"Number of samples in training dataset: \\n {train_ds.count()}\")"
   ]
  },
  {
   "cell_type": "code",
   "execution_count": 11,
   "metadata": {},
   "outputs": [
    {
     "name": "stdout",
     "output_type": "stream",
     "text": [
      "Number of samples in validation dataset: \n",
      " 920030\n"
     ]
    }
   ],
   "source": [
    "print(f\"Number of samples in validation dataset: \\n {valid_ds.count()}\")"
   ]
  },
  {
   "cell_type": "code",
   "execution_count": 16,
   "metadata": {},
   "outputs": [
    {
     "data": {
      "application/vnd.jupyter.widget-view+json": {
       "model_id": "b95dfb4072144c138c13ac50fa415453",
       "version_major": 2,
       "version_minor": 0
      },
      "text/plain": [
       "- Repartition 1:   0%|          | 0/5 [00:00<?, ?it/s]"
      ]
     },
     "metadata": {},
     "output_type": "display_data"
    },
    {
     "data": {
      "application/vnd.jupyter.widget-view+json": {
       "model_id": "061179d0d4974d418699f78be4206fab",
       "version_major": 2,
       "version_minor": 0
      },
      "text/plain": [
       "Split Repartition 2:   0%|          | 0/5 [00:00<?, ?it/s]"
      ]
     },
     "metadata": {},
     "output_type": "display_data"
    },
    {
     "data": {
      "application/vnd.jupyter.widget-view+json": {
       "model_id": "c139cbdd30694728899df8d2cb809510",
       "version_major": 2,
       "version_minor": 0
      },
      "text/plain": [
       "Running 0:   0%|          | 0/5 [00:00<?, ?it/s]"
      ]
     },
     "metadata": {},
     "output_type": "display_data"
    },
    {
     "data": {
      "text/plain": [
       "<Axes: xlabel='passenger_count', ylabel='tip_amount'>"
      ]
     },
     "execution_count": 16,
     "metadata": {},
     "output_type": "execute_result"
    },
    {
     "data": {
      "image/png": "[encoded data removed]",
      "text/plain": [
       "<Figure size 640x480 with 1 Axes>"
      ]
     },
     "metadata": {},
     "output_type": "display_data"
    }
   ],
   "source": [
    "import seaborn as sns\n",
    "data = train_ds.random_sample(fraction=0.3).to_pandas()\n",
    "sns.boxplot(data=data, x=\"passenger_count\", y=\"tip_amount\")"
   ]
  },
  {
   "cell_type": "markdown",
   "metadata": {},
   "source": [
    "```{figure} img/01-object-store-memory.png\n",
    "---\n",
    "name: 01-object-store-memory\n",
    "width: 100%\n",
    "---\n",
    "539MB is stored in the object store.\n",
    "```"
   ]
  },
  {
   "cell_type": "markdown",
   "metadata": {},
   "source": [
    "Ray scikit preprocessors. See [docs](https://docs.ray.io/en/latest/data/preprocessors.html):"
   ]
  },
  {
   "cell_type": "markdown",
   "metadata": {},
   "source": [
    "| Method | Description |\n",
    "| --- | --- |\n",
    "| `fit()` | Compute state information about a `Dataset` (for example, the mean or standard deviation of a column) and save it to the Preprocessor. This information is used to perform transform(), and the method is typically called on a training dataset. |\n",
    "| `transform()` | Apply a transformation to a `Dataset`. If the Preprocessor is stateful, then fit() must be called first. This method is typically called on training, validation, and test datasets. |\n",
    "| `transform_batch()` | Apply a transformation to a single batch of data. This method is typically called on online or offline inference data. |\n",
    "| `fit_transform()` | Syntactic sugar for calling both `fit()` and `transform()` on a `Dataset`. |\n",
    "\n"
   ]
  },
  {
   "cell_type": "code",
   "execution_count": 19,
   "metadata": {},
   "outputs": [
    {
     "data": {
      "text/html": [
       "<div>\n",
       "<style scoped>\n",
       "    .dataframe tbody tr th:only-of-type {\n",
       "        vertical-align: middle;\n",
       "    }\n",
       "\n",
       "    .dataframe tbody tr th {\n",
       "        vertical-align: top;\n",
       "    }\n",
       "\n",
       "    .dataframe thead th {\n",
       "        text-align: right;\n",
       "    }\n",
       "</style>\n",
       "<table border=\"1\" class=\"dataframe\">\n",
       "  <thead>\n",
       "    <tr style=\"text-align: right;\">\n",
       "      <th></th>\n",
       "      <th>trip_distance</th>\n",
       "      <th>fare_amount</th>\n",
       "      <th>passenger_count</th>\n",
       "    </tr>\n",
       "  </thead>\n",
       "  <tbody>\n",
       "    <tr>\n",
       "      <th>count</th>\n",
       "      <td>645028.000000</td>\n",
       "      <td>645028.000000</td>\n",
       "      <td>629920.000000</td>\n",
       "    </tr>\n",
       "    <tr>\n",
       "      <th>mean</th>\n",
       "      <td>3.703190</td>\n",
       "      <td>18.364893</td>\n",
       "      <td>1.362354</td>\n",
       "    </tr>\n",
       "    <tr>\n",
       "      <th>std</th>\n",
       "      <td>114.277311</td>\n",
       "      <td>17.775240</td>\n",
       "      <td>0.895415</td>\n",
       "    </tr>\n",
       "    <tr>\n",
       "      <th>min</th>\n",
       "      <td>0.000000</td>\n",
       "      <td>-600.000000</td>\n",
       "      <td>0.000000</td>\n",
       "    </tr>\n",
       "    <tr>\n",
       "      <th>25%</th>\n",
       "      <td>1.060000</td>\n",
       "      <td>8.600000</td>\n",
       "      <td>1.000000</td>\n",
       "    </tr>\n",
       "    <tr>\n",
       "      <th>50%</th>\n",
       "      <td>1.800000</td>\n",
       "      <td>12.800000</td>\n",
       "      <td>1.000000</td>\n",
       "    </tr>\n",
       "    <tr>\n",
       "      <th>75%</th>\n",
       "      <td>3.330000</td>\n",
       "      <td>20.500000</td>\n",
       "      <td>1.000000</td>\n",
       "    </tr>\n",
       "    <tr>\n",
       "      <th>max</th>\n",
       "      <td>85543.660000</td>\n",
       "      <td>1160.100000</td>\n",
       "      <td>9.000000</td>\n",
       "    </tr>\n",
       "  </tbody>\n",
       "</table>\n",
       "</div>"
      ],
      "text/plain": [
       "       trip_distance    fare_amount  passenger_count\n",
       "count  645028.000000  645028.000000    629920.000000\n",
       "mean        3.703190      18.364893         1.362354\n",
       "std       114.277311      17.775240         0.895415\n",
       "min         0.000000    -600.000000         0.000000\n",
       "25%         1.060000       8.600000         1.000000\n",
       "50%         1.800000      12.800000         1.000000\n",
       "75%         3.330000      20.500000         1.000000\n",
       "max     85543.660000    1160.100000         9.000000"
      ]
     },
     "execution_count": 19,
     "metadata": {},
     "output_type": "execute_result"
    }
   ],
   "source": [
    "data[list(set(data.columns) & set(cols_to_keep))].describe()"
   ]
  },
  {
   "cell_type": "code",
   "execution_count": 21,
   "metadata": {},
   "outputs": [
    {
     "data": {
      "application/vnd.jupyter.widget-view+json": {
       "model_id": "5144fd92807944e0bc58aa40ce4755bc",
       "version_major": 2,
       "version_minor": 0
      },
      "text/plain": [
       "- Repartition 1:   0%|          | 0/5 [00:00<?, ?it/s]"
      ]
     },
     "metadata": {},
     "output_type": "display_data"
    },
    {
     "data": {
      "application/vnd.jupyter.widget-view+json": {
       "model_id": "45451f260acd44a1adf37da17ee06785",
       "version_major": 2,
       "version_minor": 0
      },
      "text/plain": [
       "Split Repartition 2:   0%|          | 0/5 [00:00<?, ?it/s]"
      ]
     },
     "metadata": {},
     "output_type": "display_data"
    },
    {
     "data": {
      "application/vnd.jupyter.widget-view+json": {
       "model_id": "c599b4987af3483f9eba3ae837cb6ba1",
       "version_major": 2,
       "version_minor": 0
      },
      "text/plain": [
       "- Aggregate 3:   0%|          | 0/5 [00:00<?, ?it/s]"
      ]
     },
     "metadata": {},
     "output_type": "display_data"
    },
    {
     "data": {
      "application/vnd.jupyter.widget-view+json": {
       "model_id": "e573f1cf96a149c687b393c404b3af61",
       "version_major": 2,
       "version_minor": 0
      },
      "text/plain": [
       "Shuffle Map 4:   0%|          | 0/5 [00:00<?, ?it/s]"
      ]
     },
     "metadata": {},
     "output_type": "display_data"
    },
    {
     "data": {
      "application/vnd.jupyter.widget-view+json": {
       "model_id": "7d4592fc8a8d4bb18d73c73b6e708a82",
       "version_major": 2,
       "version_minor": 0
      },
      "text/plain": [
       "Shuffle Reduce 5:   0%|          | 0/5 [00:00<?, ?it/s]"
      ]
     },
     "metadata": {},
     "output_type": "display_data"
    },
    {
     "data": {
      "application/vnd.jupyter.widget-view+json": {
       "model_id": "0d4030cc559c4c4fbf829818a617b945",
       "version_major": 2,
       "version_minor": 0
      },
      "text/plain": [
       "Running 0:   0%|          | 0/5 [00:00<?, ?it/s]"
      ]
     },
     "metadata": {},
     "output_type": "display_data"
    },
    {
     "data": {
      "text/plain": [
       "{'mean(trip_distance)': 3.4067745788315604,\n",
       " 'mean(trip_duration)': 938.1569791208062,\n",
       " 'mean(fare_amount)': 18.313019677184094,\n",
       " 'std(trip_distance)': 18.709362337663045,\n",
       " 'std(trip_duration)': 2531.2930804088355,\n",
       " 'std(fare_amount)': 17.872701135191136}"
      ]
     },
     "execution_count": 21,
     "metadata": {},
     "output_type": "execute_result"
    }
   ],
   "source": [
    "from ray.data.preprocessors import StandardScaler\n",
    "\n",
    "scaler = StandardScaler(columns=[\"trip_distance\", \"trip_duration\", \"fare_amount\"])\n",
    "scaler.fit(train_ds.map_batches(preprocess, batch_format=\"pandas\"))\n",
    "scaler.stats_"
   ]
  },
  {
   "cell_type": "markdown",
   "metadata": {},
   "source": [
    "Filtering outliers on validation dataset:"
   ]
  },
  {
   "cell_type": "code",
   "execution_count": 25,
   "metadata": {},
   "outputs": [
    {
     "data": {
      "application/vnd.jupyter.widget-view+json": {
       "model_id": "374d91e9c62c4f54bf9fece8976a42e3",
       "version_major": 2,
       "version_minor": 0
      },
      "text/plain": [
       "- Repartition 1:   0%|          | 0/5 [00:00<?, ?it/s]"
      ]
     },
     "metadata": {},
     "output_type": "display_data"
    },
    {
     "data": {
      "application/vnd.jupyter.widget-view+json": {
       "model_id": "c6e1e8982f834348a955695edcf3af72",
       "version_major": 2,
       "version_minor": 0
      },
      "text/plain": [
       "Split Repartition 2:   0%|          | 0/5 [00:00<?, ?it/s]"
      ]
     },
     "metadata": {},
     "output_type": "display_data"
    },
    {
     "data": {
      "application/vnd.jupyter.widget-view+json": {
       "model_id": "1205f7e32e30430aa4c864dbdeb5d7ed",
       "version_major": 2,
       "version_minor": 0
      },
      "text/plain": [
       "Running 0:   0%|          | 0/5 [00:00<?, ?it/s]"
      ]
     },
     "metadata": {},
     "output_type": "display_data"
    },
    {
     "data": {
      "application/vnd.jupyter.widget-view+json": {
       "model_id": "55a626adaa1f4a50b4170ef5eb131419",
       "version_major": 2,
       "version_minor": 0
      },
      "text/plain": [
       "- Repartition 1:   0%|          | 0/5 [00:00<?, ?it/s]"
      ]
     },
     "metadata": {},
     "output_type": "display_data"
    },
    {
     "data": {
      "application/vnd.jupyter.widget-view+json": {
       "model_id": "01c4a73c8f694cec9c13d311322ca903",
       "version_major": 2,
       "version_minor": 0
      },
      "text/plain": [
       "Split Repartition 2:   0%|          | 0/5 [00:00<?, ?it/s]"
      ]
     },
     "metadata": {},
     "output_type": "display_data"
    },
    {
     "data": {
      "application/vnd.jupyter.widget-view+json": {
       "model_id": "fae1a4e9f3fc49e894f95a3c3cc7ce20",
       "version_major": 2,
       "version_minor": 0
      },
      "text/plain": [
       "Running 0:   0%|          | 0/5 [00:00<?, ?it/s]"
      ]
     },
     "metadata": {},
     "output_type": "display_data"
    }
   ],
   "source": [
    "def zscore(row, key: str):\n",
    "    return abs(row[key] - scaler.stats_[f\"mean({key})\"]) / scaler.stats_[f\"std({key})\"]\n",
    "\n",
    "def filter_outliers(row):\n",
    "    trip_distance = zscore(row, \"trip_distance\") < 5\n",
    "    trip_duration = zscore(row, \"trip_duration\") < 5\n",
    "    fare_amount = zscore(row, \"fare_amount\") < 5\n",
    "    return trip_distance and trip_duration and fare_amount\n",
    "\n",
    "\n",
    "# order of maps important\n",
    "df_train = train_ds.random_sample(fraction=0.2).map_batches(preprocess, batch_format=\"pandas\").filter(filter_outliers).to_pandas()\n",
    "df_valid = valid_ds.random_sample(fraction=0.2).map_batches(preprocess, batch_format=\"pandas\").filter(filter_outliers).to_pandas()"
   ]
  },
  {
   "cell_type": "code",
   "execution_count": 30,
   "metadata": {},
   "outputs": [
    {
     "data": {
      "image/png": "[encoded data removed]",
      "text/plain": [
       "<Figure size 1500x500 with 3 Axes>"
      ]
     },
     "metadata": {},
     "output_type": "display_data"
    }
   ],
   "source": [
    "import matplotlib.pyplot as plt\n",
    "\n",
    "fig, ax = plt.subplots(1, 3, figsize=(15, 5))\n",
    "\n",
    "df_train.trip_distance.hist(bins=200, density=True, ax=ax[0], label=\"train\")\n",
    "df_valid.trip_distance.hist(bins=200, density=True, ax=ax[0], label=\"valid\")\n",
    "df_train.trip_duration.hist(bins=200, density=True, ax=ax[1], label=\"train\")\n",
    "df_valid.trip_duration.hist(bins=200, density=True, ax=ax[1], label=\"valid\")\n",
    "df_train.fare_amount.hist(bins=200, density=True, ax=ax[2], label=\"train\")\n",
    "df_valid.fare_amount.hist(bins=200, density=True, ax=ax[2], label=\"valid\")\n",
    "\n",
    "ax[0].set_title(\"trip_distance\")\n",
    "ax[1].set_title(\"trip_duration\")\n",
    "ax[2].set_title(\"fare_amount\")\n",
    "ax[2].legend();"
   ]
  },
  {
   "cell_type": "code",
   "execution_count": 35,
   "metadata": {},
   "outputs": [],
   "source": [
    "transformed_train = train_ds.map_batches(preprocess, batch_format=\"pandas\").filter(filter_outliers).map_batches(scaler.transform_batch)\n",
    "transformed_valid = valid_ds.map_batches(preprocess, batch_format=\"pandas\").filter(filter_outliers).map_batches(scaler.transform_batch)"
   ]
  },
  {
   "cell_type": "code",
   "execution_count": 42,
   "metadata": {},
   "outputs": [],
   "source": [
    "from ray.air.config import ScalingConfig\n",
    "from ray.train.xgboost import XGBoostTrainer\n",
    "\n",
    "trainer = XGBoostTrainer(\n",
    "    label_column=\"is_big_tip\",\n",
    "    num_boost_round=50,\n",
    "    scaling_config=ScalingConfig(\n",
    "        num_workers=5,\n",
    "        use_gpu=False,\n",
    "    ),\n",
    "    params={\n",
    "        \"objective\": \"binary:logistic\",\n",
    "        \"eval_metric\": [\"logloss\", \"error\"],\n",
    "        \"tree_method\": \"approx\",\n",
    "    },\n",
    "    datasets={\"train\": transformed_train, \"valid\": transformed_valid},\n",
    ")"
   ]
  },
  {
   "cell_type": "code",
   "execution_count": 43,
   "metadata": {},
   "outputs": [
    {
     "data": {
      "text/html": [
       "<div class=\"tuneStatus\">\n",
       "  <div style=\"display: flex;flex-direction: row\">\n",
       "    <div style=\"display: flex;flex-direction: column;\">\n",
       "      <h3>Tune Status</h3>\n",
       "      <table>\n",
       "<tbody>\n",
       "<tr><td>Current time:</td><td>2023-12-12 01:32:46</td></tr>\n",
       "<tr><td>Running for: </td><td>00:07:04.73        </td></tr>\n",
       "<tr><td>Memory:      </td><td>6.6/8.0 GiB        </td></tr>\n",
       "</tbody>\n",
       "</table>\n",
       "    </div>\n",
       "    <div class=\"vDivider\"></div>\n",
       "    <div class=\"systemInfo\">\n",
       "      <h3>System Info</h3>\n",
       "      Using FIFO scheduling algorithm.<br>Logical resource usage: 5.0/8 CPUs, 0/0 GPUs\n",
       "    </div>\n",
       "    \n",
       "  </div>\n",
       "  <div class=\"hDivider\"></div>\n",
       "  <div class=\"trialStatus\">\n",
       "    <h3>Trial Status</h3>\n",
       "    <table>\n",
       "<thead>\n",
       "<tr><th>Trial name                </th><th>status    </th><th>loc            </th><th style=\"text-align: right;\">  iter</th><th style=\"text-align: right;\">  total time (s)</th><th style=\"text-align: right;\">  train-logloss</th><th style=\"text-align: right;\">  train-error</th><th style=\"text-align: right;\">  valid-logloss</th></tr>\n",
       "</thead>\n",
       "<tbody>\n",
       "<tr><td>XGBoostTrainer_4f2be_00000</td><td>TERMINATED</td><td>127.0.0.1:47503</td><td style=\"text-align: right;\">    51</td><td style=\"text-align: right;\">         420.691</td><td style=\"text-align: right;\">       0.644595</td><td style=\"text-align: right;\">     0.367226</td><td style=\"text-align: right;\">       0.645596</td></tr>\n",
       "</tbody>\n",
       "</table>\n",
       "  </div>\n",
       "</div>\n",
       "<style>\n",
       ".tuneStatus {\n",
       "  color: var(--jp-ui-font-color1);\n",
       "}\n",
       ".tuneStatus .systemInfo {\n",
       "  display: flex;\n",
       "  flex-direction: column;\n",
       "}\n",
       ".tuneStatus td {\n",
       "  white-space: nowrap;\n",
       "}\n",
       ".tuneStatus .trialStatus {\n",
       "  display: flex;\n",
       "  flex-direction: column;\n",
       "}\n",
       ".tuneStatus h3 {\n",
       "  font-weight: bold;\n",
       "}\n",
       ".tuneStatus .hDivider {\n",
       "  border-bottom-width: var(--jp-border-width);\n",
       "  border-bottom-color: var(--jp-border-color0);\n",
       "  border-bottom-style: solid;\n",
       "}\n",
       ".tuneStatus .vDivider {\n",
       "  border-left-width: var(--jp-border-width);\n",
       "  border-left-color: var(--jp-border-color0);\n",
       "  border-left-style: solid;\n",
       "  margin: 0.5em 1em 0.5em 1em;\n",
       "}\n",
       "</style>\n"
      ],
      "text/plain": [
       "<IPython.core.display.HTML object>"
      ]
     },
     "metadata": {},
     "output_type": "display_data"
    },
    {
     "name": "stderr",
     "output_type": "stream",
     "text": [
      "\u001b[36m(XGBoostTrainer pid=47503)\u001b[0m [RayXGBoost] Created 5 new actors (5 total actors). Waiting until actors are ready for training.\n",
      "\u001b[36m(XGBoostTrainer pid=47503)\u001b[0m Executing DAG InputDataBuffer[Input] -> AllToAllOperator[Repartition] -> TaskPoolMapOperator[MapBatches(preprocess)->Filter(filter_outliers)->MapBatches(StandardScaler.transform_batch)]\n",
      "\u001b[36m(XGBoostTrainer pid=47503)\u001b[0m Execution config: ExecutionOptions(resource_limits=ExecutionResources(cpu=None, gpu=None, object_store_memory=None), locality_with_output=False, preserve_order=False, actor_locality_enabled=True, verbose_progress=False)\n",
      "\u001b[36m(XGBoostTrainer pid=47503)\u001b[0m Tip: For detailed progress reporting, run `ray.data.DataContext.get_current().execution_options.verbose_progress = True`\n"
     ]
    },
    {
     "data": {
      "application/vnd.jupyter.widget-view+json": {
       "model_id": "39c377622b624bcea67d034793bd5a77",
       "version_major": 2,
       "version_minor": 0
      },
      "text/plain": [
       "(pid=47503) - Repartition 1:   0%|          | 0/5 [00:00<?, ?it/s]"
      ]
     },
     "metadata": {},
     "output_type": "display_data"
    },
    {
     "data": {
      "application/vnd.jupyter.widget-view+json": {
       "model_id": "16ac33bf31c8488f8a8cad686bc24a99",
       "version_major": 2,
       "version_minor": 0
      },
      "text/plain": [
       "(pid=47503) Split Repartition 2:   0%|          | 0/5 [00:00<?, ?it/s]"
      ]
     },
     "metadata": {},
     "output_type": "display_data"
    },
    {
     "data": {
      "application/vnd.jupyter.widget-view+json": {
       "model_id": "f166e10ac0994323b8ad4518cedcd7df",
       "version_major": 2,
       "version_minor": 0
      },
      "text/plain": [
       "(pid=47503) Running 0:   0%|          | 0/5 [00:00<?, ?it/s]"
      ]
     },
     "metadata": {},
     "output_type": "display_data"
    },
    {
     "name": "stderr",
     "output_type": "stream",
     "text": [
      "\u001b[36m(XGBoostTrainer pid=47503)\u001b[0m Executing DAG InputDataBuffer[Input] -> AllToAllOperator[Repartition] -> TaskPoolMapOperator[MapBatches(preprocess)->Filter(filter_outliers)->MapBatches(StandardScaler.transform_batch)]\n",
      "\u001b[36m(XGBoostTrainer pid=47503)\u001b[0m Execution config: ExecutionOptions(resource_limits=ExecutionResources(cpu=None, gpu=None, object_store_memory=None), locality_with_output=False, preserve_order=False, actor_locality_enabled=True, verbose_progress=False)\n",
      "\u001b[36m(XGBoostTrainer pid=47503)\u001b[0m Tip: For detailed progress reporting, run `ray.data.DataContext.get_current().execution_options.verbose_progress = True`\n"
     ]
    },
    {
     "data": {
      "application/vnd.jupyter.widget-view+json": {
       "model_id": "5e1dc56e430343b0a84e5c56cfd1894c",
       "version_major": 2,
       "version_minor": 0
      },
      "text/plain": [
       "(pid=47503) - Repartition 1:   0%|          | 0/5 [00:00<?, ?it/s]"
      ]
     },
     "metadata": {},
     "output_type": "display_data"
    },
    {
     "data": {
      "application/vnd.jupyter.widget-view+json": {
       "model_id": "32e0008d23ad4579a8c05e90dc1045b7",
       "version_major": 2,
       "version_minor": 0
      },
      "text/plain": [
       "(pid=47503) Split Repartition 2:   0%|          | 0/5 [00:00<?, ?it/s]"
      ]
     },
     "metadata": {},
     "output_type": "display_data"
    },
    {
     "data": {
      "application/vnd.jupyter.widget-view+json": {
       "model_id": "b2c48e68eb944bf98d44c92990b265f1",
       "version_major": 2,
       "version_minor": 0
      },
      "text/plain": [
       "(pid=47503) Running 0:   0%|          | 0/5 [00:00<?, ?it/s]"
      ]
     },
     "metadata": {},
     "output_type": "display_data"
    },
    {
     "name": "stderr",
     "output_type": "stream",
     "text": [
      "\u001b[36m(XGBoostTrainer pid=47503)\u001b[0m [RayXGBoost] Starting XGBoost training.\n",
      "\u001b[36m(_RemoteRayXGBoostActor pid=47510)\u001b[0m [01:32:24] task [xgboost.ray]:5852381824 got new rank 4\n",
      "\u001b[36m(XGBoostTrainer pid=47503)\u001b[0m [RayXGBoost] Finished XGBoost training on training data with total N=2,090,270 in 421.29 seconds (23.41 pure XGBoost training time).\n",
      "\u001b[36m(XGBoostTrainer pid=47503)\u001b[0m Checkpoint successfully created at: Checkpoint(filesystem=local, path=/Users/particle1331/ray_results/XGBoostTrainer_2023-12-12_01-25-41/XGBoostTrainer_4f2be_00000_0_2023-12-12_01-25-41/checkpoint_000000)\n",
      "\u001b[36m(_RemoteRayXGBoostActor pid=47508)\u001b[0m [01:32:24] task [xgboost.ray]:5163080720 got new rank 2\u001b[32m [repeated 4x across cluster]\u001b[0m\n"
     ]
    }
   ],
   "source": [
    "result = trainer.fit()"
   ]
  },
  {
   "cell_type": "code",
   "execution_count": null,
   "metadata": {},
   "outputs": [
    {
     "name": "stdout",
     "output_type": "stream",
     "text": [
      "{'checkpoint_dir_name': 'checkpoint_000000',\n",
      " 'config': {},\n",
      " 'date': '2023-12-11_22-19-23',\n",
      " 'done': True,\n",
      " 'experiment_tag': '0',\n",
      " 'hostname': 'MacBook-Air.local',\n",
      " 'iterations_since_restore': 51,\n",
      " 'node_ip': '127.0.0.1',\n",
      " 'pid': 44964,\n",
      " 'should_checkpoint': True,\n",
      " 'time_since_restore': 67.33735942840576,\n",
      " 'time_this_iter_s': 0.08819103240966797,\n",
      " 'time_total_s': 67.33735942840576,\n",
      " 'timestamp': 1702304363,\n",
      " 'train-error': 0.37107067516709225,\n",
      " 'train-logloss': 0.6465804877782414,\n",
      " 'training_iteration': 51,\n",
      " 'trial_id': '1c7a2_00000',\n",
      " 'valid-error': 0.36603915089725336,\n",
      " 'valid-logloss': 0.6453477893263155,\n",
      " 'valid_filtered-error': 0.3660964314900572,\n",
      " 'valid_filtered-logloss': 0.6452991140412185}\n"
     ]
    }
   ],
   "source": [
    "from pprint import pprint\n",
    "pprint(result.metrics)"
   ]
  },
  {
   "cell_type": "code",
   "execution_count": null,
   "metadata": {},
   "outputs": [
    {
     "name": "stdout",
     "output_type": "stream",
     "text": [
      "Training accuracy: 0.6289\n",
      "Validation accuracy: 0.6340\n",
      "Validation (filtered) accuracy: 0.6339\n"
     ]
    }
   ],
   "source": [
    "print(f\"Training accuracy: {1 - result.metrics['train-error']:.4f}\")\n",
    "print(f\"Validation accuracy: {1 - result.metrics['valid-error']:.4f}\")\n",
    "print(f\"Validation (filtered) accuracy: {1 - result.metrics['valid_filtered-error']:.4f}\")"
   ]
  },
  {
   "cell_type": "code",
   "execution_count": 46,
   "metadata": {},
   "outputs": [
    {
     "data": {
      "application/vnd.jupyter.widget-view+json": {
       "model_id": "62a07aab5ae44b8da218a8fd0c63ba71",
       "version_major": 2,
       "version_minor": 0
      },
      "text/plain": [
       "- Repartition 1:   0%|          | 0/5 [00:00<?, ?it/s]"
      ]
     },
     "metadata": {},
     "output_type": "display_data"
    },
    {
     "data": {
      "application/vnd.jupyter.widget-view+json": {
       "model_id": "36038d36642742dfb02a72221bb287e5",
       "version_major": 2,
       "version_minor": 0
      },
      "text/plain": [
       "Split Repartition 2:   0%|          | 0/5 [00:00<?, ?it/s]"
      ]
     },
     "metadata": {},
     "output_type": "display_data"
    },
    {
     "data": {
      "application/vnd.jupyter.widget-view+json": {
       "model_id": "0a58886e38b14bbea5ac454f84b87cd5",
       "version_major": 2,
       "version_minor": 0
      },
      "text/plain": [
       "- Aggregate 3:   0%|          | 0/5 [00:00<?, ?it/s]"
      ]
     },
     "metadata": {},
     "output_type": "display_data"
    },
    {
     "data": {
      "application/vnd.jupyter.widget-view+json": {
       "model_id": "a7727446f6914055a6ad361661df8005",
       "version_major": 2,
       "version_minor": 0
      },
      "text/plain": [
       "Shuffle Map 4:   0%|          | 0/5 [00:00<?, ?it/s]"
      ]
     },
     "metadata": {},
     "output_type": "display_data"
    },
    {
     "data": {
      "application/vnd.jupyter.widget-view+json": {
       "model_id": "ad48599b2e7b4d569a4c9fe8d7cd021a",
       "version_major": 2,
       "version_minor": 0
      },
      "text/plain": [
       "Shuffle Reduce 5:   0%|          | 0/5 [00:00<?, ?it/s]"
      ]
     },
     "metadata": {},
     "output_type": "display_data"
    },
    {
     "data": {
      "application/vnd.jupyter.widget-view+json": {
       "model_id": "c160b67982df4543961f55a4df4eb38e",
       "version_major": 2,
       "version_minor": 0
      },
      "text/plain": [
       "Running 0:   0%|          | 0/5 [00:00<?, ?it/s]"
      ]
     },
     "metadata": {},
     "output_type": "display_data"
    },
    {
     "ename": "KeyboardInterrupt",
     "evalue": "",
     "output_type": "error",
     "traceback": [
      "\u001b[0;31m---------------------------------------------------------------------------\u001b[0m",
      "\u001b[0;31mKeyboardInterrupt\u001b[0m                         Traceback (most recent call last)",
      "Cell \u001b[0;32mIn[46], line 13\u001b[0m\n\u001b[1;32m      9\u001b[0m     \u001b[38;5;28;01mreturn\u001b[39;00m {\u001b[38;5;124m\"\u001b[39m\u001b[38;5;124mdata\u001b[39m\u001b[38;5;124m\"\u001b[39m: ((xgb_model\u001b[38;5;241m.\u001b[39mpredict(X) \u001b[38;5;241m>\u001b[39m \u001b[38;5;241m0.5\u001b[39m) \u001b[38;5;241m==\u001b[39m y)\u001b[38;5;241m.\u001b[39mastype(\u001b[38;5;28mint\u001b[39m)}\n\u001b[1;32m     12\u001b[0m BATCH_SIZE \u001b[38;5;241m=\u001b[39m \u001b[38;5;241m32\u001b[39m\n\u001b[0;32m---> 13\u001b[0m \u001b[38;5;28mprint\u001b[39m(\u001b[43mtransformed_valid\u001b[49m\u001b[38;5;241;43m.\u001b[39;49m\u001b[43mmap_batches\u001b[49m\u001b[43m(\u001b[49m\u001b[43mcorrect_preds\u001b[49m\u001b[43m,\u001b[49m\u001b[43m \u001b[49m\u001b[43mbatch_format\u001b[49m\u001b[38;5;241;43m=\u001b[39;49m\u001b[38;5;124;43m\"\u001b[39;49m\u001b[38;5;124;43mpandas\u001b[39;49m\u001b[38;5;124;43m\"\u001b[39;49m\u001b[43m,\u001b[49m\u001b[43m \u001b[49m\u001b[43mbatch_size\u001b[49m\u001b[38;5;241;43m=\u001b[39;49m\u001b[43mBATCH_SIZE\u001b[49m\u001b[43m)\u001b[49m\u001b[38;5;241;43m.\u001b[39;49m\u001b[43mmean\u001b[49m\u001b[43m(\u001b[49m\u001b[38;5;124;43m\"\u001b[39;49m\u001b[38;5;124;43mdata\u001b[39;49m\u001b[38;5;124;43m\"\u001b[39;49m\u001b[43m)\u001b[49m)\n",
      "File \u001b[0;32m~/opt/miniconda3/envs/ai/lib/python3.9/site-packages/ray/data/dataset.py:2121\u001b[0m, in \u001b[0;36mDataset.mean\u001b[0;34m(self, on, ignore_nulls)\u001b[0m\n\u001b[1;32m   2082\u001b[0m \u001b[38;5;129m@ConsumptionAPI\u001b[39m\n\u001b[1;32m   2083\u001b[0m \u001b[38;5;28;01mdef\u001b[39;00m \u001b[38;5;21mmean\u001b[39m(\n\u001b[1;32m   2084\u001b[0m     \u001b[38;5;28mself\u001b[39m, on: Optional[Union[\u001b[38;5;28mstr\u001b[39m, List[\u001b[38;5;28mstr\u001b[39m]]] \u001b[38;5;241m=\u001b[39m \u001b[38;5;28;01mNone\u001b[39;00m, ignore_nulls: \u001b[38;5;28mbool\u001b[39m \u001b[38;5;241m=\u001b[39m \u001b[38;5;28;01mTrue\u001b[39;00m\n\u001b[1;32m   2085\u001b[0m ) \u001b[38;5;241m-\u001b[39m\u001b[38;5;241m>\u001b[39m Union[Any, Dict[\u001b[38;5;28mstr\u001b[39m, Any]]:\n\u001b[1;32m   2086\u001b[0m \u001b[38;5;250m    \u001b[39m\u001b[38;5;124;03m\"\"\"Compute the mean of one or more columns.\u001b[39;00m\n\u001b[1;32m   2087\u001b[0m \n\u001b[1;32m   2088\u001b[0m \u001b[38;5;124;03m    Examples:\u001b[39;00m\n\u001b[0;32m   (...)\u001b[0m\n\u001b[1;32m   2119\u001b[0m \u001b[38;5;124;03m        ``False`` and any value is null, then the output is ``None``.\u001b[39;00m\n\u001b[1;32m   2120\u001b[0m \u001b[38;5;124;03m    \"\"\"\u001b[39;00m\n\u001b[0;32m-> 2121\u001b[0m     ret \u001b[38;5;241m=\u001b[39m \u001b[38;5;28;43mself\u001b[39;49m\u001b[38;5;241;43m.\u001b[39;49m\u001b[43m_aggregate_on\u001b[49m\u001b[43m(\u001b[49m\u001b[43mMean\u001b[49m\u001b[43m,\u001b[49m\u001b[43m \u001b[49m\u001b[43mon\u001b[49m\u001b[43m,\u001b[49m\u001b[43m \u001b[49m\u001b[43mignore_nulls\u001b[49m\u001b[43m)\u001b[49m\n\u001b[1;32m   2122\u001b[0m     \u001b[38;5;28;01mreturn\u001b[39;00m \u001b[38;5;28mself\u001b[39m\u001b[38;5;241m.\u001b[39m_aggregate_result(ret)\n",
      "File \u001b[0;32m~/opt/miniconda3/envs/ai/lib/python3.9/site-packages/ray/data/dataset.py:4778\u001b[0m, in \u001b[0;36mDataset._aggregate_on\u001b[0;34m(self, agg_cls, on, *args, **kwargs)\u001b[0m\n\u001b[1;32m   4770\u001b[0m \u001b[38;5;250m\u001b[39m\u001b[38;5;124;03m\"\"\"Helper for aggregating on a particular subset of the dataset.\u001b[39;00m\n\u001b[1;32m   4771\u001b[0m \n\u001b[1;32m   4772\u001b[0m \u001b[38;5;124;03mThis validates the `on` argument, and converts a list of column names\u001b[39;00m\n\u001b[0;32m   (...)\u001b[0m\n\u001b[1;32m   4775\u001b[0m \u001b[38;5;124;03maggregation on the entire row for a simple Dataset.\u001b[39;00m\n\u001b[1;32m   4776\u001b[0m \u001b[38;5;124;03m\"\"\"\u001b[39;00m\n\u001b[1;32m   4777\u001b[0m aggs \u001b[38;5;241m=\u001b[39m \u001b[38;5;28mself\u001b[39m\u001b[38;5;241m.\u001b[39m_build_multicolumn_aggs(agg_cls, on, \u001b[38;5;241m*\u001b[39margs, \u001b[38;5;241m*\u001b[39m\u001b[38;5;241m*\u001b[39mkwargs)\n\u001b[0;32m-> 4778\u001b[0m \u001b[38;5;28;01mreturn\u001b[39;00m \u001b[38;5;28;43mself\u001b[39;49m\u001b[38;5;241;43m.\u001b[39;49m\u001b[43maggregate\u001b[49m\u001b[43m(\u001b[49m\u001b[38;5;241;43m*\u001b[39;49m\u001b[43maggs\u001b[49m\u001b[43m)\u001b[49m\n",
      "File \u001b[0;32m~/opt/miniconda3/envs/ai/lib/python3.9/site-packages/ray/data/dataset.py:1953\u001b[0m, in \u001b[0;36mDataset.aggregate\u001b[0;34m(self, *aggs)\u001b[0m\n\u001b[1;32m   1919\u001b[0m \u001b[38;5;129m@ConsumptionAPI\u001b[39m\n\u001b[1;32m   1920\u001b[0m \u001b[38;5;28;01mdef\u001b[39;00m \u001b[38;5;21maggregate\u001b[39m(\u001b[38;5;28mself\u001b[39m, \u001b[38;5;241m*\u001b[39maggs: AggregateFn) \u001b[38;5;241m-\u001b[39m\u001b[38;5;241m>\u001b[39m Union[Any, Dict[\u001b[38;5;28mstr\u001b[39m, Any]]:\n\u001b[1;32m   1921\u001b[0m \u001b[38;5;250m    \u001b[39m\u001b[38;5;124;03m\"\"\"Aggregate values using one or more functions.\u001b[39;00m\n\u001b[1;32m   1922\u001b[0m \n\u001b[1;32m   1923\u001b[0m \u001b[38;5;124;03m    Use this method to compute metrics like the product of a column.\u001b[39;00m\n\u001b[0;32m   (...)\u001b[0m\n\u001b[1;32m   1951\u001b[0m \u001b[38;5;124;03m        A ``dict`` where each each value is an aggregation for a given column.\u001b[39;00m\n\u001b[1;32m   1952\u001b[0m \u001b[38;5;124;03m    \"\"\"\u001b[39;00m\n\u001b[0;32m-> 1953\u001b[0m     ret \u001b[38;5;241m=\u001b[39m \u001b[38;5;28;43mself\u001b[39;49m\u001b[38;5;241;43m.\u001b[39;49m\u001b[43mgroupby\u001b[49m\u001b[43m(\u001b[49m\u001b[38;5;28;43;01mNone\u001b[39;49;00m\u001b[43m)\u001b[49m\u001b[38;5;241;43m.\u001b[39;49m\u001b[43maggregate\u001b[49m\u001b[43m(\u001b[49m\u001b[38;5;241;43m*\u001b[39;49m\u001b[43maggs\u001b[49m\u001b[43m)\u001b[49m\u001b[38;5;241;43m.\u001b[39;49m\u001b[43mtake\u001b[49m\u001b[43m(\u001b[49m\u001b[38;5;241;43m1\u001b[39;49m\u001b[43m)\u001b[49m\n\u001b[1;32m   1954\u001b[0m     \u001b[38;5;28;01mreturn\u001b[39;00m ret[\u001b[38;5;241m0\u001b[39m] \u001b[38;5;28;01mif\u001b[39;00m \u001b[38;5;28mlen\u001b[39m(ret) \u001b[38;5;241m>\u001b[39m \u001b[38;5;241m0\u001b[39m \u001b[38;5;28;01melse\u001b[39;00m \u001b[38;5;28;01mNone\u001b[39;00m\n",
      "File \u001b[0;32m~/opt/miniconda3/envs/ai/lib/python3.9/site-packages/ray/data/dataset.py:2390\u001b[0m, in \u001b[0;36mDataset.take\u001b[0;34m(self, limit)\u001b[0m\n\u001b[1;32m   2387\u001b[0m output \u001b[38;5;241m=\u001b[39m []\n\u001b[1;32m   2389\u001b[0m limited_ds \u001b[38;5;241m=\u001b[39m \u001b[38;5;28mself\u001b[39m\u001b[38;5;241m.\u001b[39mlimit(limit)\n\u001b[0;32m-> 2390\u001b[0m \u001b[38;5;28;01mfor\u001b[39;00m row \u001b[38;5;129;01min\u001b[39;00m limited_ds\u001b[38;5;241m.\u001b[39miter_rows():\n\u001b[1;32m   2391\u001b[0m     output\u001b[38;5;241m.\u001b[39mappend(row)\n\u001b[1;32m   2392\u001b[0m     \u001b[38;5;28;01mif\u001b[39;00m \u001b[38;5;28mlen\u001b[39m(output) \u001b[38;5;241m>\u001b[39m\u001b[38;5;241m=\u001b[39m limit:\n",
      "File \u001b[0;32m~/opt/miniconda3/envs/ai/lib/python3.9/site-packages/ray/data/iterator.py:219\u001b[0m, in \u001b[0;36mDataIterator.iter_rows.<locals>._wrapped_iterator\u001b[0;34m()\u001b[0m\n\u001b[1;32m    218\u001b[0m \u001b[38;5;28;01mdef\u001b[39;00m \u001b[38;5;21m_wrapped_iterator\u001b[39m():\n\u001b[0;32m--> 219\u001b[0m     \u001b[38;5;28;01mfor\u001b[39;00m batch \u001b[38;5;129;01min\u001b[39;00m batch_iterable:\n\u001b[1;32m    220\u001b[0m         batch \u001b[38;5;241m=\u001b[39m BlockAccessor\u001b[38;5;241m.\u001b[39mfor_block(BlockAccessor\u001b[38;5;241m.\u001b[39mbatch_to_block(batch))\n\u001b[1;32m    221\u001b[0m         \u001b[38;5;28;01mfor\u001b[39;00m row \u001b[38;5;129;01min\u001b[39;00m batch\u001b[38;5;241m.\u001b[39miter_rows(public_row_format\u001b[38;5;241m=\u001b[39m\u001b[38;5;28;01mTrue\u001b[39;00m):\n",
      "File \u001b[0;32m~/opt/miniconda3/envs/ai/lib/python3.9/site-packages/ray/data/iterator.py:164\u001b[0m, in \u001b[0;36mDataIterator.iter_batches.<locals>._create_iterator\u001b[0;34m()\u001b[0m\n\u001b[1;32m    159\u001b[0m time_start \u001b[38;5;241m=\u001b[39m time\u001b[38;5;241m.\u001b[39mperf_counter()\n\u001b[1;32m    160\u001b[0m \u001b[38;5;66;03m# Iterate through the dataset from the start each time\u001b[39;00m\n\u001b[1;32m    161\u001b[0m \u001b[38;5;66;03m# _iterator_gen is called.\u001b[39;00m\n\u001b[1;32m    162\u001b[0m \u001b[38;5;66;03m# This allows multiple iterations of the dataset without\u001b[39;00m\n\u001b[1;32m    163\u001b[0m \u001b[38;5;66;03m# needing to explicitly call `iter_batches()` multiple times.\u001b[39;00m\n\u001b[0;32m--> 164\u001b[0m block_iterator, stats, blocks_owned_by_consumer \u001b[38;5;241m=\u001b[39m \u001b[38;5;28;43mself\u001b[39;49m\u001b[38;5;241;43m.\u001b[39;49m\u001b[43m_to_block_iterator\u001b[49m\u001b[43m(\u001b[49m\u001b[43m)\u001b[49m\n\u001b[1;32m    166\u001b[0m iterator \u001b[38;5;241m=\u001b[39m \u001b[38;5;28miter\u001b[39m(\n\u001b[1;32m    167\u001b[0m     iter_batches(\n\u001b[1;32m    168\u001b[0m         block_iterator,\n\u001b[0;32m   (...)\u001b[0m\n\u001b[1;32m    179\u001b[0m     )\n\u001b[1;32m    180\u001b[0m )\n\u001b[1;32m    182\u001b[0m \u001b[38;5;28;01mfor\u001b[39;00m batch \u001b[38;5;129;01min\u001b[39;00m iterator:\n",
      "File \u001b[0;32m~/opt/miniconda3/envs/ai/lib/python3.9/site-packages/ray/data/_internal/iterator/iterator_impl.py:32\u001b[0m, in \u001b[0;36mDataIteratorImpl._to_block_iterator\u001b[0;34m(self)\u001b[0m\n\u001b[1;32m     24\u001b[0m \u001b[38;5;28;01mdef\u001b[39;00m \u001b[38;5;21m_to_block_iterator\u001b[39m(\n\u001b[1;32m     25\u001b[0m     \u001b[38;5;28mself\u001b[39m,\n\u001b[1;32m     26\u001b[0m ) \u001b[38;5;241m-\u001b[39m\u001b[38;5;241m>\u001b[39m Tuple[\n\u001b[0;32m   (...)\u001b[0m\n\u001b[1;32m     29\u001b[0m     \u001b[38;5;28mbool\u001b[39m,\n\u001b[1;32m     30\u001b[0m ]:\n\u001b[1;32m     31\u001b[0m     ds \u001b[38;5;241m=\u001b[39m \u001b[38;5;28mself\u001b[39m\u001b[38;5;241m.\u001b[39m_base_dataset\n\u001b[0;32m---> 32\u001b[0m     block_iterator, stats, executor \u001b[38;5;241m=\u001b[39m \u001b[43mds\u001b[49m\u001b[38;5;241;43m.\u001b[39;49m\u001b[43m_plan\u001b[49m\u001b[38;5;241;43m.\u001b[39;49m\u001b[43mexecute_to_iterator\u001b[49m\u001b[43m(\u001b[49m\u001b[43m)\u001b[49m\n\u001b[1;32m     33\u001b[0m     ds\u001b[38;5;241m.\u001b[39m_current_executor \u001b[38;5;241m=\u001b[39m executor\n\u001b[1;32m     34\u001b[0m     \u001b[38;5;28;01mreturn\u001b[39;00m block_iterator, stats, \u001b[38;5;28;01mFalse\u001b[39;00m\n",
      "File \u001b[0;32m~/opt/miniconda3/envs/ai/lib/python3.9/site-packages/ray/data/_internal/plan.py:548\u001b[0m, in \u001b[0;36mExecutionPlan.execute_to_iterator\u001b[0;34m(self, allow_clear_input_blocks, force_read)\u001b[0m\n\u001b[1;32m    546\u001b[0m gen \u001b[38;5;241m=\u001b[39m \u001b[38;5;28miter\u001b[39m(block_iter)\n\u001b[1;32m    547\u001b[0m \u001b[38;5;28;01mtry\u001b[39;00m:\n\u001b[0;32m--> 548\u001b[0m     block_iter \u001b[38;5;241m=\u001b[39m itertools\u001b[38;5;241m.\u001b[39mchain([\u001b[38;5;28;43mnext\u001b[39;49m\u001b[43m(\u001b[49m\u001b[43mgen\u001b[49m\u001b[43m)\u001b[49m], gen)\n\u001b[1;32m    549\u001b[0m \u001b[38;5;28;01mexcept\u001b[39;00m \u001b[38;5;167;01mStopIteration\u001b[39;00m:\n\u001b[1;32m    550\u001b[0m     \u001b[38;5;28;01mpass\u001b[39;00m\n",
      "File \u001b[0;32m~/opt/miniconda3/envs/ai/lib/python3.9/site-packages/ray/data/_internal/execution/legacy_compat.py:54\u001b[0m, in \u001b[0;36mexecute_to_legacy_block_iterator\u001b[0;34m(executor, plan, allow_clear_input_blocks, dataset_uuid)\u001b[0m\n\u001b[1;32m     50\u001b[0m \u001b[38;5;250m\u001b[39m\u001b[38;5;124;03m\"\"\"Same as execute_to_legacy_bundle_iterator but returning blocks and metadata.\"\"\"\u001b[39;00m\n\u001b[1;32m     51\u001b[0m bundle_iter \u001b[38;5;241m=\u001b[39m execute_to_legacy_bundle_iterator(\n\u001b[1;32m     52\u001b[0m     executor, plan, allow_clear_input_blocks, dataset_uuid\n\u001b[1;32m     53\u001b[0m )\n\u001b[0;32m---> 54\u001b[0m \u001b[38;5;28;01mfor\u001b[39;00m bundle \u001b[38;5;129;01min\u001b[39;00m bundle_iter:\n\u001b[1;32m     55\u001b[0m     \u001b[38;5;28;01mfor\u001b[39;00m block, metadata \u001b[38;5;129;01min\u001b[39;00m bundle\u001b[38;5;241m.\u001b[39mblocks:\n\u001b[1;32m     56\u001b[0m         \u001b[38;5;28;01myield\u001b[39;00m block, metadata\n",
      "File \u001b[0;32m~/opt/miniconda3/envs/ai/lib/python3.9/site-packages/ray/data/_internal/execution/interfaces/executor.py:37\u001b[0m, in \u001b[0;36mOutputIterator.__next__\u001b[0;34m(self)\u001b[0m\n\u001b[1;32m     36\u001b[0m \u001b[38;5;28;01mdef\u001b[39;00m \u001b[38;5;21m__next__\u001b[39m(\u001b[38;5;28mself\u001b[39m) \u001b[38;5;241m-\u001b[39m\u001b[38;5;241m>\u001b[39m RefBundle:\n\u001b[0;32m---> 37\u001b[0m     \u001b[38;5;28;01mreturn\u001b[39;00m \u001b[38;5;28;43mself\u001b[39;49m\u001b[38;5;241;43m.\u001b[39;49m\u001b[43mget_next\u001b[49m\u001b[43m(\u001b[49m\u001b[43m)\u001b[49m\n",
      "File \u001b[0;32m~/opt/miniconda3/envs/ai/lib/python3.9/site-packages/ray/data/_internal/execution/streaming_executor.py:130\u001b[0m, in \u001b[0;36mStreamingExecutor.execute.<locals>.StreamIterator.get_next\u001b[0;34m(self, output_split_idx)\u001b[0m\n\u001b[1;32m    128\u001b[0m \u001b[38;5;28;01mdef\u001b[39;00m \u001b[38;5;21mget_next\u001b[39m(\u001b[38;5;28mself\u001b[39m, output_split_idx: Optional[\u001b[38;5;28mint\u001b[39m] \u001b[38;5;241m=\u001b[39m \u001b[38;5;28;01mNone\u001b[39;00m) \u001b[38;5;241m-\u001b[39m\u001b[38;5;241m>\u001b[39m RefBundle:\n\u001b[1;32m    129\u001b[0m     \u001b[38;5;28;01mtry\u001b[39;00m:\n\u001b[0;32m--> 130\u001b[0m         item \u001b[38;5;241m=\u001b[39m \u001b[38;5;28;43mself\u001b[39;49m\u001b[38;5;241;43m.\u001b[39;49m\u001b[43m_outer\u001b[49m\u001b[38;5;241;43m.\u001b[39;49m\u001b[43m_output_node\u001b[49m\u001b[38;5;241;43m.\u001b[39;49m\u001b[43mget_output_blocking\u001b[49m\u001b[43m(\u001b[49m\n\u001b[1;32m    131\u001b[0m \u001b[43m            \u001b[49m\u001b[43moutput_split_idx\u001b[49m\n\u001b[1;32m    132\u001b[0m \u001b[43m        \u001b[49m\u001b[43m)\u001b[49m\n\u001b[1;32m    133\u001b[0m         \u001b[38;5;66;03m# Translate the special sentinel values for MaybeRefBundle into\u001b[39;00m\n\u001b[1;32m    134\u001b[0m         \u001b[38;5;66;03m# exceptions.\u001b[39;00m\n\u001b[1;32m    135\u001b[0m         \u001b[38;5;28;01mif\u001b[39;00m item \u001b[38;5;129;01mis\u001b[39;00m \u001b[38;5;28;01mNone\u001b[39;00m:\n",
      "File \u001b[0;32m~/opt/miniconda3/envs/ai/lib/python3.9/site-packages/ray/data/_internal/execution/streaming_executor_state.py:236\u001b[0m, in \u001b[0;36mOpState.get_output_blocking\u001b[0;34m(self, output_split_idx)\u001b[0m\n\u001b[1;32m    234\u001b[0m \u001b[38;5;28;01mexcept\u001b[39;00m \u001b[38;5;167;01mIndexError\u001b[39;00m:\n\u001b[1;32m    235\u001b[0m     \u001b[38;5;28;01mpass\u001b[39;00m\n\u001b[0;32m--> 236\u001b[0m \u001b[43mtime\u001b[49m\u001b[38;5;241;43m.\u001b[39;49m\u001b[43msleep\u001b[49m\u001b[43m(\u001b[49m\u001b[38;5;241;43m0.01\u001b[39;49m\u001b[43m)\u001b[49m\n",
      "\u001b[0;31mKeyboardInterrupt\u001b[0m: "
     ]
    }
   ],
   "source": [
    "from xgboost import DMatrix\n",
    "\n",
    "checkpoint = result.checkpoint\n",
    "xgb_model = trainer.get_model(checkpoint)\n",
    "\n",
    "def correct_preds(batch):\n",
    "    X = DMatrix(batch.drop(\"is_big_tip\", axis=1))\n",
    "    y = batch[\"is_big_tip\"]\n",
    "    return {\"data\": ((xgb_model.predict(X) > 0.5) == y).astype(int)}\n",
    "\n",
    "\n",
    "BATCH_SIZE = 32\n",
    "print(transformed_valid.map_batches(correct_preds, batch_format=\"pandas\", batch_size=BATCH_SIZE).mean(\"data\"))"
   ]
  },
  {
   "cell_type": "markdown",
   "metadata": {},
   "source": [
    "tune"
   ]
  },
  {
   "cell_type": "code",
   "execution_count": 44,
   "metadata": {
    "tags": [
     "hide-output"
    ]
   },
   "outputs": [
    {
     "data": {
      "text/html": [
       "<div class=\"tuneStatus\">\n",
       "  <div style=\"display: flex;flex-direction: row\">\n",
       "    <div style=\"display: flex;flex-direction: column;\">\n",
       "      <h3>Tune Status</h3>\n",
       "      <table>\n",
       "<tbody>\n",
       "<tr><td>Current time:</td><td>2023-12-12 03:22:39</td></tr>\n",
       "<tr><td>Running for: </td><td>01:46:30.14        </td></tr>\n",
       "<tr><td>Memory:      </td><td>6.8/8.0 GiB        </td></tr>\n",
       "</tbody>\n",
       "</table>\n",
       "    </div>\n",
       "    <div class=\"vDivider\"></div>\n",
       "    <div class=\"systemInfo\">\n",
       "      <h3>System Info</h3>\n",
       "      Using FIFO scheduling algorithm.<br>Logical resource usage: 5.0/8 CPUs, 0/0 GPUs\n",
       "    </div>\n",
       "    \n",
       "  </div>\n",
       "  <div class=\"hDivider\"></div>\n",
       "  <div class=\"trialStatus\">\n",
       "    <h3>Trial Status</h3>\n",
       "    <table>\n",
       "<thead>\n",
       "<tr><th>Trial name                </th><th>status    </th><th>loc            </th><th style=\"text-align: right;\">  params/eta</th><th style=\"text-align: right;\">  params/max_depth</th><th style=\"text-align: right;\">         params/min_child_wei\n",
       "ght</th><th style=\"text-align: right;\">  iter</th><th style=\"text-align: right;\">  total time (s)</th><th style=\"text-align: right;\">  train-logloss</th><th style=\"text-align: right;\">  train-error</th><th style=\"text-align: right;\">  valid-logloss</th></tr>\n",
       "</thead>\n",
       "<tbody>\n",
       "<tr><td>XGBoostTrainer_c4ec6_00000</td><td>TERMINATED</td><td>127.0.0.1:47687</td><td style=\"text-align: right;\">    0.263223</td><td style=\"text-align: right;\">                 4</td><td style=\"text-align: right;\">0.94941 </td><td style=\"text-align: right;\">    51</td><td style=\"text-align: right;\">        3356.54 </td><td style=\"text-align: right;\">       0.647311</td><td style=\"text-align: right;\">     0.37001 </td><td style=\"text-align: right;\">       0.647267</td></tr>\n",
       "<tr><td>XGBoostTrainer_c4ec6_00001</td><td>TERMINATED</td><td>127.0.0.1:47878</td><td style=\"text-align: right;\">    0.370265</td><td style=\"text-align: right;\">                 5</td><td style=\"text-align: right;\">0.81622 </td><td style=\"text-align: right;\">    51</td><td style=\"text-align: right;\">         225.661</td><td style=\"text-align: right;\">       0.645469</td><td style=\"text-align: right;\">     0.368396</td><td style=\"text-align: right;\">       0.645991</td></tr>\n",
       "<tr><td>XGBoostTrainer_c4ec6_00002</td><td>TERMINATED</td><td>127.0.0.1:47994</td><td style=\"text-align: right;\">    0.239246</td><td style=\"text-align: right;\">                 4</td><td style=\"text-align: right;\">0.935311</td><td style=\"text-align: right;\">    51</td><td style=\"text-align: right;\">         232.066</td><td style=\"text-align: right;\">       0.647368</td><td style=\"text-align: right;\">     0.370251</td><td style=\"text-align: right;\">       0.647325</td></tr>\n",
       "<tr><td>XGBoostTrainer_c4ec6_00003</td><td>TERMINATED</td><td>127.0.0.1:48050</td><td style=\"text-align: right;\">    0.230617</td><td style=\"text-align: right;\">                 1</td><td style=\"text-align: right;\">0.960225</td><td style=\"text-align: right;\">    51</td><td style=\"text-align: right;\">         229.806</td><td style=\"text-align: right;\">       0.653712</td><td style=\"text-align: right;\">     0.378917</td><td style=\"text-align: right;\">       0.653468</td></tr>\n",
       "<tr><td>XGBoostTrainer_c4ec6_00004</td><td>TERMINATED</td><td>127.0.0.1:48129</td><td style=\"text-align: right;\">    0.204536</td><td style=\"text-align: right;\">                 4</td><td style=\"text-align: right;\">0.926792</td><td style=\"text-align: right;\">    51</td><td style=\"text-align: right;\">         318.726</td><td style=\"text-align: right;\">       0.647912</td><td style=\"text-align: right;\">     0.370614</td><td style=\"text-align: right;\">       0.647819</td></tr>\n",
       "<tr><td>XGBoostTrainer_c4ec6_00005</td><td>TERMINATED</td><td>127.0.0.1:48302</td><td style=\"text-align: right;\">    0.356709</td><td style=\"text-align: right;\">                 4</td><td style=\"text-align: right;\">0.929106</td><td style=\"text-align: right;\">    51</td><td style=\"text-align: right;\">         403.723</td><td style=\"text-align: right;\">       0.646674</td><td style=\"text-align: right;\">     0.369702</td><td style=\"text-align: right;\">       0.64674 </td></tr>\n",
       "<tr><td>XGBoostTrainer_c4ec6_00006</td><td>TERMINATED</td><td>127.0.0.1:48441</td><td style=\"text-align: right;\">    0.252593</td><td style=\"text-align: right;\">                 3</td><td style=\"text-align: right;\">0.828826</td><td style=\"text-align: right;\">    51</td><td style=\"text-align: right;\">         393.598</td><td style=\"text-align: right;\">       0.648832</td><td style=\"text-align: right;\">     0.371849</td><td style=\"text-align: right;\">       0.648682</td></tr>\n",
       "<tr><td>XGBoostTrainer_c4ec6_00007</td><td>TERMINATED</td><td>127.0.0.1:48773</td><td style=\"text-align: right;\">    0.275978</td><td style=\"text-align: right;\">                 3</td><td style=\"text-align: right;\">0.885251</td><td style=\"text-align: right;\">    51</td><td style=\"text-align: right;\">         401.18 </td><td style=\"text-align: right;\">       0.648579</td><td style=\"text-align: right;\">     0.371601</td><td style=\"text-align: right;\">       0.648466</td></tr>\n",
       "<tr><td>XGBoostTrainer_c4ec6_00008</td><td>TERMINATED</td><td>127.0.0.1:49061</td><td style=\"text-align: right;\">    0.263953</td><td style=\"text-align: right;\">                 3</td><td style=\"text-align: right;\">0.951461</td><td style=\"text-align: right;\">    51</td><td style=\"text-align: right;\">         390.859</td><td style=\"text-align: right;\">       0.648617</td><td style=\"text-align: right;\">     0.371481</td><td style=\"text-align: right;\">       0.648463</td></tr>\n",
       "<tr><td>XGBoostTrainer_c4ec6_00009</td><td>TERMINATED</td><td>127.0.0.1:49143</td><td style=\"text-align: right;\">    0.269598</td><td style=\"text-align: right;\">                 1</td><td style=\"text-align: right;\">0.937359</td><td style=\"text-align: right;\">    51</td><td style=\"text-align: right;\">         397.132</td><td style=\"text-align: right;\">       0.653428</td><td style=\"text-align: right;\">     0.378164</td><td style=\"text-align: right;\">       0.653199</td></tr>\n",
       "</tbody>\n",
       "</table>\n",
       "  </div>\n",
       "</div>\n",
       "<style>\n",
       ".tuneStatus {\n",
       "  color: var(--jp-ui-font-color1);\n",
       "}\n",
       ".tuneStatus .systemInfo {\n",
       "  display: flex;\n",
       "  flex-direction: column;\n",
       "}\n",
       ".tuneStatus td {\n",
       "  white-space: nowrap;\n",
       "}\n",
       ".tuneStatus .trialStatus {\n",
       "  display: flex;\n",
       "  flex-direction: column;\n",
       "}\n",
       ".tuneStatus h3 {\n",
       "  font-weight: bold;\n",
       "}\n",
       ".tuneStatus .hDivider {\n",
       "  border-bottom-width: var(--jp-border-width);\n",
       "  border-bottom-color: var(--jp-border-color0);\n",
       "  border-bottom-style: solid;\n",
       "}\n",
       ".tuneStatus .vDivider {\n",
       "  border-left-width: var(--jp-border-width);\n",
       "  border-left-color: var(--jp-border-color0);\n",
       "  border-left-style: solid;\n",
       "  margin: 0.5em 1em 0.5em 1em;\n",
       "}\n",
       "</style>\n"
      ],
      "text/plain": [
       "<IPython.core.display.HTML object>"
      ]
     },
     "metadata": {},
     "output_type": "display_data"
    },
    {
     "name": "stderr",
     "output_type": "stream",
     "text": [
      "\u001b[36m(XGBoostTrainer pid=47687)\u001b[0m [RayXGBoost] Created 5 new actors (5 total actors). Waiting until actors are ready for training.\n",
      "\u001b[36m(XGBoostTrainer pid=47687)\u001b[0m Executing DAG InputDataBuffer[Input] -> AllToAllOperator[Repartition] -> TaskPoolMapOperator[MapBatches(preprocess)->Filter(filter_outliers)->MapBatches(StandardScaler.transform_batch)]\n",
      "\u001b[36m(XGBoostTrainer pid=47687)\u001b[0m Execution config: ExecutionOptions(resource_limits=ExecutionResources(cpu=None, gpu=None, object_store_memory=None), locality_with_output=False, preserve_order=False, actor_locality_enabled=True, verbose_progress=False)\n",
      "\u001b[36m(XGBoostTrainer pid=47687)\u001b[0m Tip: For detailed progress reporting, run `ray.data.DataContext.get_current().execution_options.verbose_progress = True`\n"
     ]
    },
    {
     "data": {
      "application/vnd.jupyter.widget-view+json": {
       "model_id": "e1aa98551ae44c939fd9e8a838d5ce14",
       "version_major": 2,
       "version_minor": 0
      },
      "text/plain": [
       "(pid=47687) - Repartition 1:   0%|          | 0/5 [00:00<?, ?it/s]"
      ]
     },
     "metadata": {},
     "output_type": "display_data"
    },
    {
     "data": {
      "application/vnd.jupyter.widget-view+json": {
       "model_id": "559103785cb949719409d6f4de525420",
       "version_major": 2,
       "version_minor": 0
      },
      "text/plain": [
       "(pid=47687) Split Repartition 2:   0%|          | 0/5 [00:00<?, ?it/s]"
      ]
     },
     "metadata": {},
     "output_type": "display_data"
    },
    {
     "data": {
      "application/vnd.jupyter.widget-view+json": {
       "model_id": "a01ee7193957428283a3ad2ce19ad1b6",
       "version_major": 2,
       "version_minor": 0
      },
      "text/plain": [
       "(pid=47687) Running 0:   0%|          | 0/5 [00:00<?, ?it/s]"
      ]
     },
     "metadata": {},
     "output_type": "display_data"
    },
    {
     "name": "stderr",
     "output_type": "stream",
     "text": [
      "\u001b[36m(XGBoostTrainer pid=47687)\u001b[0m Executing DAG InputDataBuffer[Input] -> AllToAllOperator[Repartition] -> TaskPoolMapOperator[MapBatches(preprocess)->Filter(filter_outliers)->MapBatches(StandardScaler.transform_batch)]\n",
      "\u001b[36m(XGBoostTrainer pid=47687)\u001b[0m Execution config: ExecutionOptions(resource_limits=ExecutionResources(cpu=None, gpu=None, object_store_memory=None), locality_with_output=False, preserve_order=False, actor_locality_enabled=True, verbose_progress=False)\n",
      "\u001b[36m(XGBoostTrainer pid=47687)\u001b[0m Tip: For detailed progress reporting, run `ray.data.DataContext.get_current().execution_options.verbose_progress = True`\n"
     ]
    },
    {
     "data": {
      "application/vnd.jupyter.widget-view+json": {
       "model_id": "f42b16800b4148d88d9a2c38230cddf4",
       "version_major": 2,
       "version_minor": 0
      },
      "text/plain": [
       "(pid=47687) - Repartition 1:   0%|          | 0/5 [00:00<?, ?it/s]"
      ]
     },
     "metadata": {},
     "output_type": "display_data"
    },
    {
     "data": {
      "application/vnd.jupyter.widget-view+json": {
       "model_id": "027274dd79284d91a5a7421dbd1f00bd",
       "version_major": 2,
       "version_minor": 0
      },
      "text/plain": [
       "(pid=47687) Split Repartition 2:   0%|          | 0/5 [00:00<?, ?it/s]"
      ]
     },
     "metadata": {},
     "output_type": "display_data"
    },
    {
     "data": {
      "application/vnd.jupyter.widget-view+json": {
       "model_id": "eab6a755bc7c47cc8f0b6e45fdfe3cb5",
       "version_major": 2,
       "version_minor": 0
      },
      "text/plain": [
       "(pid=47687) Running 0:   0%|          | 0/5 [00:00<?, ?it/s]"
      ]
     },
     "metadata": {},
     "output_type": "display_data"
    },
    {
     "name": "stderr",
     "output_type": "stream",
     "text": [
      "\u001b[36m(XGBoostTrainer pid=47687)\u001b[0m [RayXGBoost] Starting XGBoost training.\n",
      "\u001b[36m(_RemoteRayXGBoostActor pid=47691)\u001b[0m [02:31:57] task [xgboost.ray]:5266592720 got new rank 1\n",
      "\u001b[36m(XGBoostTrainer pid=47687)\u001b[0m [RayXGBoost] Finished XGBoost training on training data with total N=2,090,270 in 3356.97 seconds (12.17 pure XGBoost training time).\n",
      "\u001b[36m(XGBoostTrainer pid=47687)\u001b[0m Checkpoint successfully created at: Checkpoint(filesystem=local, path=/Users/particle1331/ray_results/XGBoostTrainer_2023-12-12_01-36-08/XGBoostTrainer_c4ec6_00000_0_eta=0.2632,max_depth=4,min_child_weight=0.9494_2023-12-12_01-36-08/checkpoint_000000)\n",
      "\u001b[36m(_RemoteRayXGBoostActor pid=47693)\u001b[0m [02:31:57] task [xgboost.ray]:5388911328 got new rank 3\u001b[32m [repeated 4x across cluster]\u001b[0m\n",
      "\u001b[36m(XGBoostTrainer pid=47878)\u001b[0m [RayXGBoost] Created 5 new actors (5 total actors). Waiting until actors are ready for training.\n",
      "\u001b[36m(XGBoostTrainer pid=47878)\u001b[0m Executing DAG InputDataBuffer[Input] -> AllToAllOperator[Repartition] -> TaskPoolMapOperator[MapBatches(preprocess)->Filter(filter_outliers)->MapBatches(StandardScaler.transform_batch)]\n",
      "\u001b[36m(XGBoostTrainer pid=47878)\u001b[0m Execution config: ExecutionOptions(resource_limits=ExecutionResources(cpu=None, gpu=None, object_store_memory=None), locality_with_output=False, preserve_order=False, actor_locality_enabled=True, verbose_progress=False)\n",
      "\u001b[36m(XGBoostTrainer pid=47878)\u001b[0m Tip: For detailed progress reporting, run `ray.data.DataContext.get_current().execution_options.verbose_progress = True`\n"
     ]
    },
    {
     "data": {
      "application/vnd.jupyter.widget-view+json": {
       "model_id": "3bead2528ee949d2833edee651fd3ccd",
       "version_major": 2,
       "version_minor": 0
      },
      "text/plain": [
       "(pid=47878) - Repartition 1:   0%|          | 0/5 [00:00<?, ?it/s]"
      ]
     },
     "metadata": {},
     "output_type": "display_data"
    },
    {
     "data": {
      "application/vnd.jupyter.widget-view+json": {
       "model_id": "fd8fbb7146de44af8f75bffaaae6f70f",
       "version_major": 2,
       "version_minor": 0
      },
      "text/plain": [
       "(pid=47878) Split Repartition 2:   0%|          | 0/5 [00:00<?, ?it/s]"
      ]
     },
     "metadata": {},
     "output_type": "display_data"
    },
    {
     "data": {
      "application/vnd.jupyter.widget-view+json": {
       "model_id": "c2c00d7e28e04f13af4f384796d11ece",
       "version_major": 2,
       "version_minor": 0
      },
      "text/plain": [
       "(pid=47878) Running 0:   0%|          | 0/5 [00:00<?, ?it/s]"
      ]
     },
     "metadata": {},
     "output_type": "display_data"
    },
    {
     "name": "stderr",
     "output_type": "stream",
     "text": [
      "\u001b[36m(XGBoostTrainer pid=47878)\u001b[0m Executing DAG InputDataBuffer[Input] -> AllToAllOperator[Repartition] -> TaskPoolMapOperator[MapBatches(preprocess)->Filter(filter_outliers)->MapBatches(StandardScaler.transform_batch)]\n",
      "\u001b[36m(XGBoostTrainer pid=47878)\u001b[0m Execution config: ExecutionOptions(resource_limits=ExecutionResources(cpu=None, gpu=None, object_store_memory=None), locality_with_output=False, preserve_order=False, actor_locality_enabled=True, verbose_progress=False)\n",
      "\u001b[36m(XGBoostTrainer pid=47878)\u001b[0m Tip: For detailed progress reporting, run `ray.data.DataContext.get_current().execution_options.verbose_progress = True`\n"
     ]
    },
    {
     "data": {
      "application/vnd.jupyter.widget-view+json": {
       "model_id": "eefa6726234049a3851bcf4155ac5d4a",
       "version_major": 2,
       "version_minor": 0
      },
      "text/plain": [
       "(pid=47878) - Repartition 1:   0%|          | 0/5 [00:00<?, ?it/s]"
      ]
     },
     "metadata": {},
     "output_type": "display_data"
    },
    {
     "data": {
      "application/vnd.jupyter.widget-view+json": {
       "model_id": "359b8b6e927246c780e6223880be5e8f",
       "version_major": 2,
       "version_minor": 0
      },
      "text/plain": [
       "(pid=47878) Split Repartition 2:   0%|          | 0/5 [00:00<?, ?it/s]"
      ]
     },
     "metadata": {},
     "output_type": "display_data"
    },
    {
     "data": {
      "application/vnd.jupyter.widget-view+json": {
       "model_id": "6b4503473a804a8cb040d06a3e5b9621",
       "version_major": 2,
       "version_minor": 0
      },
      "text/plain": [
       "(pid=47878) Running 0:   0%|          | 0/5 [00:00<?, ?it/s]"
      ]
     },
     "metadata": {},
     "output_type": "display_data"
    },
    {
     "name": "stderr",
     "output_type": "stream",
     "text": [
      "\u001b[36m(XGBoostTrainer pid=47878)\u001b[0m [RayXGBoost] Starting XGBoost training.\n",
      "\u001b[36m(_RemoteRayXGBoostActor pid=47885)\u001b[0m [02:35:45] task [xgboost.ray]:5816632128 got new rank 0\n",
      "\u001b[36m(XGBoostTrainer pid=47878)\u001b[0m [RayXGBoost] Finished XGBoost training on training data with total N=2,090,270 in 225.98 seconds (13.33 pure XGBoost training time).\n",
      "\u001b[36m(XGBoostTrainer pid=47878)\u001b[0m Checkpoint successfully created at: Checkpoint(filesystem=local, path=/Users/particle1331/ray_results/XGBoostTrainer_2023-12-12_01-36-08/XGBoostTrainer_c4ec6_00001_1_eta=0.3703,max_depth=5,min_child_weight=0.8162_2023-12-12_01-36-08/checkpoint_000000)\n",
      "\u001b[36m(_RemoteRayXGBoostActor pid=47887)\u001b[0m [02:35:45] task [xgboost.ray]:5281071744 got new rank 2\u001b[32m [repeated 4x across cluster]\u001b[0m\n",
      "\u001b[36m(XGBoostTrainer pid=47994)\u001b[0m [RayXGBoost] Created 5 new actors (5 total actors). Waiting until actors are ready for training.\n",
      "\u001b[36m(XGBoostTrainer pid=47994)\u001b[0m Executing DAG InputDataBuffer[Input] -> AllToAllOperator[Repartition] -> TaskPoolMapOperator[MapBatches(preprocess)->Filter(filter_outliers)->MapBatches(StandardScaler.transform_batch)]\n",
      "\u001b[36m(XGBoostTrainer pid=47994)\u001b[0m Execution config: ExecutionOptions(resource_limits=ExecutionResources(cpu=None, gpu=None, object_store_memory=None), locality_with_output=False, preserve_order=False, actor_locality_enabled=True, verbose_progress=False)\n",
      "\u001b[36m(XGBoostTrainer pid=47994)\u001b[0m Tip: For detailed progress reporting, run `ray.data.DataContext.get_current().execution_options.verbose_progress = True`\n"
     ]
    },
    {
     "data": {
      "application/vnd.jupyter.widget-view+json": {
       "model_id": "d9e0ae92b4c247bda3bae981d6f8b1a4",
       "version_major": 2,
       "version_minor": 0
      },
      "text/plain": [
       "(pid=47994) - Repartition 1:   0%|          | 0/5 [00:00<?, ?it/s]"
      ]
     },
     "metadata": {},
     "output_type": "display_data"
    },
    {
     "data": {
      "application/vnd.jupyter.widget-view+json": {
       "model_id": "3fbcfc440b264e3484a0a4c9d7343441",
       "version_major": 2,
       "version_minor": 0
      },
      "text/plain": [
       "(pid=47994) Split Repartition 2:   0%|          | 0/5 [00:00<?, ?it/s]"
      ]
     },
     "metadata": {},
     "output_type": "display_data"
    },
    {
     "data": {
      "application/vnd.jupyter.widget-view+json": {
       "model_id": "83a895f15d4b42918d712c8fe05e1014",
       "version_major": 2,
       "version_minor": 0
      },
      "text/plain": [
       "(pid=47994) Running 0:   0%|          | 0/5 [00:00<?, ?it/s]"
      ]
     },
     "metadata": {},
     "output_type": "display_data"
    },
    {
     "name": "stderr",
     "output_type": "stream",
     "text": [
      "\u001b[36m(XGBoostTrainer pid=47994)\u001b[0m Executing DAG InputDataBuffer[Input] -> AllToAllOperator[Repartition] -> TaskPoolMapOperator[MapBatches(preprocess)->Filter(filter_outliers)->MapBatches(StandardScaler.transform_batch)]\n",
      "\u001b[36m(XGBoostTrainer pid=47994)\u001b[0m Execution config: ExecutionOptions(resource_limits=ExecutionResources(cpu=None, gpu=None, object_store_memory=None), locality_with_output=False, preserve_order=False, actor_locality_enabled=True, verbose_progress=False)\n",
      "\u001b[36m(XGBoostTrainer pid=47994)\u001b[0m Tip: For detailed progress reporting, run `ray.data.DataContext.get_current().execution_options.verbose_progress = True`\n"
     ]
    },
    {
     "data": {
      "application/vnd.jupyter.widget-view+json": {
       "model_id": "4b2cb9e2ac3441dea4ae1a419e541ea8",
       "version_major": 2,
       "version_minor": 0
      },
      "text/plain": [
       "(pid=47994) - Repartition 1:   0%|          | 0/5 [00:00<?, ?it/s]"
      ]
     },
     "metadata": {},
     "output_type": "display_data"
    },
    {
     "data": {
      "application/vnd.jupyter.widget-view+json": {
       "model_id": "19a3ea11e248489083eafd0b7755cc41",
       "version_major": 2,
       "version_minor": 0
      },
      "text/plain": [
       "(pid=47994) Split Repartition 2:   0%|          | 0/5 [00:00<?, ?it/s]"
      ]
     },
     "metadata": {},
     "output_type": "display_data"
    },
    {
     "data": {
      "application/vnd.jupyter.widget-view+json": {
       "model_id": "3cb10f386d0f43bca8d0fed912b51ce0",
       "version_major": 2,
       "version_minor": 0
      },
      "text/plain": [
       "(pid=47994) Running 0:   0%|          | 0/5 [00:00<?, ?it/s]"
      ]
     },
     "metadata": {},
     "output_type": "display_data"
    },
    {
     "name": "stderr",
     "output_type": "stream",
     "text": [
      "\u001b[36m(XGBoostTrainer pid=47994)\u001b[0m [RayXGBoost] Starting XGBoost training.\n",
      "\u001b[36m(_RemoteRayXGBoostActor pid=47999)\u001b[0m [02:39:42] task [xgboost.ray]:4831331040 got new rank 2\n",
      "\u001b[36m(XGBoostTrainer pid=47994)\u001b[0m [RayXGBoost] Finished XGBoost training on training data with total N=2,090,270 in 232.29 seconds (12.26 pure XGBoost training time).\n",
      "\u001b[36m(_RemoteRayXGBoostActor pid=48001)\u001b[0m [02:39:42] task [xgboost.ray]:5072769760 got new rank 4\u001b[32m [repeated 4x across cluster]\u001b[0m\n",
      "\u001b[36m(XGBoostTrainer pid=47994)\u001b[0m Checkpoint successfully created at: Checkpoint(filesystem=local, path=/Users/particle1331/ray_results/XGBoostTrainer_2023-12-12_01-36-08/XGBoostTrainer_c4ec6_00002_2_eta=0.2392,max_depth=4,min_child_weight=0.9353_2023-12-12_01-36-08/checkpoint_000000)\n",
      "\u001b[36m(XGBoostTrainer pid=48050)\u001b[0m [RayXGBoost] Created 5 new actors (5 total actors). Waiting until actors are ready for training.\n",
      "\u001b[36m(XGBoostTrainer pid=48050)\u001b[0m Executing DAG InputDataBuffer[Input] -> AllToAllOperator[Repartition] -> TaskPoolMapOperator[MapBatches(preprocess)->Filter(filter_outliers)->MapBatches(StandardScaler.transform_batch)]\n",
      "\u001b[36m(XGBoostTrainer pid=48050)\u001b[0m Execution config: ExecutionOptions(resource_limits=ExecutionResources(cpu=None, gpu=None, object_store_memory=None), locality_with_output=False, preserve_order=False, actor_locality_enabled=True, verbose_progress=False)\n",
      "\u001b[36m(XGBoostTrainer pid=48050)\u001b[0m Tip: For detailed progress reporting, run `ray.data.DataContext.get_current().execution_options.verbose_progress = True`\n"
     ]
    },
    {
     "data": {
      "application/vnd.jupyter.widget-view+json": {
       "model_id": "569c6c3a3cbb464c871cffdec932a0a5",
       "version_major": 2,
       "version_minor": 0
      },
      "text/plain": [
       "(pid=48050) - Repartition 1:   0%|          | 0/5 [00:00<?, ?it/s]"
      ]
     },
     "metadata": {},
     "output_type": "display_data"
    },
    {
     "data": {
      "application/vnd.jupyter.widget-view+json": {
       "model_id": "9956ef16d49d4708896059ecb889a069",
       "version_major": 2,
       "version_minor": 0
      },
      "text/plain": [
       "(pid=48050) Split Repartition 2:   0%|          | 0/5 [00:00<?, ?it/s]"
      ]
     },
     "metadata": {},
     "output_type": "display_data"
    },
    {
     "data": {
      "application/vnd.jupyter.widget-view+json": {
       "model_id": "564007b0e1a84bd5abecc5b95c6cf9d9",
       "version_major": 2,
       "version_minor": 0
      },
      "text/plain": [
       "(pid=48050) Running 0:   0%|          | 0/5 [00:00<?, ?it/s]"
      ]
     },
     "metadata": {},
     "output_type": "display_data"
    },
    {
     "name": "stderr",
     "output_type": "stream",
     "text": [
      "\u001b[36m(XGBoostTrainer pid=48050)\u001b[0m Executing DAG InputDataBuffer[Input] -> AllToAllOperator[Repartition] -> TaskPoolMapOperator[MapBatches(preprocess)->Filter(filter_outliers)->MapBatches(StandardScaler.transform_batch)]\n",
      "\u001b[36m(XGBoostTrainer pid=48050)\u001b[0m Execution config: ExecutionOptions(resource_limits=ExecutionResources(cpu=None, gpu=None, object_store_memory=None), locality_with_output=False, preserve_order=False, actor_locality_enabled=True, verbose_progress=False)\n",
      "\u001b[36m(XGBoostTrainer pid=48050)\u001b[0m Tip: For detailed progress reporting, run `ray.data.DataContext.get_current().execution_options.verbose_progress = True`\n"
     ]
    },
    {
     "data": {
      "application/vnd.jupyter.widget-view+json": {
       "model_id": "1f8b49a14526427b9a16abbb2303c8b8",
       "version_major": 2,
       "version_minor": 0
      },
      "text/plain": [
       "(pid=48050) - Repartition 1:   0%|          | 0/5 [00:00<?, ?it/s]"
      ]
     },
     "metadata": {},
     "output_type": "display_data"
    },
    {
     "data": {
      "application/vnd.jupyter.widget-view+json": {
       "model_id": "b59270499828475698a002380917dab8",
       "version_major": 2,
       "version_minor": 0
      },
      "text/plain": [
       "(pid=48050) Split Repartition 2:   0%|          | 0/5 [00:00<?, ?it/s]"
      ]
     },
     "metadata": {},
     "output_type": "display_data"
    },
    {
     "data": {
      "application/vnd.jupyter.widget-view+json": {
       "model_id": "ff8b469e27d24cb9af9aaaa0f5bc3f48",
       "version_major": 2,
       "version_minor": 0
      },
      "text/plain": [
       "(pid=48050) Running 0:   0%|          | 0/5 [00:00<?, ?it/s]"
      ]
     },
     "metadata": {},
     "output_type": "display_data"
    },
    {
     "name": "stderr",
     "output_type": "stream",
     "text": [
      "\u001b[36m(XGBoostTrainer pid=48050)\u001b[0m [RayXGBoost] Starting XGBoost training.\n",
      "\u001b[36m(_RemoteRayXGBoostActor pid=48053)\u001b[0m [02:43:33] task [xgboost.ray]:4954010576 got new rank 0\n",
      "\u001b[36m(XGBoostTrainer pid=48050)\u001b[0m [RayXGBoost] Finished XGBoost training on training data with total N=2,090,270 in 230.15 seconds (13.78 pure XGBoost training time).\n",
      "\u001b[36m(XGBoostTrainer pid=48050)\u001b[0m Checkpoint successfully created at: Checkpoint(filesystem=local, path=/Users/particle1331/ray_results/XGBoostTrainer_2023-12-12_01-36-08/XGBoostTrainer_c4ec6_00003_3_eta=0.2306,max_depth=1,min_child_weight=0.9602_2023-12-12_01-36-08/checkpoint_000000)\n",
      "\u001b[36m(_RemoteRayXGBoostActor pid=48055)\u001b[0m [02:43:33] task [xgboost.ray]:4962665424 got new rank 2\u001b[32m [repeated 4x across cluster]\u001b[0m\n",
      "\u001b[36m(XGBoostTrainer pid=48129)\u001b[0m [RayXGBoost] Created 5 new actors (5 total actors). Waiting until actors are ready for training.\n",
      "\u001b[36m(XGBoostTrainer pid=48129)\u001b[0m Executing DAG InputDataBuffer[Input] -> AllToAllOperator[Repartition] -> TaskPoolMapOperator[MapBatches(preprocess)->Filter(filter_outliers)->MapBatches(StandardScaler.transform_batch)]\n",
      "\u001b[36m(XGBoostTrainer pid=48129)\u001b[0m Execution config: ExecutionOptions(resource_limits=ExecutionResources(cpu=None, gpu=None, object_store_memory=None), locality_with_output=False, preserve_order=False, actor_locality_enabled=True, verbose_progress=False)\n",
      "\u001b[36m(XGBoostTrainer pid=48129)\u001b[0m Tip: For detailed progress reporting, run `ray.data.DataContext.get_current().execution_options.verbose_progress = True`\n"
     ]
    },
    {
     "data": {
      "application/vnd.jupyter.widget-view+json": {
       "model_id": "1ca7819245ea4d88a44c6d8fa6b49e79",
       "version_major": 2,
       "version_minor": 0
      },
      "text/plain": [
       "(pid=48129) - Repartition 1:   0%|          | 0/5 [00:00<?, ?it/s]"
      ]
     },
     "metadata": {},
     "output_type": "display_data"
    },
    {
     "data": {
      "application/vnd.jupyter.widget-view+json": {
       "model_id": "68abfffeaa8e428588a7ee4620af915d",
       "version_major": 2,
       "version_minor": 0
      },
      "text/plain": [
       "(pid=48129) Split Repartition 2:   0%|          | 0/5 [00:00<?, ?it/s]"
      ]
     },
     "metadata": {},
     "output_type": "display_data"
    },
    {
     "data": {
      "application/vnd.jupyter.widget-view+json": {
       "model_id": "fcb8485f5e3e450880083ed9a56ae7b1",
       "version_major": 2,
       "version_minor": 0
      },
      "text/plain": [
       "(pid=48129) Running 0:   0%|          | 0/5 [00:00<?, ?it/s]"
      ]
     },
     "metadata": {},
     "output_type": "display_data"
    },
    {
     "name": "stderr",
     "output_type": "stream",
     "text": [
      "\u001b[36m(XGBoostTrainer pid=48129)\u001b[0m Executing DAG InputDataBuffer[Input] -> AllToAllOperator[Repartition] -> TaskPoolMapOperator[MapBatches(preprocess)->Filter(filter_outliers)->MapBatches(StandardScaler.transform_batch)]\n",
      "\u001b[36m(XGBoostTrainer pid=48129)\u001b[0m Execution config: ExecutionOptions(resource_limits=ExecutionResources(cpu=None, gpu=None, object_store_memory=None), locality_with_output=False, preserve_order=False, actor_locality_enabled=True, verbose_progress=False)\n",
      "\u001b[36m(XGBoostTrainer pid=48129)\u001b[0m Tip: For detailed progress reporting, run `ray.data.DataContext.get_current().execution_options.verbose_progress = True`\n"
     ]
    },
    {
     "data": {
      "application/vnd.jupyter.widget-view+json": {
       "model_id": "bb9ca5adc80d4bfab40b5c80ae15d477",
       "version_major": 2,
       "version_minor": 0
      },
      "text/plain": [
       "(pid=48129) - Repartition 1:   0%|          | 0/5 [00:00<?, ?it/s]"
      ]
     },
     "metadata": {},
     "output_type": "display_data"
    },
    {
     "data": {
      "application/vnd.jupyter.widget-view+json": {
       "model_id": "261fdac9dccf48c6a97025defc1d53a5",
       "version_major": 2,
       "version_minor": 0
      },
      "text/plain": [
       "(pid=48129) Split Repartition 2:   0%|          | 0/5 [00:00<?, ?it/s]"
      ]
     },
     "metadata": {},
     "output_type": "display_data"
    },
    {
     "data": {
      "application/vnd.jupyter.widget-view+json": {
       "model_id": "171a2f497aad439ea100a1655157ee26",
       "version_major": 2,
       "version_minor": 0
      },
      "text/plain": [
       "(pid=48129) Running 0:   0%|          | 0/5 [00:00<?, ?it/s]"
      ]
     },
     "metadata": {},
     "output_type": "display_data"
    },
    {
     "name": "stderr",
     "output_type": "stream",
     "text": [
      "\u001b[36m(XGBoostTrainer pid=48129)\u001b[0m [RayXGBoost] Starting XGBoost training.\n",
      "\u001b[36m(_RemoteRayXGBoostActor pid=48132)\u001b[0m [02:48:44] task [xgboost.ray]:5038396032 got new rank 0\n",
      "\u001b[36m(XGBoostTrainer pid=48129)\u001b[0m [RayXGBoost] Finished XGBoost training on training data with total N=2,090,270 in 319.31 seconds (25.77 pure XGBoost training time).\n",
      "\u001b[36m(XGBoostTrainer pid=48129)\u001b[0m Checkpoint successfully created at: Checkpoint(filesystem=local, path=/Users/particle1331/ray_results/XGBoostTrainer_2023-12-12_01-36-08/XGBoostTrainer_c4ec6_00004_4_eta=0.2045,max_depth=4,min_child_weight=0.9268_2023-12-12_01-36-08/checkpoint_000000)\n",
      "\u001b[36m(_RemoteRayXGBoostActor pid=48133)\u001b[0m [02:48:44] task [xgboost.ray]:5000639440 got new rank 1\u001b[32m [repeated 4x across cluster]\u001b[0m\n",
      "\u001b[36m(XGBoostTrainer pid=48302)\u001b[0m [RayXGBoost] Created 5 new actors (5 total actors). Waiting until actors are ready for training.\n",
      "\u001b[36m(XGBoostTrainer pid=48302)\u001b[0m Executing DAG InputDataBuffer[Input] -> AllToAllOperator[Repartition] -> TaskPoolMapOperator[MapBatches(preprocess)->Filter(filter_outliers)->MapBatches(StandardScaler.transform_batch)]\n",
      "\u001b[36m(XGBoostTrainer pid=48302)\u001b[0m Execution config: ExecutionOptions(resource_limits=ExecutionResources(cpu=None, gpu=None, object_store_memory=None), locality_with_output=False, preserve_order=False, actor_locality_enabled=True, verbose_progress=False)\n",
      "\u001b[36m(XGBoostTrainer pid=48302)\u001b[0m Tip: For detailed progress reporting, run `ray.data.DataContext.get_current().execution_options.verbose_progress = True`\n"
     ]
    },
    {
     "data": {
      "application/vnd.jupyter.widget-view+json": {
       "model_id": "01ded738f1214b419d6511809d528d36",
       "version_major": 2,
       "version_minor": 0
      },
      "text/plain": [
       "(pid=48302) - Repartition 1:   0%|          | 0/5 [00:00<?, ?it/s]"
      ]
     },
     "metadata": {},
     "output_type": "display_data"
    },
    {
     "data": {
      "application/vnd.jupyter.widget-view+json": {
       "model_id": "c361a921e2c5436b89b7234fbb5f797e",
       "version_major": 2,
       "version_minor": 0
      },
      "text/plain": [
       "(pid=48302) Split Repartition 2:   0%|          | 0/5 [00:00<?, ?it/s]"
      ]
     },
     "metadata": {},
     "output_type": "display_data"
    },
    {
     "data": {
      "application/vnd.jupyter.widget-view+json": {
       "model_id": "72bde7fe3fe64685960e0e43e74d1b96",
       "version_major": 2,
       "version_minor": 0
      },
      "text/plain": [
       "(pid=48302) Running 0:   0%|          | 0/5 [00:00<?, ?it/s]"
      ]
     },
     "metadata": {},
     "output_type": "display_data"
    },
    {
     "name": "stderr",
     "output_type": "stream",
     "text": [
      "\u001b[36m(XGBoostTrainer pid=48302)\u001b[0m Executing DAG InputDataBuffer[Input] -> AllToAllOperator[Repartition] -> TaskPoolMapOperator[MapBatches(preprocess)->Filter(filter_outliers)->MapBatches(StandardScaler.transform_batch)]\n",
      "\u001b[36m(XGBoostTrainer pid=48302)\u001b[0m Execution config: ExecutionOptions(resource_limits=ExecutionResources(cpu=None, gpu=None, object_store_memory=None), locality_with_output=False, preserve_order=False, actor_locality_enabled=True, verbose_progress=False)\n",
      "\u001b[36m(XGBoostTrainer pid=48302)\u001b[0m Tip: For detailed progress reporting, run `ray.data.DataContext.get_current().execution_options.verbose_progress = True`\n"
     ]
    },
    {
     "data": {
      "application/vnd.jupyter.widget-view+json": {
       "model_id": "24d991634611405a80ac79e6bd2cc6dd",
       "version_major": 2,
       "version_minor": 0
      },
      "text/plain": [
       "(pid=48302) - Repartition 1:   0%|          | 0/5 [00:00<?, ?it/s]"
      ]
     },
     "metadata": {},
     "output_type": "display_data"
    },
    {
     "data": {
      "application/vnd.jupyter.widget-view+json": {
       "model_id": "7a45c466765749ab925ba544430a5436",
       "version_major": 2,
       "version_minor": 0
      },
      "text/plain": [
       "(pid=48302) Split Repartition 2:   0%|          | 0/5 [00:00<?, ?it/s]"
      ]
     },
     "metadata": {},
     "output_type": "display_data"
    },
    {
     "data": {
      "application/vnd.jupyter.widget-view+json": {
       "model_id": "9b330545b50f4629959c4cc6da9ad71a",
       "version_major": 2,
       "version_minor": 0
      },
      "text/plain": [
       "(pid=48302) Running 0:   0%|          | 0/5 [00:00<?, ?it/s]"
      ]
     },
     "metadata": {},
     "output_type": "display_data"
    },
    {
     "name": "stderr",
     "output_type": "stream",
     "text": [
      "\u001b[36m(XGBoostTrainer pid=48302)\u001b[0m [RayXGBoost] Starting XGBoost training.\n",
      "\u001b[36m(_RemoteRayXGBoostActor pid=48305)\u001b[0m [02:55:35] task [xgboost.ray]:5135946800 got new rank 0\n",
      "\u001b[36m(XGBoostTrainer pid=48302)\u001b[0m [RayXGBoost] Finished XGBoost training on training data with total N=2,090,270 in 404.10 seconds (23.21 pure XGBoost training time).\n",
      "\u001b[36m(XGBoostTrainer pid=48302)\u001b[0m Checkpoint successfully created at: Checkpoint(filesystem=local, path=/Users/particle1331/ray_results/XGBoostTrainer_2023-12-12_01-36-08/XGBoostTrainer_c4ec6_00005_5_eta=0.3567,max_depth=4,min_child_weight=0.9291_2023-12-12_01-36-08/checkpoint_000000)\n",
      "\u001b[36m(_RemoteRayXGBoostActor pid=48308)\u001b[0m [02:55:35] task [xgboost.ray]:5826540496 got new rank 3\u001b[32m [repeated 4x across cluster]\u001b[0m\n",
      "\u001b[36m(XGBoostTrainer pid=48441)\u001b[0m [RayXGBoost] Created 5 new actors (5 total actors). Waiting until actors are ready for training.\n",
      "\u001b[36m(XGBoostTrainer pid=48441)\u001b[0m Executing DAG InputDataBuffer[Input] -> AllToAllOperator[Repartition] -> TaskPoolMapOperator[MapBatches(preprocess)->Filter(filter_outliers)->MapBatches(StandardScaler.transform_batch)]\n",
      "\u001b[36m(XGBoostTrainer pid=48441)\u001b[0m Execution config: ExecutionOptions(resource_limits=ExecutionResources(cpu=None, gpu=None, object_store_memory=None), locality_with_output=False, preserve_order=False, actor_locality_enabled=True, verbose_progress=False)\n",
      "\u001b[36m(XGBoostTrainer pid=48441)\u001b[0m Tip: For detailed progress reporting, run `ray.data.DataContext.get_current().execution_options.verbose_progress = True`\n"
     ]
    },
    {
     "data": {
      "application/vnd.jupyter.widget-view+json": {
       "model_id": "accc05b67eec47ad8a835a76677ef24c",
       "version_major": 2,
       "version_minor": 0
      },
      "text/plain": [
       "(pid=48441) - Repartition 1:   0%|          | 0/5 [00:00<?, ?it/s]"
      ]
     },
     "metadata": {},
     "output_type": "display_data"
    },
    {
     "data": {
      "application/vnd.jupyter.widget-view+json": {
       "model_id": "d1a0fb11cc6743b49795eec0e0f6751f",
       "version_major": 2,
       "version_minor": 0
      },
      "text/plain": [
       "(pid=48441) Split Repartition 2:   0%|          | 0/5 [00:00<?, ?it/s]"
      ]
     },
     "metadata": {},
     "output_type": "display_data"
    },
    {
     "data": {
      "application/vnd.jupyter.widget-view+json": {
       "model_id": "6524fa15f9d04422a06f28c84a2a8ac9",
       "version_major": 2,
       "version_minor": 0
      },
      "text/plain": [
       "(pid=48441) Running 0:   0%|          | 0/5 [00:00<?, ?it/s]"
      ]
     },
     "metadata": {},
     "output_type": "display_data"
    },
    {
     "name": "stderr",
     "output_type": "stream",
     "text": [
      "\u001b[36m(XGBoostTrainer pid=48441)\u001b[0m Executing DAG InputDataBuffer[Input] -> AllToAllOperator[Repartition] -> TaskPoolMapOperator[MapBatches(preprocess)->Filter(filter_outliers)->MapBatches(StandardScaler.transform_batch)]\n",
      "\u001b[36m(XGBoostTrainer pid=48441)\u001b[0m Execution config: ExecutionOptions(resource_limits=ExecutionResources(cpu=None, gpu=None, object_store_memory=None), locality_with_output=False, preserve_order=False, actor_locality_enabled=True, verbose_progress=False)\n",
      "\u001b[36m(XGBoostTrainer pid=48441)\u001b[0m Tip: For detailed progress reporting, run `ray.data.DataContext.get_current().execution_options.verbose_progress = True`\n"
     ]
    },
    {
     "data": {
      "application/vnd.jupyter.widget-view+json": {
       "model_id": "35474b37a6eb44f199c8f7724844c19a",
       "version_major": 2,
       "version_minor": 0
      },
      "text/plain": [
       "(pid=48441) - Repartition 1:   0%|          | 0/5 [00:00<?, ?it/s]"
      ]
     },
     "metadata": {},
     "output_type": "display_data"
    },
    {
     "data": {
      "application/vnd.jupyter.widget-view+json": {
       "model_id": "70869992adf24a9297dc18bb2d2a4f1d",
       "version_major": 2,
       "version_minor": 0
      },
      "text/plain": [
       "(pid=48441) Split Repartition 2:   0%|          | 0/5 [00:00<?, ?it/s]"
      ]
     },
     "metadata": {},
     "output_type": "display_data"
    },
    {
     "data": {
      "application/vnd.jupyter.widget-view+json": {
       "model_id": "7e7ad3803a374b37869aad8c1d4769e3",
       "version_major": 2,
       "version_minor": 0
      },
      "text/plain": [
       "(pid=48441) Running 0:   0%|          | 0/5 [00:00<?, ?it/s]"
      ]
     },
     "metadata": {},
     "output_type": "display_data"
    },
    {
     "name": "stderr",
     "output_type": "stream",
     "text": [
      "\u001b[36m(XGBoostTrainer pid=48441)\u001b[0m [RayXGBoost] Starting XGBoost training.\n",
      "\u001b[36m(_RemoteRayXGBoostActor pid=48444)\u001b[0m [03:02:15] task [xgboost.ray]:5173171152 got new rank 0\n",
      "\u001b[36m(XGBoostTrainer pid=48441)\u001b[0m [RayXGBoost] Finished XGBoost training on training data with total N=2,090,270 in 394.12 seconds (21.50 pure XGBoost training time).\n",
      "\u001b[36m(XGBoostTrainer pid=48441)\u001b[0m Checkpoint successfully created at: Checkpoint(filesystem=local, path=/Users/particle1331/ray_results/XGBoostTrainer_2023-12-12_01-36-08/XGBoostTrainer_c4ec6_00006_6_eta=0.2526,max_depth=3,min_child_weight=0.8288_2023-12-12_01-36-08/checkpoint_000000)\n",
      "\u001b[36m(_RemoteRayXGBoostActor pid=48447)\u001b[0m [03:02:15] task [xgboost.ray]:5144761296 got new rank 3\u001b[32m [repeated 4x across cluster]\u001b[0m\n",
      "\u001b[36m(XGBoostTrainer pid=48773)\u001b[0m [RayXGBoost] Created 5 new actors (5 total actors). Waiting until actors are ready for training.\n",
      "\u001b[36m(XGBoostTrainer pid=48773)\u001b[0m Executing DAG InputDataBuffer[Input] -> AllToAllOperator[Repartition] -> TaskPoolMapOperator[MapBatches(preprocess)->Filter(filter_outliers)->MapBatches(StandardScaler.transform_batch)]\n",
      "\u001b[36m(XGBoostTrainer pid=48773)\u001b[0m Execution config: ExecutionOptions(resource_limits=ExecutionResources(cpu=None, gpu=None, object_store_memory=None), locality_with_output=False, preserve_order=False, actor_locality_enabled=True, verbose_progress=False)\n",
      "\u001b[36m(XGBoostTrainer pid=48773)\u001b[0m Tip: For detailed progress reporting, run `ray.data.DataContext.get_current().execution_options.verbose_progress = True`\n"
     ]
    },
    {
     "data": {
      "application/vnd.jupyter.widget-view+json": {
       "model_id": "9b0a49e9405649839c219d69cd5c2383",
       "version_major": 2,
       "version_minor": 0
      },
      "text/plain": [
       "(pid=48773) - Repartition 1:   0%|          | 0/5 [00:00<?, ?it/s]"
      ]
     },
     "metadata": {},
     "output_type": "display_data"
    },
    {
     "data": {
      "application/vnd.jupyter.widget-view+json": {
       "model_id": "346c6b3982924e8bab0dd4a98b57e272",
       "version_major": 2,
       "version_minor": 0
      },
      "text/plain": [
       "(pid=48773) Split Repartition 2:   0%|          | 0/5 [00:00<?, ?it/s]"
      ]
     },
     "metadata": {},
     "output_type": "display_data"
    },
    {
     "data": {
      "application/vnd.jupyter.widget-view+json": {
       "model_id": "9051fdeac6db48c6804e86062a31e581",
       "version_major": 2,
       "version_minor": 0
      },
      "text/plain": [
       "(pid=48773) Running 0:   0%|          | 0/5 [00:00<?, ?it/s]"
      ]
     },
     "metadata": {},
     "output_type": "display_data"
    },
    {
     "name": "stderr",
     "output_type": "stream",
     "text": [
      "\u001b[36m(XGBoostTrainer pid=48773)\u001b[0m Executing DAG InputDataBuffer[Input] -> AllToAllOperator[Repartition] -> TaskPoolMapOperator[MapBatches(preprocess)->Filter(filter_outliers)->MapBatches(StandardScaler.transform_batch)]\n",
      "\u001b[36m(XGBoostTrainer pid=48773)\u001b[0m Execution config: ExecutionOptions(resource_limits=ExecutionResources(cpu=None, gpu=None, object_store_memory=None), locality_with_output=False, preserve_order=False, actor_locality_enabled=True, verbose_progress=False)\n",
      "\u001b[36m(XGBoostTrainer pid=48773)\u001b[0m Tip: For detailed progress reporting, run `ray.data.DataContext.get_current().execution_options.verbose_progress = True`\n"
     ]
    },
    {
     "data": {
      "application/vnd.jupyter.widget-view+json": {
       "model_id": "9a777f4d4168425a92ad8c67c37861d7",
       "version_major": 2,
       "version_minor": 0
      },
      "text/plain": [
       "(pid=48773) - Repartition 1:   0%|          | 0/5 [00:00<?, ?it/s]"
      ]
     },
     "metadata": {},
     "output_type": "display_data"
    },
    {
     "data": {
      "application/vnd.jupyter.widget-view+json": {
       "model_id": "0d8b871190194f69ae4067313c78df01",
       "version_major": 2,
       "version_minor": 0
      },
      "text/plain": [
       "(pid=48773) Split Repartition 2:   0%|          | 0/5 [00:00<?, ?it/s]"
      ]
     },
     "metadata": {},
     "output_type": "display_data"
    },
    {
     "data": {
      "application/vnd.jupyter.widget-view+json": {
       "model_id": "03c491d191134cfe85d52aefe71e1b27",
       "version_major": 2,
       "version_minor": 0
      },
      "text/plain": [
       "(pid=48773) Running 0:   0%|          | 0/5 [00:00<?, ?it/s]"
      ]
     },
     "metadata": {},
     "output_type": "display_data"
    },
    {
     "name": "stderr",
     "output_type": "stream",
     "text": [
      "\u001b[36m(XGBoostTrainer pid=48773)\u001b[0m [RayXGBoost] Starting XGBoost training.\n",
      "\u001b[36m(_RemoteRayXGBoostActor pid=48776)\u001b[0m [03:08:59] task [xgboost.ray]:5098984160 got new rank 0\n",
      "\u001b[36m(XGBoostTrainer pid=48773)\u001b[0m [RayXGBoost] Finished XGBoost training on training data with total N=2,090,270 in 401.73 seconds (23.77 pure XGBoost training time).\n",
      "\u001b[36m(XGBoostTrainer pid=48773)\u001b[0m Checkpoint successfully created at: Checkpoint(filesystem=local, path=/Users/particle1331/ray_results/XGBoostTrainer_2023-12-12_01-36-08/XGBoostTrainer_c4ec6_00007_7_eta=0.2760,max_depth=3,min_child_weight=0.8853_2023-12-12_01-36-08/checkpoint_000000)\n",
      "\u001b[36m(_RemoteRayXGBoostActor pid=48779)\u001b[0m [03:08:59] task [xgboost.ray]:5833770032 got new rank 3\u001b[32m [repeated 4x across cluster]\u001b[0m\n",
      "\u001b[36m(XGBoostTrainer pid=49061)\u001b[0m [RayXGBoost] Created 5 new actors (5 total actors). Waiting until actors are ready for training.\n",
      "\u001b[36m(XGBoostTrainer pid=49061)\u001b[0m Executing DAG InputDataBuffer[Input] -> AllToAllOperator[Repartition] -> TaskPoolMapOperator[MapBatches(preprocess)->Filter(filter_outliers)->MapBatches(StandardScaler.transform_batch)]\n",
      "\u001b[36m(XGBoostTrainer pid=49061)\u001b[0m Execution config: ExecutionOptions(resource_limits=ExecutionResources(cpu=None, gpu=None, object_store_memory=None), locality_with_output=False, preserve_order=False, actor_locality_enabled=True, verbose_progress=False)\n",
      "\u001b[36m(XGBoostTrainer pid=49061)\u001b[0m Tip: For detailed progress reporting, run `ray.data.DataContext.get_current().execution_options.verbose_progress = True`\n"
     ]
    },
    {
     "data": {
      "application/vnd.jupyter.widget-view+json": {
       "model_id": "06bc6f01987f4b2299c5ebae4ecbd6a7",
       "version_major": 2,
       "version_minor": 0
      },
      "text/plain": [
       "(pid=49061) - Repartition 1:   0%|          | 0/5 [00:00<?, ?it/s]"
      ]
     },
     "metadata": {},
     "output_type": "display_data"
    },
    {
     "data": {
      "application/vnd.jupyter.widget-view+json": {
       "model_id": "490ec225a9784fe4af0475fc2148d337",
       "version_major": 2,
       "version_minor": 0
      },
      "text/plain": [
       "(pid=49061) Split Repartition 2:   0%|          | 0/5 [00:00<?, ?it/s]"
      ]
     },
     "metadata": {},
     "output_type": "display_data"
    },
    {
     "data": {
      "application/vnd.jupyter.widget-view+json": {
       "model_id": "40239f9ef9b14c09858b8db1e19296c7",
       "version_major": 2,
       "version_minor": 0
      },
      "text/plain": [
       "(pid=49061) Running 0:   0%|          | 0/5 [00:00<?, ?it/s]"
      ]
     },
     "metadata": {},
     "output_type": "display_data"
    },
    {
     "name": "stderr",
     "output_type": "stream",
     "text": [
      "\u001b[36m(XGBoostTrainer pid=49061)\u001b[0m Executing DAG InputDataBuffer[Input] -> AllToAllOperator[Repartition] -> TaskPoolMapOperator[MapBatches(preprocess)->Filter(filter_outliers)->MapBatches(StandardScaler.transform_batch)]\n",
      "\u001b[36m(XGBoostTrainer pid=49061)\u001b[0m Execution config: ExecutionOptions(resource_limits=ExecutionResources(cpu=None, gpu=None, object_store_memory=None), locality_with_output=False, preserve_order=False, actor_locality_enabled=True, verbose_progress=False)\n",
      "\u001b[36m(XGBoostTrainer pid=49061)\u001b[0m Tip: For detailed progress reporting, run `ray.data.DataContext.get_current().execution_options.verbose_progress = True`\n"
     ]
    },
    {
     "data": {
      "application/vnd.jupyter.widget-view+json": {
       "model_id": "0abb97bfb30d4929beb58a9ac67e68a8",
       "version_major": 2,
       "version_minor": 0
      },
      "text/plain": [
       "(pid=49061) - Repartition 1:   0%|          | 0/5 [00:00<?, ?it/s]"
      ]
     },
     "metadata": {},
     "output_type": "display_data"
    },
    {
     "data": {
      "application/vnd.jupyter.widget-view+json": {
       "model_id": "619d34014bf840d59abcf954cd8f0375",
       "version_major": 2,
       "version_minor": 0
      },
      "text/plain": [
       "(pid=49061) Split Repartition 2:   0%|          | 0/5 [00:00<?, ?it/s]"
      ]
     },
     "metadata": {},
     "output_type": "display_data"
    },
    {
     "data": {
      "application/vnd.jupyter.widget-view+json": {
       "model_id": "495713b6490941cfaa1558479e132ec0",
       "version_major": 2,
       "version_minor": 0
      },
      "text/plain": [
       "(pid=49061) Running 0:   0%|          | 0/5 [00:00<?, ?it/s]"
      ]
     },
     "metadata": {},
     "output_type": "display_data"
    },
    {
     "name": "stderr",
     "output_type": "stream",
     "text": [
      "\u001b[36m(XGBoostTrainer pid=49061)\u001b[0m [RayXGBoost] Starting XGBoost training.\n",
      "\u001b[36m(_RemoteRayXGBoostActor pid=49068)\u001b[0m [03:15:35] task [xgboost.ray]:5165964736 got new rank 3\n",
      "\u001b[36m(XGBoostTrainer pid=49061)\u001b[0m [RayXGBoost] Finished XGBoost training on training data with total N=2,090,270 in 391.39 seconds (22.58 pure XGBoost training time).\n",
      "\u001b[36m(_RemoteRayXGBoostActor pid=49065)\u001b[0m [03:15:35] task [xgboost.ray]:5230113840 got new rank 0\u001b[32m [repeated 4x across cluster]\u001b[0m\n",
      "\u001b[36m(XGBoostTrainer pid=49061)\u001b[0m Checkpoint successfully created at: Checkpoint(filesystem=local, path=/Users/particle1331/ray_results/XGBoostTrainer_2023-12-12_01-36-08/XGBoostTrainer_c4ec6_00008_8_eta=0.2640,max_depth=3,min_child_weight=0.9515_2023-12-12_01-36-08/checkpoint_000000)\n"
     ]
    },
    {
     "data": {
      "application/vnd.jupyter.widget-view+json": {
       "model_id": "a73bcf195c6b4b13926aaf7c47780799",
       "version_major": 2,
       "version_minor": 0
      },
      "text/plain": [
       "(pid=49143) - Repartition 1:   0%|          | 0/5 [00:00<?, ?it/s]"
      ]
     },
     "metadata": {},
     "output_type": "display_data"
    },
    {
     "data": {
      "application/vnd.jupyter.widget-view+json": {
       "model_id": "ff423eeca63141f38803ae4ad5e57f1a",
       "version_major": 2,
       "version_minor": 0
      },
      "text/plain": [
       "(pid=49143) Split Repartition 2:   0%|          | 0/5 [00:00<?, ?it/s]"
      ]
     },
     "metadata": {},
     "output_type": "display_data"
    },
    {
     "data": {
      "application/vnd.jupyter.widget-view+json": {
       "model_id": "016b7b3b88be4984b0ae20cf2a25265c",
       "version_major": 2,
       "version_minor": 0
      },
      "text/plain": [
       "(pid=49143) Running 0:   0%|          | 0/5 [00:00<?, ?it/s]"
      ]
     },
     "metadata": {},
     "output_type": "display_data"
    },
    {
     "name": "stderr",
     "output_type": "stream",
     "text": [
      "\u001b[36m(XGBoostTrainer pid=49143)\u001b[0m [RayXGBoost] Created 5 new actors (5 total actors). Waiting until actors are ready for training.\n",
      "\u001b[36m(XGBoostTrainer pid=49143)\u001b[0m Executing DAG InputDataBuffer[Input] -> AllToAllOperator[Repartition] -> TaskPoolMapOperator[MapBatches(preprocess)->Filter(filter_outliers)->MapBatches(StandardScaler.transform_batch)]\n",
      "\u001b[36m(XGBoostTrainer pid=49143)\u001b[0m Execution config: ExecutionOptions(resource_limits=ExecutionResources(cpu=None, gpu=None, object_store_memory=None), locality_with_output=False, preserve_order=False, actor_locality_enabled=True, verbose_progress=False)\n",
      "\u001b[36m(XGBoostTrainer pid=49143)\u001b[0m Tip: For detailed progress reporting, run `ray.data.DataContext.get_current().execution_options.verbose_progress = True`\n"
     ]
    },
    {
     "data": {
      "application/vnd.jupyter.widget-view+json": {
       "model_id": "2505c7f8fd844ff49096e68178099c31",
       "version_major": 2,
       "version_minor": 0
      },
      "text/plain": [
       "(pid=49143) - Repartition 1:   0%|          | 0/5 [00:00<?, ?it/s]"
      ]
     },
     "metadata": {},
     "output_type": "display_data"
    },
    {
     "data": {
      "application/vnd.jupyter.widget-view+json": {
       "model_id": "3c451b8a322f4160b2cdad229455b526",
       "version_major": 2,
       "version_minor": 0
      },
      "text/plain": [
       "(pid=49143) Split Repartition 2:   0%|          | 0/5 [00:00<?, ?it/s]"
      ]
     },
     "metadata": {},
     "output_type": "display_data"
    },
    {
     "data": {
      "application/vnd.jupyter.widget-view+json": {
       "model_id": "d30eac9c7f234b60a8d69ba718de4573",
       "version_major": 2,
       "version_minor": 0
      },
      "text/plain": [
       "(pid=49143) Running 0:   0%|          | 0/5 [00:00<?, ?it/s]"
      ]
     },
     "metadata": {},
     "output_type": "display_data"
    },
    {
     "name": "stderr",
     "output_type": "stream",
     "text": [
      "\u001b[36m(XGBoostTrainer pid=49143)\u001b[0m Executing DAG InputDataBuffer[Input] -> AllToAllOperator[Repartition] -> TaskPoolMapOperator[MapBatches(preprocess)->Filter(filter_outliers)->MapBatches(StandardScaler.transform_batch)]\n",
      "\u001b[36m(XGBoostTrainer pid=49143)\u001b[0m Execution config: ExecutionOptions(resource_limits=ExecutionResources(cpu=None, gpu=None, object_store_memory=None), locality_with_output=False, preserve_order=False, actor_locality_enabled=True, verbose_progress=False)\n",
      "\u001b[36m(XGBoostTrainer pid=49143)\u001b[0m Tip: For detailed progress reporting, run `ray.data.DataContext.get_current().execution_options.verbose_progress = True`\n",
      "\u001b[36m(XGBoostTrainer pid=49143)\u001b[0m [RayXGBoost] Starting XGBoost training.\n",
      "\u001b[36m(_RemoteRayXGBoostActor pid=49146)\u001b[0m [03:22:15] task [xgboost.ray]:5097673536 got new rank 0\n",
      "\u001b[36m(XGBoostTrainer pid=49143)\u001b[0m [RayXGBoost] Finished XGBoost training on training data with total N=2,090,270 in 398.07 seconds (24.42 pure XGBoost training time).\n",
      "\u001b[36m(_RemoteRayXGBoostActor pid=49147)\u001b[0m [03:22:15] task [xgboost.ray]:4983952432 got new rank 1\u001b[32m [repeated 4x across cluster]\u001b[0m\n",
      "\u001b[36m(XGBoostTrainer pid=49143)\u001b[0m Checkpoint successfully created at: Checkpoint(filesystem=local, path=/Users/particle1331/ray_results/XGBoostTrainer_2023-12-12_01-36-08/XGBoostTrainer_c4ec6_00009_9_eta=0.2696,max_depth=1,min_child_weight=0.9374_2023-12-12_01-36-09/checkpoint_000000)\n"
     ]
    }
   ],
   "source": [
    "from ray import tune\n",
    "from ray.tune.tuner import Tuner, TuneConfig\n",
    "\n",
    "# Define a search space of hyperparameters.\n",
    "param_space = {\n",
    "    \"params\": {\n",
    "        \"eta\": tune.uniform(0.2, 0.4), # learning rate\n",
    "        \"max_depth\": tune.randint(1, 6), # default=6; higher value means more complex tree\n",
    "        \"min_child_weight\": tune.uniform(0.8, 1.0), # min sum of weights of all data in a child\n",
    "    }\n",
    "}\n",
    "\n",
    "tuner = Tuner(\n",
    "    trainer,\n",
    "    param_space=param_space,\n",
    "    tune_config=TuneConfig(num_samples=10, metric=\"train-logloss\", mode=\"min\"),\n",
    ")\n",
    "\n",
    "result_grid = tuner.fit()\n"
   ]
  },
  {
   "cell_type": "code",
   "execution_count": null,
   "metadata": {},
   "outputs": [],
   "source": [
    "best_result = result_grid.get_best_result()"
   ]
  },
  {
   "cell_type": "code",
   "execution_count": null,
   "metadata": {},
   "outputs": [
    {
     "name": "stdout",
     "output_type": "stream",
     "text": [
      "Best result: \n",
      " Result(\n",
      "  metrics={'train-logloss': 0.6487370377047185, 'train-error': 0.37302835837283355, 'valid-logloss': 0.6449890203995228, 'valid-error': 0.3648641892112214, 'valid_filtered-logloss': 0.6449513726686686, 'valid_filtered-error': 0.36490438572596023},\n",
      "  path='/Users/particle1331/ray_results/XGBoostTrainer_2023-12-11_20-09-23/XGBoostTrainer_1f5d1_00002_2_eta=0.2718,max_depth=4,min_child_weight=0.8855_2023-12-11_20-09-23',\n",
      "  filesystem='local',\n",
      "  checkpoint=Checkpoint(filesystem=local, path=/Users/particle1331/ray_results/XGBoostTrainer_2023-12-11_20-09-23/XGBoostTrainer_1f5d1_00002_2_eta=0.2718,max_depth=4,min_child_weight=0.8855_2023-12-11_20-09-23/checkpoint_000000)\n",
      ") \n",
      "\n",
      "Training accuracy: 0.6270\n",
      "Validation accuracy: 0.6351\n"
     ]
    }
   ],
   "source": [
    "print(f\"Best result: \\n {best_result} \\n\")\n",
    "print(f\"Training accuracy: {1 - best_result.metrics['train-error']:.4f}\")\n",
    "print(f\"Validation accuracy: {1 - best_result.metrics['valid-error']:.4f}\")"
   ]
  },
  {
   "cell_type": "markdown",
   "metadata": {},
   "source": [
    "---"
   ]
  },
  {
   "cell_type": "markdown",
   "metadata": {},
   "source": [
    "■"
   ]
  }
 ],
 "metadata": {
  "kernelspec": {
   "display_name": "ai",
   "language": "python",
   "name": "python3"
  },
  "language_info": {
   "codemirror_mode": {
    "name": "ipython",
    "version": 3
   },
   "file_extension": ".py",
   "mimetype": "text/x-python",
   "name": "python",
   "nbconvert_exporter": "python",
   "pygments_lexer": "ipython3",
   "version": "3.9.15"
  }
 },
 "nbformat": 4,
 "nbformat_minor": 2
}
