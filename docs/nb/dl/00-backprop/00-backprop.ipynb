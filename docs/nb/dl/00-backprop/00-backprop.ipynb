{
 "cells": [
  {
   "attachments": {},
   "cell_type": "markdown",
   "id": "4f3215ae",
   "metadata": {
    "papermill": {
     "duration": 0.007425,
     "end_time": "2024-09-05T18:30:28.273914",
     "exception": false,
     "start_time": "2024-09-05T18:30:28.266489",
     "status": "completed"
    },
    "tags": []
   },
   "source": [
    "(00-backprop)=\n",
    "# Backpropagation"
   ]
  },
  {
   "attachments": {},
   "cell_type": "markdown",
   "id": "e613360e",
   "metadata": {
    "papermill": {
     "duration": 0.004014,
     "end_time": "2024-09-05T18:30:28.312686",
     "exception": false,
     "start_time": "2024-09-05T18:30:28.308672",
     "status": "completed"
    },
    "tags": []
   },
   "source": [
    "In this notebook, we look at the **backpropagation algorithm** (BP) for efficient gradient computation on computational graphs. Backpropagation involves local message passing of values in the forward pass, and gradients in the backward pass. Neural networks are computational graphs with nodes for differentiable operations. The time complexity of BP is linear in the size of the network, i.e. the total number of edges and compute nodes. This fact allows scaling training large neural networks. We will implement a minimal scalar-valued **autograd engine** and a neural network library[^1] on top it to train a small regression model.\n",
    "\n",
    "[^1]: Inspired by https://github.com/karpathy/micrograd."
   ]
  },
  {
   "cell_type": "code",
   "execution_count": 1,
   "id": "7f83d3be",
   "metadata": {
    "execution": {
     "iopub.execute_input": "2024-09-05T18:30:28.329369Z",
     "iopub.status.busy": "2024-09-05T18:30:28.328773Z",
     "iopub.status.idle": "2024-09-05T18:30:28.468256Z",
     "shell.execute_reply": "2024-09-05T18:30:28.467710Z"
    },
    "papermill": {
     "duration": 0.151715,
     "end_time": "2024-09-05T18:30:28.469706",
     "exception": false,
     "start_time": "2024-09-05T18:30:28.317991",
     "status": "completed"
    },
    "tags": [
     "remove-cell"
    ]
   },
   "outputs": [],
   "source": [
    "!rm chapter.py; touch chapter.py"
   ]
  },
  {
   "attachments": {},
   "cell_type": "markdown",
   "id": "9cfe5346",
   "metadata": {
    "papermill": {
     "duration": 0.002411,
     "end_time": "2024-09-05T18:30:28.474788",
     "exception": false,
     "start_time": "2024-09-05T18:30:28.472377",
     "status": "completed"
    },
    "tags": []
   },
   "source": [
    "## BP on computational graphs"
   ]
  },
  {
   "cell_type": "markdown",
   "id": "d11cd9ea",
   "metadata": {
    "papermill": {
     "duration": 0.002276,
     "end_time": "2024-09-05T18:30:28.479630",
     "exception": false,
     "start_time": "2024-09-05T18:30:28.477354",
     "status": "completed"
    },
    "tags": []
   },
   "source": [
    "A neural network can be implemented as a **directed acyclic graph** (DAG) of nodes that models a function $f$, i.e. all computation flows from an input $\\boldsymbol{\\mathsf{x}}$ to an output node $f(\\boldsymbol{\\mathsf{x}})$ with no cycles. \n",
    "During training, this is extended to implement the calculation of the loss.\n",
    "Recall that our goal is to obtain optimal parameter node values $\\hat{\\boldsymbol{\\Theta}}$ after optimization (e.g. with SGD) such that the $f_{\\hat{\\boldsymbol{\\Theta}}}$ minimizes the expected value of the loss function $\\ell.$ Backpropagation allows us to efficiently compute $\\nabla_{\\boldsymbol{\\Theta}} \\ell$ for SGD after $(\\boldsymbol{\\mathsf{x}}, y) \\in \\mathcal{B}$ is passed to the input nodes."
   ]
  },
  {
   "cell_type": "markdown",
   "id": "cc5f9e81",
   "metadata": {
    "papermill": {
     "duration": 0.002266,
     "end_time": "2024-09-05T18:30:28.484185",
     "exception": false,
     "start_time": "2024-09-05T18:30:28.481919",
     "status": "completed"
    },
    "tags": []
   },
   "source": [
    "```{figure} ../../../img/nn/03-comp-graph.png\n",
    "---\n",
    "width: 700px\n",
    "name: compute\n",
    "align: center\n",
    "---\n",
    "Computational graph of a dense layer. Note that parameter nodes (yellow) always have zero fan-in.\n",
    "```"
   ]
  },
  {
   "attachments": {},
   "cell_type": "markdown",
   "id": "0939458c",
   "metadata": {
    "papermill": {
     "duration": 0.002533,
     "end_time": "2024-09-05T18:30:28.488880",
     "exception": false,
     "start_time": "2024-09-05T18:30:28.486347",
     "status": "completed"
    },
    "tags": []
   },
   "source": [
    "**Forward pass.** Forward pass computes $f_{\\boldsymbol{\\Theta}}(\\boldsymbol{\\mathsf{x}}).$ All compute nodes are executed starting from the input nodes (which evaluates to the input vector $\\boldsymbol{\\mathsf x}$). This passed to its child nodes, and so on up to the loss node. The output value of each node is stored to avoid recomputation for child nodes that depend on the same node. This also preserves the network state for backward pass. Finally, forward pass builds the computational graph which is stored in memory. It follows that forward pass for one input is roughly $O(\\mathsf{E})$ in time and memory where $\\mathsf{E}$ is the number of edges of the graph."
   ]
  },
  {
   "attachments": {},
   "cell_type": "markdown",
   "id": "5d57df57",
   "metadata": {
    "papermill": {
     "duration": 0.003492,
     "end_time": "2024-09-05T18:30:28.495284",
     "exception": false,
     "start_time": "2024-09-05T18:30:28.491792",
     "status": "completed"
    },
    "tags": []
   },
   "source": [
    "**Backward pass.** Backward computes gradients starting from the loss node $\\ell$ down \n",
    "to the input nodes $\\boldsymbol{\\mathsf{x}}.$ \n",
    "The gradient of $\\ell$ with respect to itself is $1$. This serves as the base step.\n",
    "For any other node $u$ in the graph, we can assume that the **global gradient**\n",
    "${\\partial \\ell}/{\\partial v}$ is cached for each node $v \\in N_u$, where $N_u$ are all nodes \n",
    "in the graph that depend on $u$. On the other hand, the **local gradient**\n",
    "${\\partial v}/{\\partial u}$ is determined analytically based on the functional\n",
    "dependence of $v$ upon $u.$ These are computed at runtime given current node values\n",
    "cached during forward pass.\n",
    "\n",
    "The global gradient with respect to node $u$ can then be inductively calculated using the chain \n",
    "rule:\n",
    "\n",
    "$$\n",
    "\\frac{\\partial \\ell}{\\partial u} = \\sum_{v \\in N_u} \\frac{\\partial \\ell}{\\partial v} \\frac{\\partial v}{\\partial u}.\n",
    "$$\n",
    "\n",
    "This can be visualized as gradients flowing from the loss node to each network node. \n",
    "The flow of gradients will end on parameter and input nodes which depend on no other\n",
    "nodes. These are called **leaf nodes**. It follows that the algorithm terminates.\n",
    "\n",
    "```{figure} ../../../img/backward-1.svg\n",
    "---\n",
    "width: 80%\n",
    "name: backward-1\n",
    "align: center\n",
    "---\n",
    "Computing the global gradient for a single node. Note that gradient type is distinguished by color: **local** (red) and **global** (blue).\n",
    "```"
   ]
  },
  {
   "attachments": {},
   "cell_type": "markdown",
   "id": "171d57a9",
   "metadata": {
    "papermill": {
     "duration": 0.003907,
     "end_time": "2024-09-05T18:30:28.505922",
     "exception": false,
     "start_time": "2024-09-05T18:30:28.502015",
     "status": "completed"
    },
    "tags": []
   },
   "source": [
    "This can be visualized as gradients flowing to each network node from the loss node. The flow of gradients will end on parameter and input nodes which have zero fan-in. Global gradients are stored in each compute node in the `grad` attribute for use by the next layer, along with node values obtained during forward pass which are used in local gradient computation. Memory can be released after the weights are updated. On the other hand, there is no need to store local gradients as these are computed as needed. \n",
    "\n",
    "Backward pass is implemented as follows:"
   ]
  },
  {
   "attachments": {},
   "cell_type": "markdown",
   "id": "0d84bf75",
   "metadata": {
    "papermill": {
     "duration": 0.003404,
     "end_time": "2024-09-05T18:30:28.512139",
     "exception": false,
     "start_time": "2024-09-05T18:30:28.508735",
     "status": "completed"
    },
    "tags": []
   },
   "source": [
    "```python\n",
    "class Node:\n",
    "    ...\n",
    "\n",
    "    def sorted_nodes(self):\n",
    "        \"\"\"Return topologically sorted nodes with self as root.\"\"\"\n",
    "        ...\n",
    "\n",
    "    def backward(self):\n",
    "        self.grad = 1.0\n",
    "        for node in self.sorted_nodes():\n",
    "            for parent in node._parents:\n",
    "                parent.grad += node.grad * node._local_grad(parent)\n",
    "\n",
    "```"
   ]
  },
  {
   "attachments": {},
   "cell_type": "markdown",
   "id": "5c053335",
   "metadata": {
    "papermill": {
     "duration": 0.003546,
     "end_time": "2024-09-05T18:30:28.519692",
     "exception": false,
     "start_time": "2024-09-05T18:30:28.516146",
     "status": "completed"
    },
    "tags": []
   },
   "source": [
    "Each node has to wait for all incoming gradients from dependent nodes before passing the gradient to its parents. This is done by [topological sorting](https://en.wikipedia.org/wiki/Topological_sorting) of the nodes, based on functional dependency, with `self` as root (i.e. the node calling `backward` is always treated as the terminal node). \n",
    "The contributions of child nodes are then accumulated based on the chain rule, where\n",
    "`node.grad` is the global gradient which is equal to `∂self / ∂node`, while the local gradient `node._local_grad(parent)` is equal to `∂node / ∂parent`. By construction, each child node occurs before any of its parent nodes, thus the full gradient of a child node is calculated before it is sent to its parent nodes ({numref}`03-parent-child-nodes`)."
   ]
  },
  {
   "cell_type": "markdown",
   "id": "f9973de3",
   "metadata": {
    "papermill": {
     "duration": 0.002597,
     "end_time": "2024-09-05T18:30:28.524844",
     "exception": false,
     "start_time": "2024-09-05T18:30:28.522247",
     "status": "completed"
    },
    "tags": []
   },
   "source": [
    "```{figure} ../../../img/nn/03-parent-child-nodes.png\n",
    "---\n",
    "width: 100%\n",
    "name: 03-parent-child-nodes\n",
    "---\n",
    "Equivalent ways of computing the global gradient. (**left**) The global gradient is computed by tracking the dependencies from $u$ to each of its child node during forward pass. This is our formal statement before. Algorithmically, we start from each node in the upper layer, and we contribute one term in the sum to each parent node (**right**). Note that this assumes that the global gradient at $v$ has been fully accumulated / calculated.\n",
    "```"
   ]
  },
  {
   "cell_type": "markdown",
   "id": "95b3cad2",
   "metadata": {
    "papermill": {
     "duration": 0.002454,
     "end_time": "2024-09-05T18:30:28.529702",
     "exception": false,
     "start_time": "2024-09-05T18:30:28.527248",
     "status": "completed"
    },
    "tags": []
   },
   "source": [
    "## Topological sorting with DFS"
   ]
  },
  {
   "cell_type": "markdown",
   "id": "72ee7be5",
   "metadata": {
    "papermill": {
     "duration": 0.003141,
     "end_time": "2024-09-05T18:30:28.536229",
     "exception": false,
     "start_time": "2024-09-05T18:30:28.533088",
     "status": "completed"
    },
    "tags": []
   },
   "source": [
    "To construct the topologically sorted list of nodes of a DAG starting from a terminal node, we use [depth-first search](https://www.geeksforgeeks.org/topological-sorting/). The following example is shown in {numref}`00-toposort`. The following algorithm steps into `dfs` for each parent node until a leaf node is reached, which is pushed immediately to `topo`. Then, the algorithm steps out and the next parent node is processed. A node is only pushed when all its parents have been pushed (i.e. already in `topo` or finished looping through its parents), preserving the required linear ordering."
   ]
  },
  {
   "cell_type": "code",
   "execution_count": 2,
   "id": "40f853aa",
   "metadata": {
    "execution": {
     "iopub.execute_input": "2024-09-05T18:30:28.542157Z",
     "iopub.status.busy": "2024-09-05T18:30:28.541922Z",
     "iopub.status.idle": "2024-09-05T18:30:28.549469Z",
     "shell.execute_reply": "2024-09-05T18:30:28.549096Z"
    },
    "papermill": {
     "duration": 0.012139,
     "end_time": "2024-09-05T18:30:28.550809",
     "exception": false,
     "start_time": "2024-09-05T18:30:28.538670",
     "status": "completed"
    },
    "tags": []
   },
   "outputs": [
    {
     "name": "stdout",
     "output_type": "stream",
     "text": [
      "v f\n",
      "v d\n",
      "v x\n",
      "t ['x']\n",
      "v a\n",
      "t ['x', 'a']\n",
      "v c\n",
      "v a\n",
      "v b\n",
      "t ['x', 'a', 'b']\n",
      "t ['x', 'a', 'b', 'c']\n",
      "t ['x', 'a', 'b', 'c', 'd']\n",
      "t ['x', 'a', 'b', 'c', 'd', 'f']\n"
     ]
    },
    {
     "data": {
      "text/plain": [
       "['f', 'd', 'c', 'b', 'a', 'x']"
      ]
     },
     "execution_count": 2,
     "metadata": {},
     "output_type": "execute_result"
    }
   ],
   "source": [
    "from collections import OrderedDict\n",
    "\n",
    "parents = {\n",
    "    \"a\": [],\n",
    "    \"b\": [],\n",
    "    \"x\": [],\n",
    "    \"c\": [\"a\", \"b\"],\n",
    "    \"d\": [\"x\", \"a\", \"c\"],\n",
    "    \"e\": [\"c\"],\n",
    "    \"f\": [\"d\"]\n",
    "}\n",
    "\n",
    "def sorted_nodes(root):\n",
    "    \"\"\"Return topologically sorted nodes with self as root.\"\"\"\n",
    "    topo = OrderedDict()\n",
    "    \n",
    "    def dfs(node):\n",
    "        print(\"v\", node)\n",
    "        if node not in topo:\n",
    "            for parent in parents[node]:\n",
    "                dfs(parent)\n",
    "            \n",
    "            topo[node] = None\n",
    "            print(\"t\", list(topo.keys()))\n",
    "\n",
    "    dfs(root)\n",
    "    return reversed(topo)\n",
    "\n",
    "list(sorted_nodes(\"f\"))"
   ]
  },
  {
   "cell_type": "markdown",
   "id": "2d4d7689",
   "metadata": {},
   "source": [
    "**Remark.** Note that we get infinite recursion if there is a cycle in the graph, so the acyclic hypothesis is important for the algorithm to terminate. A way to detect cycles is to maintain a set of *visited* nodes. Revisiting a node that is not pushed to the output queue means that the graph is cyclic (see above outputs where `v` indicates visiting the node)."
   ]
  },
  {
   "cell_type": "markdown",
   "id": "8e5306de",
   "metadata": {
    "papermill": {
     "duration": 0.002514,
     "end_time": "2024-09-05T18:30:28.555955",
     "exception": false,
     "start_time": "2024-09-05T18:30:28.553441",
     "status": "completed"
    },
    "tags": []
   },
   "source": [
    "```{figure} ../../../img/nn/00-toposort.png\n",
    "---\n",
    "width: 600px\n",
    "name: 00-toposort\n",
    "align: center\n",
    "---\n",
    "(a) Graph encoded in the `parents` dictionary above. Note `e`, which `f` has no dependence on, is excluded.\n",
    "Visited nodes (red) starts from the terminal node backwards into the graph. Then, each node is pushed  once all its parents are pushed (starting from leaf nodes, yellow), preserving topological ordering. Here `a` is not pushed twice, even if both `d` and `c` depends on it, since `a` has already been visited after node `d`. (b) Topological sorting exposes a linear ordering of the compute nodes.\n",
    "```"
   ]
  },
  {
   "cell_type": "markdown",
   "id": "2014acba",
   "metadata": {
    "papermill": {
     "duration": 0.002493,
     "end_time": "2024-09-05T18:30:28.560940",
     "exception": false,
     "start_time": "2024-09-05T18:30:28.558447",
     "status": "completed"
    },
    "tags": []
   },
   "source": [
    "<br>\n",
    "\n",
    "## Properties of backpropagation"
   ]
  },
  {
   "cell_type": "markdown",
   "id": "4b7c2153",
   "metadata": {
    "papermill": {
     "duration": 0.002617,
     "end_time": "2024-09-05T18:30:28.566045",
     "exception": false,
     "start_time": "2024-09-05T18:30:28.563428",
     "status": "completed"
    },
    "tags": []
   },
   "source": [
    "Some characteristics of backprop which explains why it is ubiquitous in deep learning:"
   ]
  },
  {
   "cell_type": "markdown",
   "id": "fbed5429",
   "metadata": {
    "papermill": {
     "duration": 0.002403,
     "end_time": "2024-09-05T18:30:28.571162",
     "exception": false,
     "start_time": "2024-09-05T18:30:28.568759",
     "status": "completed"
    },
    "tags": []
   },
   "source": [
    "* **Modularity.** Backprop is a useful tool for reasoning about gradient flow and can suggest ways to improve training or network design. Moreover, since it only requires local gradients between nodes, it allows modularity when designing deep neural networks. \n",
    "In other words, we can (in principle) arbitrarily connect layers of computation. Another interesting fact is that a set of operations can be fused into a single node, resulting in more efficient computation (assuming there is an efficient way to solve for the local gradient in one step)."
   ]
  },
  {
   "attachments": {},
   "cell_type": "markdown",
   "id": "49fbc2ff",
   "metadata": {
    "papermill": {
     "duration": 0.003209,
     "end_time": "2024-09-05T18:30:28.578275",
     "exception": false,
     "start_time": "2024-09-05T18:30:28.575066",
     "status": "completed"
    },
    "tags": []
   },
   "source": [
    "* **Runtime.** Each edge in the DAG is passed exactly once ({numref}`03-parent-child-nodes`). Hence, the time complexity for finding global gradients is $O(\\mathsf{E} + \\mathsf{V})$ where $\\mathsf{E}$ is the number of edges in the graph and $\\mathsf{V}$ is the number of vertices. Moreover, we assume that each compute node and local gradient evaluation is $O(1)$. It follows that computing $\\nabla_{\\boldsymbol{\\Theta}}\\,\\mathcal{L}$ for an instance $(\\boldsymbol{\\mathsf{x}}, y)$ is proportional to the network size, i.e. the same complexity as computing $f(\\boldsymbol{\\mathsf{x}})$. Note that topological sorting of the nodes require the same time complexity."
   ]
  },
  {
   "cell_type": "markdown",
   "id": "40b70efe",
   "metadata": {
    "papermill": {
     "duration": 0.003041,
     "end_time": "2024-09-05T18:30:28.584270",
     "exception": false,
     "start_time": "2024-09-05T18:30:28.581229",
     "status": "completed"
    },
    "tags": []
   },
   "source": [
    "* **Memory.** Each training step naively requires twice the memory for an inference step, since we store both gradients and values. This can be improved by releasing the gradients and neurons of non-leaf nodes in the previous layer once a layer finishes computing its gradient. "
   ]
  },
  {
   "cell_type": "markdown",
   "id": "8a16a757",
   "metadata": {
    "papermill": {
     "duration": 0.002317,
     "end_time": "2024-09-05T18:30:28.588896",
     "exception": false,
     "start_time": "2024-09-05T18:30:28.586579",
     "status": "completed"
    },
    "tags": []
   },
   "source": [
    "* **GPU parallelism.** Forward computation can generally be parallelized in the batch dimension and often times in the layer dimension. This can leverage massive parallelism in the GPU significantly decreasing runtime by trading off memory. The same is true for backward pass which can also be expressed in terms of matrix multiplications! {eq}`backprop-output`"
   ]
  },
  {
   "cell_type": "markdown",
   "id": "33ce1db0",
   "metadata": {
    "papermill": {
     "duration": 0.002252,
     "end_time": "2024-09-05T18:30:28.593450",
     "exception": false,
     "start_time": "2024-09-05T18:30:28.591198",
     "status": "completed"
    },
    "tags": []
   },
   "source": [
    "<br>\n",
    "\n",
    "## Readings\n",
    "\n",
    "- [Back-propagation, an introduction](https://www.offconvex.org/2016/12/20/backprop/)\n",
    "- [Evaluating $\\nabla f(x)$ is as fast as $f(x).$](https://timvieira.github.io/blog/post/2016/09/25/evaluating-fx-is-as-fast-as-fx/)\n",
    "- [Pytorch autograd explained - in-depth tutorial](https://www.youtube.com/watch?v=MswxJw-8PvE)\n",
    "- [The spelled-out intro to neural networks and backpropagation: building micrograd](https://www.youtube.com/watch?v=VMj-3S1tku0)"
   ]
  },
  {
   "cell_type": "code",
   "execution_count": null,
   "id": "50fe1e43",
   "metadata": {
    "papermill": {
     "duration": 0.002269,
     "end_time": "2024-09-05T18:30:28.598050",
     "exception": false,
     "start_time": "2024-09-05T18:30:28.595781",
     "status": "completed"
    },
    "tags": []
   },
   "outputs": [],
   "source": []
  }
 ],
 "metadata": {
  "kernelspec": {
   "display_name": ".venv",
   "language": "python",
   "name": "python3"
  },
  "language_info": {
   "codemirror_mode": {
    "name": "ipython",
    "version": 3
   },
   "file_extension": ".py",
   "mimetype": "text/x-python",
   "name": "python",
   "nbconvert_exporter": "python",
   "pygments_lexer": "ipython3",
   "version": "3.10.4"
  },
  "papermill": {
   "default_parameters": {},
   "duration": 1.477609,
   "end_time": "2024-09-05T18:30:28.717040",
   "environment_variables": {},
   "exception": null,
   "input_path": "00-backprop.ipynb",
   "output_path": "00-backprop.ipynb",
   "parameters": {},
   "start_time": "2024-09-05T18:30:27.239431",
   "version": "2.6.0"
  }
 },
 "nbformat": 4,
 "nbformat_minor": 5
}
